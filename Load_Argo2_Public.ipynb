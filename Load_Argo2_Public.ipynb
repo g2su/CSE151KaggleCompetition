{
 "cells": [
  {
   "cell_type": "markdown",
   "id": "718c38cf",
   "metadata": {},
   "source": [
    "## Install the package dependencies before running this notebook"
   ]
  },
  {
   "cell_type": "code",
   "execution_count": 5,
   "id": "16ac7530",
   "metadata": {},
   "outputs": [
    {
     "data": {
      "text/plain": [
       "'\\n    number of trajectories in each city \\n    # austin --  train: 43041 test: 6325 \\n    # miami -- train: 55029 test:7971 \\n    # pittsburgh -- train: 43544 test: 6361 \\n    # dearborn -- train: 24465 test: 3671 \\n    # washington-dc -- train: 25744 test: 3829 \\n    # palo-alto -- train:  11993 test:1686 \\n\\n    trajectories sampled at 10HZ rate, input 5 seconds, output 6 seconds\\n    \\n'"
      ]
     },
     "execution_count": 5,
     "metadata": {},
     "output_type": "execute_result"
    }
   ],
   "source": [
    "import torch\n",
    "from torch.utils.data import Dataset, DataLoader\n",
    "import os, os.path \n",
    "import numpy \n",
    "import pickle\n",
    "from glob import glob\n",
    "from tqdm import tqdm\n",
    "import pandas as pd\n",
    "\n",
    "\"\"\"\n",
    "    number of trajectories in each city \n",
    "    # austin --  train: 43041 test: 6325 \n",
    "    # miami -- train: 55029 test:7971 \n",
    "    # pittsburgh -- train: 43544 test: 6361 \n",
    "    # dearborn -- train: 24465 test: 3671 \n",
    "    # washington-dc -- train: 25744 test: 3829 \n",
    "    # palo-alto -- train:  11993 test:1686 \n",
    "\n",
    "    trajectories sampled at 10HZ rate, input 5 seconds, output 6 seconds\n",
    "    \n",
    "\"\"\""
   ]
  },
  {
   "cell_type": "markdown",
   "id": "0b472cf2",
   "metadata": {},
   "source": [
    "## Create a Torch.Dataset class for the training dataset"
   ]
  },
  {
   "cell_type": "code",
   "execution_count": 6,
   "id": "091abbb7",
   "metadata": {},
   "outputs": [],
   "source": [
    "from glob import glob\n",
    "import pickle5 as pickle\n",
    "import numpy as np\n",
    "\n",
    "ROOT_PATH = \"./argo2/\"\n",
    "\n",
    "cities = [\"austin\", \"miami\", \"pittsburgh\", \"dearborn\", \"washington-dc\", \"palo-alto\"]\n",
    "splits = [\"train\", \"test\"]\n",
    "\n",
    "def get_city_trajectories(city=\"palo-alto\", split=\"train\", normalized=False):\n",
    "    #f_in = ROOT_PATH + split + \"/\" + city + \"_inputs\"\n",
    "    f_in = split + '/' + city + \"_inputs\"\n",
    "    inputs = pickle.load(open(f_in, \"rb\"))\n",
    "    inputs = np.asarray(inputs)\n",
    "    \n",
    "    outputs = None\n",
    "    \n",
    "    if split==\"train\":\n",
    "        #f_out = ROOT_PATH + split + \"/\" + city + \"_outputs\"\n",
    "        f_out = split + '/' + city + \"_outputs\"\n",
    "        outputs = pickle.load(open(f_out, \"rb\"))\n",
    "        outputs = np.asarray(outputs)\n",
    "\n",
    "    return inputs, outputs\n",
    "\n",
    "class ArgoverseDataset(Dataset):\n",
    "    \"\"\"Dataset class for Argoverse\"\"\"\n",
    "    def __init__(self, city: str, split:str, transform=None):\n",
    "        super(ArgoverseDataset, self).__init__()\n",
    "        self.transform = transform\n",
    "\n",
    "        self.inputs, self.outputs = get_city_trajectories(city=city, split=split, normalized=False)\n",
    "\n",
    "    def __len__(self):\n",
    "        return len(self.inputs)\n",
    "\n",
    "    def __getitem__(self, idx):\n",
    "\n",
    "        data = (self.inputs[idx], self.outputs[idx])\n",
    "            \n",
    "        if self.transform:\n",
    "            data = self.transform(data)\n",
    "\n",
    "        return data\n",
    "\n",
    "# intialize a dataset\n",
    "city = 'palo-alto' \n",
    "split = 'train'\n",
    "train_dataset  = ArgoverseDataset(city = city, split = split)"
   ]
  },
  {
   "cell_type": "markdown",
   "id": "058453cc",
   "metadata": {},
   "source": [
    "## Create a DataLoader class for training"
   ]
  },
  {
   "cell_type": "code",
   "execution_count": 7,
   "id": "5c14f0e7",
   "metadata": {},
   "outputs": [],
   "source": [
    "batch_sz = 4  # batch size \n",
    "train_loader = DataLoader(train_dataset,batch_size=batch_sz)"
   ]
  },
  {
   "cell_type": "markdown",
   "id": "6f80b5e4",
   "metadata": {},
   "source": [
    "## Sample a batch of data and visualize "
   ]
  },
  {
   "cell_type": "code",
   "execution_count": 8,
   "id": "c6507c9a",
   "metadata": {},
   "outputs": [
    {
     "data": {
      "image/png": "[encoded data removed]",
      "text/plain": [
       "<Figure size 1080x216 with 4 Axes>"
      ]
     },
     "metadata": {},
     "output_type": "display_data"
    }
   ],
   "source": [
    "import matplotlib.pyplot as plt\n",
    "import random\n",
    "\n",
    "\n",
    "def show_sample_batch(sample_batch):\n",
    "    \"\"\"visualize the trajectory for a batch of samples\"\"\"\n",
    "    inp, out = sample_batch\n",
    "    batch_sz = inp.size(0)\n",
    "    agent_sz = inp.size(1)\n",
    "    \n",
    "    fig, axs = plt.subplots(1,batch_sz, figsize=(15, 3), facecolor='w', edgecolor='k')\n",
    "    fig.subplots_adjust(hspace = .5, wspace=.001)\n",
    "    axs = axs.ravel()   \n",
    "    for i in range(batch_sz):\n",
    "        axs[i].xaxis.set_ticks([])\n",
    "        axs[i].yaxis.set_ticks([])\n",
    "        \n",
    "        # first two feature dimensions are (x,y) positions\n",
    "        axs[i].scatter(inp[i,:,0], inp[i,:,1])\n",
    "        axs[i].scatter(out[i,:,0], out[i,:,1])\n",
    "\n",
    "        \n",
    "for i_batch, sample_batch in enumerate(train_loader):\n",
    "    inp, out = sample_batch\n",
    "    \"\"\"\n",
    "    TODO:\n",
    "      implement your Deep learning model\n",
    "      implement training routine\n",
    "    \"\"\"\n",
    "    show_sample_batch(sample_batch)\n",
    "    \n",
    "    break"
   ]
  },
  {
   "cell_type": "code",
   "execution_count": 9,
   "id": "99059029-3938-432d-87da-03ae48993d0f",
   "metadata": {},
   "outputs": [],
   "source": [
    "train_city_datasets = [ArgoverseDataset(city, split = \"train\") for city in cities]\n",
    "train_inp_datasets = []\n",
    "train_out_datasets = []\n",
    "for dataset in train_city_datasets:\n",
    "    inp, out = dataset[:]\n",
    "    train_inp_datasets.append(inp)\n",
    "    train_out_datasets.append(out)"
   ]
  },
  {
   "cell_type": "code",
   "execution_count": 10,
   "id": "8a433c03-13df-42fa-93fb-7e9e65fd177b",
   "metadata": {},
   "outputs": [],
   "source": [
    "\"\"\"\n",
    "\n",
    "from torch.autograd import Variable\n",
    "import torch.nn.functional as F\n",
    "from fastprogress import master_bar, progress_bar\n",
    "\n",
    "def make_valid_set(train_inp, train_out, train_subset = 0.8):\n",
    "    if len(train_inp) != len(train_out):\n",
    "        raise ValueError(\"Input and output lengths should be the same!\")\n",
    "    n = len(train_inp)\n",
    "    \n",
    "    split = int(n * train_subset)\n",
    "    new_train_inp = train_inp[:split]\n",
    "    new_train_out = train_out[:split]\n",
    "    valid_inp = train_inp[split:]\n",
    "    valid_out = train_out[split:]\n",
    "    \n",
    "    return new_train_inp, new_train_out, valid_inp, valid_out\n",
    "\n",
    "austin_trainX, austin_trainY, austin_valX, austin_valY = make_valid_set(train_inp_datasets[0], train_out_datasets[0])\n",
    "\"\"\"\n",
    "print(end = '')"
   ]
  },
  {
   "cell_type": "code",
   "execution_count": 11,
   "id": "fbfb0f32-a60d-4489-97a4-4686462049cf",
   "metadata": {},
   "outputs": [],
   "source": [
    "from torch import nn\n",
    "\n",
    "class ShallowRegressionLSTM(nn.Module):\n",
    "    def __init__(self, num_sensors, hidden_units):\n",
    "        super().__init__()\n",
    "        self.num_sensors = num_sensors  # this is the number of features\n",
    "        self.hidden_units = hidden_units\n",
    "        self.num_layers = 1\n",
    "\n",
    "        self.lstm = nn.LSTM(\n",
    "            input_size=num_sensors,\n",
    "            hidden_size=hidden_units,\n",
    "            batch_first=True,\n",
    "            num_layers=self.num_layers\n",
    "        )\n",
    "\n",
    "        self.linear = nn.Linear(in_features=self.hidden_units, out_features=2)\n",
    "\n",
    "    def forward(self, x):\n",
    "        batch_size = x.shape[0]\n",
    "        h0 = torch.zeros(self.num_layers, batch_size, self.hidden_units).requires_grad_()\n",
    "        c0 = torch.zeros(self.num_layers, batch_size, self.hidden_units).requires_grad_()\n",
    "\n",
    "        _, (hn, _) = self.lstm(x, (h0, c0))\n",
    "        out = self.linear(hn[0])\n",
    "\n",
    "        return out"
   ]
  },
  {
   "cell_type": "code",
   "execution_count": 12,
   "id": "33021f95-4306-40b3-aca5-97c3bfa047f7",
   "metadata": {},
   "outputs": [],
   "source": [
    "import math\n",
    "batch_size = 4\n",
    "length = len(train_city_datasets[0])\n",
    "temp = torch.utils.data.random_split(train_city_datasets[0], [math.floor(length*0.8), math.ceil(length*0.2)])\n",
    "train_loader = DataLoader(temp[0], batch_size=batch_size)\n",
    "val_loader = DataLoader(temp[1], batch_size=batch_size)"
   ]
  },
  {
   "cell_type": "code",
   "execution_count": 13,
   "id": "18c9b6a0-584c-4cbd-af29-7aa38966bf77",
   "metadata": {},
   "outputs": [],
   "source": [
    "learning_rate = 5e-5\n",
    "num_hidden_units = 16\n",
    "\n",
    "model = ShallowRegressionLSTM(num_sensors=2, hidden_units=num_hidden_units)\n",
    "loss_function = nn.MSELoss()\n",
    "optimizer = torch.optim.Adam(model.parameters(), lr=learning_rate)"
   ]
  },
  {
   "cell_type": "code",
   "execution_count": 14,
   "id": "8cf77e8a-4bc0-4ae4-8faa-cedbf932333e",
   "metadata": {},
   "outputs": [],
   "source": [
    "\"\"\"\n",
    "def train_model(data_loader, model, loss_function, optimizer):\n",
    "    num_batches = len(data_loader)\n",
    "    total_loss = 0\n",
    "    model.train()\n",
    "    for X, y in train_loader:\n",
    "        output = model(X.float())\n",
    "        loss = loss_function(output, y.float())\n",
    "\n",
    "        optimizer.zero_grad()\n",
    "        loss.backward()\n",
    "        optimizer.step()\n",
    "\n",
    "        total_loss += loss.item()\n",
    "\n",
    "    avg_loss = total_loss / num_batches\n",
    "    print(f\"Train loss: {avg_loss}\")\n",
    "\n",
    "def test_model(data_loader, model, loss_function):\n",
    "\n",
    "    num_batches = len(data_loader)\n",
    "    total_loss = 0\n",
    "\n",
    "    model.eval()\n",
    "    with torch.no_grad():\n",
    "        for X, y in data_loader:\n",
    "            output = model(X.float())\n",
    "            total_loss += loss_function(output, y.float()).item()\n",
    "\n",
    "    avg_loss = total_loss / num_batches\n",
    "    print(f\"Test loss: {avg_loss}\")\n",
    "\n",
    "\n",
    "print(\"Untrained test\\n--------\")\n",
    "test_model(val_loader, model, loss_function)\n",
    "print()\n",
    "\n",
    "for ix_epoch in range(2):\n",
    "    print(f\"Epoch {ix_epoch}\\n---------\")\n",
    "    train_model(train_loader, model, loss_function, optimizer=optimizer)\n",
    "    test_model(val_loader, model, loss_function)\n",
    "    print()\n",
    "\"\"\"\n",
    "print('', end = '')"
   ]
  },
  {
   "cell_type": "code",
   "execution_count": 15,
   "id": "959faca7-33ed-4dac-829a-bec567d440c1",
   "metadata": {},
   "outputs": [
    {
     "data": {
      "image/png": "[encoded data removed]",
      "text/plain": [
       "<Figure size 3150x1800 with 7 Axes>"
      ]
     },
     "metadata": {},
     "output_type": "display_data"
    },
    {
     "data": {
      "image/png": "[encoded data removed]",
      "text/plain": [
       "<Figure size 3150x1800 with 7 Axes>"
      ]
     },
     "metadata": {},
     "output_type": "display_data"
    }
   ],
   "source": [
    "fig_inp, axs_inp = plt.subplots(2, int(len(cities)/2), figsize = (21, 12), dpi = 150, facecolor = \"white\")\n",
    "fig_out, axs_out = plt.subplots(2, int(len(cities)/2), figsize = (21, 12), dpi = 150, facecolor = \"white\")\n",
    "\n",
    "for i in range(len(cities)):\n",
    "    city = cities[i]\n",
    "    inp, out = train_inp_datasets[i], train_out_datasets[i]\n",
    "    ax_inp = axs_inp.flatten()[i]\n",
    "    ax_out = axs_out.flatten()[i]\n",
    "    ax_inp.hist2d(inp[:,:,0].flatten(), inp[:,:,1].flatten(), bins = (100, 100))\n",
    "    ax_out.hist2d(out[:,:,0].flatten(), out[:,:,1].flatten(), bins = (100, 100))\n",
    "    ax_inp.set_title(city.title() + \" Input Distribution\")\n",
    "    ax_out.set_title(city.title() + \" Output Distribution\")\n",
    "\n",
    "cbar_inp = fig_inp.colorbar(mappable = ax_inp.pcolormesh([np.arange(0, 10 + 1)/10]), ax = axs_inp)\n",
    "cbar_out = fig_out.colorbar(mappable = ax_out.pcolormesh([np.arange(0, 10 + 1)/10]), ax = axs_out)\n",
    "cbar_inp.set_label(\"Relative Frequency\")\n",
    "cbar_out.set_label(\"Relative Frequency\")"
   ]
  },
  {
   "cell_type": "code",
   "execution_count": 16,
   "id": "5e117d06-c8fa-4a69-ae2e-6582669d5c2a",
   "metadata": {},
   "outputs": [],
   "source": [
    "train_inp_all = np.concatenate(train_inp_datasets)\n",
    "train_out_all = np.concatenate(train_out_datasets)"
   ]
  },
  {
   "cell_type": "code",
   "execution_count": 17,
   "id": "a2dd6bf9-8023-4036-8d74-1a0d1113d1d4",
   "metadata": {},
   "outputs": [
    {
     "name": "stderr",
     "output_type": "stream",
     "text": [
      "/Library/Frameworks/Python.framework/Versions/3.7/lib/python3.7/site-packages/ipykernel_launcher.py:5: MatplotlibDeprecationWarning: Starting from Matplotlib 3.6, colorbar() will steal space from the mappable's axes, rather than from the current axes, to place the colorbar.  To silence this warning, explicitly pass the 'ax' argument to colorbar().\n",
      "  \"\"\"\n"
     ]
    },
    {
     "data": {
      "image/png": "[encoded data removed]",
      "text/plain": [
       "<Figure size 900x800 with 2 Axes>"
      ]
     },
     "metadata": {
      "needs_background": "light"
     },
     "output_type": "display_data"
    }
   ],
   "source": [
    "plt.figure(figsize = (9, 8), dpi = 100)\n",
    "\n",
    "ax = plt.hist2d(train_inp_all[:,:,0].flatten(), train_inp_all[:,:,1].flatten(), bins = (100, 100))\n",
    "plt.title(\"All Cities Input Distribution\")\n",
    "plt.colorbar(mappable = ax_out.pcolormesh([np.arange(0, 10 + 1)/10]));"
   ]
  },
  {
   "cell_type": "code",
   "execution_count": 18,
   "id": "38bd4269-77a3-4ca3-ad7e-cf33f8e9055b",
   "metadata": {},
   "outputs": [
    {
     "name": "stderr",
     "output_type": "stream",
     "text": [
      "/Library/Frameworks/Python.framework/Versions/3.7/lib/python3.7/site-packages/ipykernel_launcher.py:5: MatplotlibDeprecationWarning: Starting from Matplotlib 3.6, colorbar() will steal space from the mappable's axes, rather than from the current axes, to place the colorbar.  To silence this warning, explicitly pass the 'ax' argument to colorbar().\n",
      "  \"\"\"\n"
     ]
    },
    {
     "data": {
      "image/png": "[encoded data removed]",
      "text/plain": [
       "<Figure size 900x800 with 2 Axes>"
      ]
     },
     "metadata": {
      "needs_background": "light"
     },
     "output_type": "display_data"
    }
   ],
   "source": [
    "plt.figure(figsize = (9, 8), dpi = 100)\n",
    "\n",
    "plt.hist2d(train_out_all[:,:,0].flatten(), train_out_all[:,:,1].flatten(), bins = (100, 100))\n",
    "plt.title(\"All Cities Output Distribution\")\n",
    "plt.colorbar(mappable = ax_out.pcolormesh([np.arange(0, 10 + 1)/10]));"
   ]
  },
  {
   "cell_type": "code",
   "execution_count": 19,
   "id": "e24814d4-4849-47b4-bdfc-c8390acf6b93",
   "metadata": {},
   "outputs": [
    {
     "data": {
      "text/plain": [
       "(203816, 50, 2)"
      ]
     },
     "execution_count": 19,
     "metadata": {},
     "output_type": "execute_result"
    }
   ],
   "source": [
    "train_inp_all.shape"
   ]
  },
  {
   "cell_type": "code",
   "execution_count": 20,
   "id": "ea71f0a8-b523-4302-a4e3-6b374dd25fc6",
   "metadata": {},
   "outputs": [
    {
     "data": {
      "text/plain": [
       "(203816, 60, 2)"
      ]
     },
     "execution_count": 20,
     "metadata": {},
     "output_type": "execute_result"
    }
   ],
   "source": [
    "train_out_all.shape"
   ]
  },
  {
   "cell_type": "code",
   "execution_count": 21,
   "id": "56f194b7-a86c-4cf3-9c1c-53d83f18e9e6",
   "metadata": {},
   "outputs": [],
   "source": [
    "test_city_datasets = [get_city_trajectories(city, split = \"test\")[0] for city in cities]\n",
    "test_inp_all = np.concatenate(test_city_datasets)"
   ]
  },
  {
   "cell_type": "code",
   "execution_count": 22,
   "id": "5d733c3d-20d5-402e-8143-37f050e3b7d0",
   "metadata": {},
   "outputs": [
    {
     "data": {
      "text/plain": [
       "(29843, 50, 2)"
      ]
     },
     "execution_count": 22,
     "metadata": {},
     "output_type": "execute_result"
    }
   ],
   "source": [
    "test_inp_all.shape"
   ]
  },
  {
   "cell_type": "code",
   "execution_count": 23,
   "id": "96f4dc90-558e-4494-8a09-92c24386cbd9",
   "metadata": {},
   "outputs": [],
   "source": [
    "def make_valid_set(train_inp, train_out, train_subset = 0.8):\n",
    "    if len(train_inp) != len(train_out):\n",
    "        raise ValueError(\"Input and output lengths should be the same!\")\n",
    "    n = len(train_inp)\n",
    "    \n",
    "    split = int(n * train_subset)\n",
    "    new_train_inp = train_inp[:split]\n",
    "    new_train_out = train_out[:split]\n",
    "    valid_inp = train_inp[split:]\n",
    "    valid_out = train_out[split:]\n",
    "    \n",
    "    return (new_train_inp, new_train_out), (valid_inp, valid_out)"
   ]
  },
  {
   "cell_type": "code",
   "execution_count": 24,
   "id": "128e2fb7-b159-4c5b-90db-d1880be7ed84",
   "metadata": {
    "tags": []
   },
   "outputs": [],
   "source": [
    "class LSTM(torch.nn.Module):\n",
    "    \"\"\"\n",
    "    Implementation of a character based LSTM R-NN for the prediction task.\n",
    "    \"\"\"\n",
    "    \n",
    "    def __init__(self, train_inp, train_out, sequence_length = 1, hidden_size = 100):\n",
    "        super(LSTM, self).__init__()\n",
    "        self.train_input, self.train_output = train_inp, train_out\n",
    "        self.train_input = torch.tensor(self.train_input).float()\n",
    "        self.train_output = torch.tensor(self.train_output).float()\n",
    "        if self.train_input.shape[1] % sequence_length == 0 and self.train_output.shape[1] % sequence_length == 0:\n",
    "            self.sequence_length = sequence_length\n",
    "        else:\n",
    "            raise ValueError(\"Input and output lengths must be divisible by given sequence length!\")\n",
    "        \n",
    "        input_size, output_size = self.train_input.shape[2], self.train_output.shape[2]\n",
    "        self.lstm = torch.nn.LSTM(input_size, hidden_size, num_layers = 1)\n",
    "        self.fc = torch.nn.Linear(hidden_size, output_size)\n",
    "        \n",
    "        \n",
    "    def forward(self, input_tensor, hidden_state):\n",
    "        if len(input_tensor.shape) == 2:\n",
    "            input_tensor = input_tensor.unsqueeze(dim = 0)\n",
    "        output, hidden_state = self.lstm(input_tensor, hidden_state)\n",
    "        output = self.fc(output)\n",
    "        return output, (hidden_state[0].detach(), hidden_state[1].detach())\n",
    "    \n",
    "    \n",
    "    def predict(self, input_tensor, output_length = 60):\n",
    "        if type(input_tensor) != torch.Tensor:\n",
    "            input_tensor = torch.Tensor(input_tensor)\n",
    "        input_tensor = input_tensor.float()\n",
    "        total_output = []\n",
    "        hidden_state = None\n",
    "        \n",
    "        for tensor in input_tensor:\n",
    "            tensor_output = []\n",
    "            input_coordinates = tensor[-self.sequence_length:]\n",
    "            for i in range(int(output_length / self.sequence_length)):\n",
    "                output, hidden_state = self(input_coordinates, hidden_state)\n",
    "                tensor_output.append(output)\n",
    "                \n",
    "                input_coordinates = torch.clone(output).detach()\n",
    "            total_output.append(torch.cat(tensor_output).unsqueeze(dim = 0))\n",
    "            \n",
    "        return torch.cat(total_output)\n",
    "    \n",
    "    \n",
    "    def evaluate(self, pred, true):\n",
    "        if type(pred) != torch.Tensor:\n",
    "            pred = torch.tensor(pred)\n",
    "        if type(true) != torch.Tensor:\n",
    "            true = torch.tensor(true)\n",
    "        pred = pred.float()\n",
    "        true = true.float()\n",
    "        \n",
    "        MSE = torch.nn.MSELoss()\n",
    "        loss = MSE(pred, true).item()\n",
    "        \n",
    "        return loss**(1/2)\n",
    "    \n",
    "    \n",
    "    def train(self, learning_rate = 1e-3, num_epochs = 100, batch_size = 1.0, valid = None):\n",
    "        n = len(self.train_input)\n",
    "        if batch_size > 1.0:\n",
    "            batch_n = batch_size\n",
    "        elif batch_size < 0:\n",
    "            raise ValueError(\"Batch size cannot be negative!\")\n",
    "        else:\n",
    "            batch_n = int(n * batch_size)\n",
    "        SSE = torch.nn.MSELoss(reduction = \"sum\")\n",
    "        optimizer = torch.optim.Adam(self.parameters(), lr = learning_rate)\n",
    "        train_loss = []\n",
    "        \n",
    "        if valid != None:\n",
    "            valid_loss = []\n",
    "            valid_inp, valid_out = valid\n",
    "            old_loss = None\n",
    "            new_loss = None\n",
    "            bad_count = 0\n",
    "        \n",
    "        for epoch in tqdm(range(num_epochs)):\n",
    "            epoch_SSE = 0\n",
    "            np.random.seed(epoch)\n",
    "            batch_idx = np.random.randint(n, size = batch_n)\n",
    "            batch_inp = self.train_input[batch_idx]\n",
    "            batch_out = self.train_output[batch_idx]\n",
    "            \n",
    "            for i in range(batch_n):\n",
    "                input_tensor = batch_inp[i]\n",
    "                input_coordinates = torch.unsqueeze(input_tensor[:self.sequence_length], dim = 0).float()\n",
    "                output_tensor = batch_out[i]\n",
    "                io_tensor = torch.cat([input_tensor, output_tensor])\n",
    "                hidden_state = None\n",
    "\n",
    "                use_output = False\n",
    "\n",
    "                for j in range(int((len(io_tensor) - 1) / self.sequence_length)):\n",
    "                    target_coordinates = torch.unsqueeze(io_tensor[(j + 1) * self.sequence_length : (j + 2) * self.sequence_length], dim = 0)\n",
    "\n",
    "                    output, hidden_state = self(input_coordinates, hidden_state)\n",
    "\n",
    "                    loss = SSE(output, target_coordinates)\n",
    "                    epoch_SSE += loss.item()\n",
    "\n",
    "                    optimizer.zero_grad()\n",
    "                    loss.backward()\n",
    "                    optimizer.step()\n",
    "\n",
    "                    input_coordinates = torch.clone(output).detach()\n",
    "            epoch_MSE = epoch_SSE / batch_n\n",
    "            epoch_RMSE = epoch_MSE**(1/2)\n",
    "            train_loss.append(epoch_RMSE)\n",
    "            \n",
    "            if valid != None:\n",
    "                valid_pred = self.predict(valid_inp)\n",
    "                valid_RMSE = self.evaluate(valid_pred, valid_out)\n",
    "                valid_loss.append(valid_RMSE)\n",
    "                new_loss = valid_RMSE\n",
    "                if old_loss != None:\n",
    "                    if new_loss >= old_loss:\n",
    "                        bad_count += 1\n",
    "                        if bad_count >= 3:\n",
    "                            print(\"Early stopped after epoch \", epoch)\n",
    "                            break\n",
    "                    else:\n",
    "                        bad_count = 0\n",
    "                old_loss = new_loss\n",
    "        \n",
    "        if valid != None:\n",
    "            return train_loss, valid_loss\n",
    "        else:\n",
    "            return train_loss\n"
   ]
  },
  {
   "cell_type": "code",
   "execution_count": 25,
   "id": "1e197ac6-45b7-4878-a409-9ee1d757954f",
   "metadata": {},
   "outputs": [],
   "source": [
    "train_inp_all_subset, train_out_all_subset = train_inp_all[:int(len(train_inp_all) / 100)], train_out_all[:int(len(train_out_all) / 100)]"
   ]
  },
  {
   "cell_type": "code",
   "execution_count": 26,
   "id": "6409bdf8-cb78-44f9-81ab-7ecf5dd2d146",
   "metadata": {},
   "outputs": [
    {
     "data": {
      "text/plain": [
       "2038"
      ]
     },
     "execution_count": 26,
     "metadata": {},
     "output_type": "execute_result"
    }
   ],
   "source": [
    "len(train_inp_all_subset)"
   ]
  },
  {
   "cell_type": "code",
   "execution_count": 27,
   "id": "7c94637c-4aac-43c4-96e8-063bbf60c3ff",
   "metadata": {},
   "outputs": [
    {
     "data": {
      "text/plain": [
       "True"
      ]
     },
     "execution_count": 27,
     "metadata": {},
     "output_type": "execute_result"
    }
   ],
   "source": [
    "len(train_inp_all_subset) == len(train_out_all_subset)"
   ]
  },
  {
   "cell_type": "code",
   "execution_count": 28,
   "id": "df134055-820e-4fd8-a26d-4860d9ddd047",
   "metadata": {},
   "outputs": [],
   "source": [
    "train_all, valid_all = make_valid_set(train_inp_all_subset, train_out_all_subset)"
   ]
  },
  {
   "cell_type": "code",
   "execution_count": 29,
   "id": "4782f084-1dd5-44de-a9bc-6e9c9c89ba09",
   "metadata": {},
   "outputs": [],
   "source": [
    "X_train_all, y_train_all = train_all\n",
    "X_valid_all, y_valid_all = valid_all"
   ]
  },
  {
   "cell_type": "code",
   "execution_count": 30,
   "id": "95938941-20d0-4d17-8ef0-d528a85d303e",
   "metadata": {},
   "outputs": [],
   "source": [
    "LSTM1 = LSTM(X_train_all, y_train_all, sequence_length = 1, hidden_size = 100)"
   ]
  },
  {
   "cell_type": "code",
   "execution_count": 31,
   "id": "b8845ce3-b644-4729-96d9-3bc3b8d28abd",
   "metadata": {},
   "outputs": [],
   "source": [
    "#LSTM1_train_loss, LSTM1_valid_loss = LSTM1.train(batch_size = 0.25, valid = valid_all)"
   ]
  },
  {
   "cell_type": "code",
   "execution_count": 32,
   "id": "7c9d8b6d-c87a-415d-a1cf-b1a4ef572974",
   "metadata": {},
   "outputs": [],
   "source": [
    "#LSTM1_train_pred = LSTM1.predict(X_train_all)\n",
    "#LSTM1_valid_pred = LSTM1.predict(X_valid_all)"
   ]
  },
  {
   "cell_type": "code",
   "execution_count": 33,
   "id": "3802caf0-1ea8-47e7-af1a-95bde072ec5d",
   "metadata": {},
   "outputs": [],
   "source": [
    "#LSTM1_train_RMSE = LSTM1.evaluate(LSTM1_train_pred, y_train_all)\n",
    "#LSTM1_valid_RMSE = LSTM1.evaluate(LSTM1_valid_pred, y_valid_all)"
   ]
  },
  {
   "cell_type": "code",
   "execution_count": 34,
   "id": "df214896-808d-498c-82fa-e812edd80bf5",
   "metadata": {},
   "outputs": [],
   "source": [
    "#LSTM1_train_RMSE"
   ]
  },
  {
   "cell_type": "code",
   "execution_count": 35,
   "id": "d52e57d2-8b52-4ecc-9461-99a32a91424b",
   "metadata": {},
   "outputs": [],
   "source": [
    "#LSTM1_valid_RMSE"
   ]
  },
  {
   "cell_type": "code",
   "execution_count": 36,
   "id": "045326c0-84ca-4d02-af57-348c4c063e5c",
   "metadata": {},
   "outputs": [],
   "source": [
    "#torch.save(LSTM1.state_dict(), \"saved_models/subset/LSTM1.pth\")"
   ]
  },
  {
   "cell_type": "code",
   "execution_count": 37,
   "id": "ad494670-3d74-4218-9761-55c53325be2c",
   "metadata": {},
   "outputs": [],
   "source": [
    "#pd.DataFrame([LSTM1_train_loss, LSTM1_valid_loss]).T.rename(columns = {0: \"train_loss\", 1: \"valid_loss\"}).to_csv(\"saved_loss/subset/LSTM1.csv\")"
   ]
  },
  {
   "cell_type": "code",
   "execution_count": 38,
   "id": "f03bf27b-e042-408b-bd00-984fdb156b0f",
   "metadata": {},
   "outputs": [],
   "source": [
    "#LSTM2 = LSTM(X_train_all, y_train_all, sequence_length = 2, hidden_size = 100)"
   ]
  },
  {
   "cell_type": "code",
   "execution_count": 39,
   "id": "ec275cd9-523a-4537-bf76-4ac1ce99cc50",
   "metadata": {},
   "outputs": [],
   "source": [
    "#LSTM2_train_loss, LSTM2_valid_loss = LSTM2.train(batch_size = 0.25, valid = valid_all)"
   ]
  },
  {
   "cell_type": "code",
   "execution_count": 40,
   "id": "2769ab75-e24e-4e0a-a575-768d0b22a8c7",
   "metadata": {},
   "outputs": [],
   "source": [
    "#LSTM2_train_pred = LSTM2.predict(X_train_all)\n",
    "#LSTM2_valid_pred = LSTM2.predict(X_valid_all)"
   ]
  },
  {
   "cell_type": "code",
   "execution_count": 41,
   "id": "89f54322-7551-4284-ace9-5539e8a819d0",
   "metadata": {},
   "outputs": [],
   "source": [
    "#LSTM2_train_RMSE = LSTM2.evaluate(LSTM2_train_pred, y_train_all)\n",
    "#LSTM2_valid_RMSE = LSTM2.evaluate(LSTM2_valid_pred, y_valid_all)"
   ]
  },
  {
   "cell_type": "code",
   "execution_count": 42,
   "id": "667f1372-afcf-48e5-b049-290121783618",
   "metadata": {},
   "outputs": [],
   "source": [
    "#LSTM2_train_RMSE"
   ]
  },
  {
   "cell_type": "code",
   "execution_count": 43,
   "id": "58c66230-8bab-4033-b496-fa4e52c7e0fe",
   "metadata": {},
   "outputs": [],
   "source": [
    "#LSTM2_valid_RMSE"
   ]
  },
  {
   "cell_type": "code",
   "execution_count": 44,
   "id": "70fbdd83-3132-4221-b34c-6ee45c8cbd17",
   "metadata": {},
   "outputs": [],
   "source": [
    "#torch.save(LSTM2.state_dict(), \"saved_models/subset/LSTM2.pth\")"
   ]
  },
  {
   "cell_type": "code",
   "execution_count": 45,
   "id": "0bbbd3eb-77a0-48f1-b926-c33014613d99",
   "metadata": {},
   "outputs": [],
   "source": [
    "#pd.DataFrame([LSTM2_train_loss, LSTM2_valid_loss]).T.rename(columns = {0: \"train_loss\", 1: \"valid_loss\"}).to_csv(\"saved_loss/subset/LSTM2.csv\")"
   ]
  },
  {
   "cell_type": "code",
   "execution_count": 46,
   "id": "82ea2d8f-438d-4b6c-9824-0ccfad4770d6",
   "metadata": {},
   "outputs": [],
   "source": [
    "#LSTM5 = LSTM(X_train_all, y_train_all, sequence_length = 5, hidden_size = 100)"
   ]
  },
  {
   "cell_type": "code",
   "execution_count": 47,
   "id": "b638e29e-78d9-4db1-9ad8-9d434b837f37",
   "metadata": {},
   "outputs": [],
   "source": [
    "#LSTM5_train_loss, LSTM5_valid_loss = LSTM5.train(batch_size = 0.25, valid = valid_all)"
   ]
  },
  {
   "cell_type": "code",
   "execution_count": 48,
   "id": "33105be8-3efa-442f-aa3d-618414161984",
   "metadata": {},
   "outputs": [],
   "source": [
    "#LSTM5_train_pred = LSTM5.predict(X_train_all)\n",
    "#LSTM5_valid_pred = LSTM5.predict(X_valid_all)"
   ]
  },
  {
   "cell_type": "code",
   "execution_count": 49,
   "id": "539bab98-7e0b-4726-b727-c19fb12f6729",
   "metadata": {},
   "outputs": [],
   "source": [
    "#LSTM5_train_RMSE = LSTM5.evaluate(LSTM5_train_pred, y_train_all)\n",
    "#LSTM5_valid_RMSE = LSTM5.evaluate(LSTM5_valid_pred, y_valid_all)"
   ]
  },
  {
   "cell_type": "code",
   "execution_count": 50,
   "id": "9d7ef9c0-cca4-4f4a-851f-0f4d653fb1f6",
   "metadata": {},
   "outputs": [],
   "source": [
    "#LSTM5_train_RMSE"
   ]
  },
  {
   "cell_type": "code",
   "execution_count": 51,
   "id": "bedcc7d0-06b4-4807-9eeb-cb5715a73f72",
   "metadata": {},
   "outputs": [],
   "source": [
    "#LSTM5_valid_RMSE"
   ]
  },
  {
   "cell_type": "code",
   "execution_count": 52,
   "id": "ff03b0e8-73bd-409e-bbbd-5db825ef50a7",
   "metadata": {},
   "outputs": [],
   "source": [
    "#torch.save(LSTM5.state_dict(), \"saved_models/subset/LSTM5.pth\")"
   ]
  },
  {
   "cell_type": "code",
   "execution_count": 53,
   "id": "195c19f0-8b05-45ae-9ca5-aa2ec4d2099a",
   "metadata": {},
   "outputs": [],
   "source": [
    "#pd.DataFrame([LSTM5_train_loss, LSTM5_valid_loss]).T.rename(columns = {0: \"train_loss\", 1: \"valid_loss\"}).to_csv(\"saved_loss/subset/LSTM5.csv\")"
   ]
  },
  {
   "cell_type": "code",
   "execution_count": 54,
   "id": "c6061739-751d-43b1-a37c-b26399eab72d",
   "metadata": {},
   "outputs": [],
   "source": [
    "#LSTM10 = LSTM(X_train_all, y_train_all, sequence_length = 10, hidden_size = 100)"
   ]
  },
  {
   "cell_type": "code",
   "execution_count": 55,
   "id": "0544de0e-2f83-433c-8a96-8d3812a6a660",
   "metadata": {},
   "outputs": [],
   "source": [
    "#LSTM10_train_loss, LSTM10_valid_loss = LSTM10.train(batch_size = 0.25, valid = valid_all)"
   ]
  },
  {
   "cell_type": "code",
   "execution_count": 56,
   "id": "f8328eab-d220-4191-8751-1b5fc392299c",
   "metadata": {},
   "outputs": [],
   "source": [
    "#LSTM10_train_pred = LSTM10.predict(X_train_all)\n",
    "#LSTM10_valid_pred = LSTM10.predict(X_valid_all)"
   ]
  },
  {
   "cell_type": "code",
   "execution_count": 57,
   "id": "6857bb6a-af47-459b-b5e0-097a60688d65",
   "metadata": {},
   "outputs": [],
   "source": [
    "#LSTM10_train_RMSE = LSTM10.evaluate(LSTM10_train_pred, y_train_all)\n",
    "#LSTM10_valid_RMSE = LSTM10.evaluate(LSTM10_valid_pred, y_valid_all)"
   ]
  },
  {
   "cell_type": "code",
   "execution_count": 58,
   "id": "3ac14e46-7ddb-4342-98c4-f8a78c2234c1",
   "metadata": {},
   "outputs": [],
   "source": [
    "#LSTM10_train_RMSE"
   ]
  },
  {
   "cell_type": "code",
   "execution_count": 59,
   "id": "62b8f566-d1d5-4b36-8416-b0ea002b136f",
   "metadata": {},
   "outputs": [],
   "source": [
    "#LSTM10_valid_RMSE"
   ]
  },
  {
   "cell_type": "code",
   "execution_count": 60,
   "id": "b52a9c62-5199-489a-bbf5-eafced0eafbe",
   "metadata": {},
   "outputs": [],
   "source": [
    "#torch.save(LSTM5.state_dict(), \"saved_models/subset/LSTM10.pth\")"
   ]
  },
  {
   "cell_type": "code",
   "execution_count": 61,
   "id": "38b1818f-e921-4c6e-beab-7fe825ee6055",
   "metadata": {},
   "outputs": [],
   "source": [
    "#pd.DataFrame([LSTM10_train_loss, LSTM10_valid_loss]).T.rename(columns = {0: \"train_loss\", 1: \"valid_loss\"}).to_csv(\"saved_loss/subset/LSTM10.csv\")"
   ]
  },
  {
   "cell_type": "code",
   "execution_count": 62,
   "id": "9e2f05b2-f683-4109-97b4-119daa94359e",
   "metadata": {},
   "outputs": [],
   "source": [
    "\"\"\"\n",
    "plt.figure(figsize = (8, 8), dpi = 100)\n",
    "\n",
    "plt.plot(LSTM1_train_loss, marker = 'o')\n",
    "plt.title(\"LSTM Training Loss (Sequence Length 1)\")\n",
    "plt.xlabel(\"Epoch\")\n",
    "plt.ylabel(\"RMSE\")\n",
    "plt.grid()\n",
    "\"\"\"\n",
    "print('', end = '')"
   ]
  },
  {
   "cell_type": "code",
   "execution_count": 63,
   "id": "900f7d86-d729-4050-80b5-3edc078d7e3e",
   "metadata": {},
   "outputs": [],
   "source": [
    "\"\"\"\n",
    "plt.figure(figsize = (8, 8), dpi = 100)\n",
    "\n",
    "plt.plot(LSTM2_train_loss, marker = 'o')\n",
    "plt.title(\"LSTM Training Loss (Sequence Length 2)\")\n",
    "plt.xlabel(\"Epoch\")\n",
    "plt.ylabel(\"RMSE\")\n",
    "plt.grid()\n",
    "\"\"\"\n",
    "print('', end = '')"
   ]
  },
  {
   "cell_type": "code",
   "execution_count": 64,
   "id": "a7571eca-447b-4bd1-a2c5-91cd44bbd3a8",
   "metadata": {},
   "outputs": [],
   "source": [
    "\"\"\"\n",
    "plt.figure(figsize = (8, 8), dpi = 100)\n",
    "\n",
    "plt.plot(LSTM5_train_loss, marker = 'o')\n",
    "plt.title(\"LSTM Training Loss (Sequence Length 5)\")\n",
    "plt.xlabel(\"Epoch\")\n",
    "plt.ylabel(\"RMSE\")\n",
    "plt.grid()\n",
    "\"\"\"\n",
    "print('', end = '')"
   ]
  },
  {
   "cell_type": "code",
   "execution_count": 65,
   "id": "fc1df011-30f2-4843-8928-38bbba1a9beb",
   "metadata": {},
   "outputs": [],
   "source": [
    "\"\"\"\n",
    "plt.figure(figsize = (8, 8), dpi = 100)\n",
    "\n",
    "plt.plot(LSTM10_train_loss, marker = 'o')\n",
    "plt.title(\"LSTM Training Loss (Sequence Length 10)\")\n",
    "plt.xlabel(\"Epoch\")\n",
    "plt.ylabel(\"RMSE\")\n",
    "plt.grid()\n",
    "\"\"\"\n",
    "print('', end = '')"
   ]
  },
  {
   "cell_type": "code",
   "execution_count": 66,
   "id": "c0f602a7-128f-4661-b307-b0554efd6f85",
   "metadata": {},
   "outputs": [],
   "source": [
    "\"\"\"\n",
    "plt.figure(figsize = (8, 8), dpi = 100)\n",
    "\n",
    "plt.scatter(y_train_all[:50,:,0], y_train_all[:50,:,1], edgecolor = \"black\", linewidth = 0.1, label = \"True\")\n",
    "plt.scatter(LSTM1_train_pred[:50,:,0].detach(), LSTM1_train_pred[:50,:,1].detach(), edgecolor = \"black\", linewidth = 0.1, label = \"Predicted\")\n",
    "plt.legend()\n",
    "plt.title(\"True vs. Predicted Values for LSTM with Sequence Length 1\")\n",
    "plt.xlabel(\"x Position\")\n",
    "plt.ylabel(\"y Position\")\n",
    "plt.grid()\n",
    "\"\"\"\n",
    "print('', end = '')"
   ]
  },
  {
   "cell_type": "code",
   "execution_count": 67,
   "id": "e2fa7f0c-ae21-4726-8d69-b6945c76de0a",
   "metadata": {},
   "outputs": [],
   "source": [
    "\"\"\"\n",
    "plt.figure(figsize = (8, 8), dpi = 100)\n",
    "\n",
    "plt.scatter(y_train_all[:50,:,0], y_train_all[:50,:,1], edgecolor = \"black\", linewidth = 0.1, label = \"True\")\n",
    "plt.scatter(LSTM2_train_pred[:50,:,0].detach(), LSTM2_train_pred[:50,:,1].detach(), edgecolor = \"black\", linewidth = 0.1, label = \"Predicted\")\n",
    "plt.legend()\n",
    "plt.title(\"True vs. Predicted Values for LSTM with Sequence Length 2\")\n",
    "plt.xlabel(\"x Position\")\n",
    "plt.ylabel(\"y Position\")\n",
    "plt.grid()\n",
    "\"\"\"\n",
    "print('', end = '')"
   ]
  },
  {
   "cell_type": "code",
   "execution_count": 68,
   "id": "2c50093d-e655-4362-b980-c8c515f42daf",
   "metadata": {},
   "outputs": [],
   "source": [
    "\"\"\"\n",
    "plt.figure(figsize = (8, 8), dpi = 100)\n",
    "\n",
    "plt.scatter(y_train_all[:50,:,0], y_train_all[:50,:,1], edgecolor = \"black\", linewidth = 0.1, label = \"True\")\n",
    "plt.scatter(LSTM5_train_pred[:50,:,0].detach(), LSTM5_train_pred[:50,:,1].detach(), edgecolor = \"black\", linewidth = 0.1, label = \"Predicted\")\n",
    "plt.legend()\n",
    "plt.title(\"True vs. Predicted Values for LSTM with Sequence Length 5\")\n",
    "plt.xlabel(\"x Position\")\n",
    "plt.ylabel(\"y Position\")\n",
    "plt.grid()\n",
    "\"\"\"\n",
    "print('', end = '')"
   ]
  },
  {
   "cell_type": "code",
   "execution_count": 69,
   "id": "5da7d67e-fbb7-4b10-869e-8d8cbbddebdf",
   "metadata": {},
   "outputs": [],
   "source": [
    "\"\"\"\n",
    "plt.figure(figsize = (8, 8), dpi = 100)\n",
    "\n",
    "plt.scatter(y_train_all[:50,:,0], y_train_all[:50,:,1], edgecolor = \"black\", linewidth = 0.1, label = \"True\")\n",
    "plt.scatter(LSTM10_train_pred[:50,:,0].detach(), LSTM5_train_pred[:50,:,1].detach(), edgecolor = \"black\", linewidth = 0.1, label = \"Predicted\")\n",
    "plt.legend()\n",
    "plt.title(\"True vs. Predicted Values for LSTM with Sequence Length 10\")\n",
    "plt.xlabel(\"x Position\")\n",
    "plt.ylabel(\"y Position\")\n",
    "plt.grid()\n",
    "\"\"\"\n",
    "print('', end = '')"
   ]
  },
  {
   "cell_type": "code",
   "execution_count": 70,
   "id": "4dad89a8-b4fb-410a-b893-bcc5ee7c69c7",
   "metadata": {},
   "outputs": [],
   "source": [
    "#pd.DataFrame(\n",
    "#    [LSTM1_train_loss, LSTM2_train_loss, LSTM5_train_loss, LSTM10_train_loss]\n",
    "#).T.rename(columns = {0: 1, 1: 2, 2: 5, 3: 10})"
   ]
  },
  {
   "cell_type": "code",
   "execution_count": 71,
   "id": "ff4ab7bf-899d-4a53-9980-99b350bfefaa",
   "metadata": {},
   "outputs": [],
   "source": [
    "\"\"\"\n",
    "pd.DataFrame(\n",
    "    [LSTM1_train_RMSE, LSTM2_train_RMSE, LSTM5_train_RMSE, LSTM10_train_RMSE],\n",
    "    index = [1, 2, 5, 10],\n",
    "    columns = [\"Final Train RMSE\"]\n",
    ")\n",
    "\"\"\"\n",
    "print('', end = '')"
   ]
  },
  {
   "cell_type": "code",
   "execution_count": 72,
   "id": "3a3364fb-7cbb-4801-9f05-3ec2fb671e8e",
   "metadata": {},
   "outputs": [],
   "source": [
    "train_austin = train_city_datasets[0][:]\n",
    "train_inp_austin, train_out_austin = train_austin\n",
    "\n",
    "train_miami = train_city_datasets[1][:]\n",
    "train_inp_miami, train_out_miami = train_miami\n",
    "\n",
    "train_pittsburgh = train_city_datasets[2][:]\n",
    "train_inp_pittsburgh, train_out_pittsburgh = train_pittsburgh\n",
    "\n",
    "train_dearborn = train_city_datasets[3][:]\n",
    "train_inp_dearborn, train_out_dearborn = train_dearborn\n",
    "\n",
    "train_dc = train_city_datasets[4][:]\n",
    "train_inp_dc, train_out_dc = train_dc\n",
    "\n",
    "train_palo_alto = train_city_datasets[5][:]\n",
    "train_inp_palo_alto, train_out_palo_alto = train_palo_alto"
   ]
  },
  {
   "cell_type": "code",
   "execution_count": 73,
   "id": "d04ef32c-7224-43a3-a809-d5f90372a47f",
   "metadata": {},
   "outputs": [],
   "source": [
    "train_inp_austin_subset = train_inp_austin[:int(len(train_inp_austin) / 25)]\n",
    "train_out_austin_subset = train_out_austin[:int(len(train_out_austin) / 25)]\n",
    "\n",
    "train_inp_miami_subset = train_inp_miami[:int(len(train_inp_miami) / 25)]\n",
    "train_out_miami_subset = train_out_miami[:int(len(train_out_miami) / 25)]\n",
    "\n",
    "train_inp_pittsburgh_subset = train_inp_pittsburgh[:int(len(train_inp_pittsburgh) / 25)]\n",
    "train_out_pittsburgh_subset = train_out_pittsburgh[:int(len(train_out_pittsburgh) / 25)]\n",
    "\n",
    "train_inp_dearborn_subset = train_inp_dearborn[:int(len(train_inp_dearborn) / 15)]\n",
    "train_out_dearborn_subset = train_out_dearborn[:int(len(train_out_dearborn) / 15)]\n",
    "\n",
    "train_inp_dc_subset = train_inp_dc[:int(len(train_inp_dc) / 15)]\n",
    "train_out_dc_subset = train_out_dc[:int(len(train_out_dc) / 15)]\n",
    "\n",
    "train_inp_palo_alto_subset = train_inp_palo_alto[:int(len(train_inp_palo_alto) / 5)]\n",
    "train_out_palo_alto_subset = train_out_palo_alto[:int(len(train_out_palo_alto) / 5)]"
   ]
  },
  {
   "cell_type": "code",
   "execution_count": 74,
   "id": "cdf74983-8b64-4db9-98bd-b0b8a963986c",
   "metadata": {},
   "outputs": [
    {
     "data": {
      "text/plain": [
       "(1721, True)"
      ]
     },
     "execution_count": 74,
     "metadata": {},
     "output_type": "execute_result"
    }
   ],
   "source": [
    "len(train_inp_austin_subset), len(train_inp_austin_subset) == len(train_out_austin_subset)"
   ]
  },
  {
   "cell_type": "code",
   "execution_count": 75,
   "id": "df63dced-91ca-47ff-ac17-de5d0e6f1b15",
   "metadata": {},
   "outputs": [
    {
     "data": {
      "text/plain": [
       "(2201, True)"
      ]
     },
     "execution_count": 75,
     "metadata": {},
     "output_type": "execute_result"
    }
   ],
   "source": [
    "len(train_inp_miami_subset), len(train_inp_miami_subset) == len(train_out_miami_subset)"
   ]
  },
  {
   "cell_type": "code",
   "execution_count": 76,
   "id": "a2db493a-2f18-4397-82a5-e0de1551c347",
   "metadata": {},
   "outputs": [
    {
     "data": {
      "text/plain": [
       "(1741, True)"
      ]
     },
     "execution_count": 76,
     "metadata": {},
     "output_type": "execute_result"
    }
   ],
   "source": [
    "len(train_inp_pittsburgh_subset), len(train_inp_pittsburgh_subset) == len(train_out_pittsburgh_subset)"
   ]
  },
  {
   "cell_type": "code",
   "execution_count": 77,
   "id": "9bb58b9b-c01d-4b33-9564-4f7ced5d1809",
   "metadata": {},
   "outputs": [
    {
     "data": {
      "text/plain": [
       "(1631, True)"
      ]
     },
     "execution_count": 77,
     "metadata": {},
     "output_type": "execute_result"
    }
   ],
   "source": [
    "len(train_inp_dearborn_subset), len(train_inp_dearborn_subset) == len(train_out_dearborn_subset)"
   ]
  },
  {
   "cell_type": "code",
   "execution_count": 78,
   "id": "e62624e7-e587-43d1-bae6-72424999b775",
   "metadata": {},
   "outputs": [
    {
     "data": {
      "text/plain": [
       "(1716, True)"
      ]
     },
     "execution_count": 78,
     "metadata": {},
     "output_type": "execute_result"
    }
   ],
   "source": [
    "len(train_inp_dc_subset), len(train_inp_dc_subset) == len(train_out_dc_subset)"
   ]
  },
  {
   "cell_type": "code",
   "execution_count": 79,
   "id": "d1c92aa1-0b3e-4f10-81ed-22c907051d6a",
   "metadata": {},
   "outputs": [
    {
     "data": {
      "text/plain": [
       "(2398, True)"
      ]
     },
     "execution_count": 79,
     "metadata": {},
     "output_type": "execute_result"
    }
   ],
   "source": [
    "len(train_inp_palo_alto_subset), len(train_inp_palo_alto_subset) == len(train_out_palo_alto_subset)"
   ]
  },
  {
   "cell_type": "code",
   "execution_count": 80,
   "id": "42b14c29-6a81-422e-af7e-f157997e5da4",
   "metadata": {},
   "outputs": [],
   "source": [
    "new_train_austin, valid_austin = make_valid_set(train_inp_austin_subset, train_out_austin_subset)\n",
    "X_train_austin, y_train_austin = new_train_austin\n",
    "X_valid_austin, y_valid_austin = valid_austin"
   ]
  },
  {
   "cell_type": "code",
   "execution_count": 81,
   "id": "1752c63d-7dec-46e6-8ff7-3b2f76ef01a5",
   "metadata": {},
   "outputs": [],
   "source": [
    "new_train_miami, valid_miami = make_valid_set(train_inp_miami_subset, train_out_miami_subset)\n",
    "X_train_miami, y_train_miami = new_train_miami\n",
    "X_valid_miami, y_valid_miami = valid_miami"
   ]
  },
  {
   "cell_type": "code",
   "execution_count": 82,
   "id": "60c41d33-2009-4e20-91d8-d0a7d88daf24",
   "metadata": {},
   "outputs": [],
   "source": [
    "new_train_pittsburgh, valid_pittsburgh = make_valid_set(train_inp_pittsburgh_subset, train_out_pittsburgh_subset)\n",
    "X_train_pittsburgh, y_train_pittsburgh = new_train_pittsburgh\n",
    "X_valid_pittsburgh, y_valid_pittsburgh = valid_miami"
   ]
  },
  {
   "cell_type": "code",
   "execution_count": 83,
   "id": "8e528704-183c-4c8b-aadd-894a2d3f5945",
   "metadata": {},
   "outputs": [],
   "source": [
    "new_train_dearborn, valid_dearborn = make_valid_set(train_inp_dearborn_subset, train_out_dearborn_subset)\n",
    "X_train_dearborn, y_train_dearborn = new_train_dearborn\n",
    "X_valid_dearborn, y_valid_dearborn = valid_dearborn"
   ]
  },
  {
   "cell_type": "code",
   "execution_count": 84,
   "id": "7a5aa2ea-52df-4bfe-b991-39621b6011fd",
   "metadata": {},
   "outputs": [],
   "source": [
    "new_train_dc, valid_dc = make_valid_set(train_inp_dc_subset, train_out_dc_subset)\n",
    "X_train_dc, y_train_dc = new_train_dc\n",
    "X_valid_dc, y_valid_dc = valid_dc"
   ]
  },
  {
   "cell_type": "code",
   "execution_count": 85,
   "id": "bee084ef-9b6a-479d-b21a-2e598e7d1ad9",
   "metadata": {},
   "outputs": [],
   "source": [
    "new_train_palo_alto, valid_palo_alto = make_valid_set(train_inp_palo_alto_subset, train_out_palo_alto_subset)\n",
    "X_train_palo_alto, y_train_palo_alto = new_train_palo_alto\n",
    "X_valid_palo_alto, y_valid_palo_alto = valid_palo_alto"
   ]
  },
  {
   "cell_type": "code",
   "execution_count": 86,
   "id": "bfc15eaa-6ea6-440a-a158-002b32241567",
   "metadata": {},
   "outputs": [],
   "source": [
    "LSTM_Austin = LSTM(X_train_austin, y_train_austin, sequence_length = 5, hidden_size = 100)\n",
    "LSTM_Miami = LSTM(X_train_miami, y_train_miami, sequence_length = 5, hidden_size = 100)\n",
    "LSTM_Pittsburgh = LSTM(X_train_pittsburgh, y_train_pittsburgh, sequence_length = 5, hidden_size = 100)\n",
    "LSTM_Dearborn = LSTM(X_train_dearborn, y_train_dearborn, sequence_length = 5, hidden_size = 100)\n",
    "LSTM_DC = LSTM(X_train_dc, y_train_dc, sequence_length = 5, hidden_size = 100)\n",
    "LSTM_Palo_Alto = LSTM(X_train_palo_alto, y_train_palo_alto, sequence_length = 5, hidden_size = 100)"
   ]
  },
  {
   "cell_type": "code",
   "execution_count": 87,
   "id": "43afb13c-9461-45fd-94bb-62d04ae89069",
   "metadata": {},
   "outputs": [],
   "source": [
    "#LSTM_Austin_train_loss, LSTM_Austin_valid_loss = LSTM_Austin.train(batch_size = 0.25, valid = valid_austin)"
   ]
  },
  {
   "cell_type": "code",
   "execution_count": 88,
   "id": "d980eb63-aa50-45de-856d-0d57c5f97b1c",
   "metadata": {},
   "outputs": [],
   "source": [
    "#y_train_austin_pred = LSTM_Austin.predict(X_train_austin)\n",
    "#y_valid_austin_pred = LSTM_Austin.predict(X_valid_austin)"
   ]
  },
  {
   "cell_type": "code",
   "execution_count": 89,
   "id": "5dec1615-29b8-4178-9462-f9e586d3b14b",
   "metadata": {},
   "outputs": [],
   "source": [
    "#y_train_austin_RMSE = LSTM_Austin.evaluate(y_train_austin_pred, y_train_austin)\n",
    "#y_valid_austin_RMSE = LSTM_Austin.evaluate(y_valid_austin_pred, y_valid_austin)"
   ]
  },
  {
   "cell_type": "code",
   "execution_count": 90,
   "id": "ace160aa-c34d-47f8-9e6e-395576217664",
   "metadata": {},
   "outputs": [],
   "source": [
    "#y_train_austin_RMSE"
   ]
  },
  {
   "cell_type": "code",
   "execution_count": 91,
   "id": "8232c317-250f-4679-bfb7-bf14272689a3",
   "metadata": {},
   "outputs": [],
   "source": [
    "#y_valid_austin_RMSE"
   ]
  },
  {
   "cell_type": "code",
   "execution_count": 92,
   "id": "9f1087de-0e84-4d37-9a8d-ecf8c3c5607e",
   "metadata": {},
   "outputs": [],
   "source": [
    "#torch.save(LSTM_Austin.state_dict(), \"saved_models/subset/cities/LSTM_Austin.pth\")"
   ]
  },
  {
   "cell_type": "code",
   "execution_count": 93,
   "id": "7e1fc30b-6f4f-4c9f-b4d7-ab15f7bdd822",
   "metadata": {},
   "outputs": [],
   "source": [
    "#pd.DataFrame([LSTM_Austin_train_loss, LSTM_Austin_valid_loss]).T.rename(columns = {0: \"train_loss\", 1: \"valid_loss\"}).to_csv(\"saved_loss/subset/cities/LSTM_Austin.csv\")"
   ]
  },
  {
   "cell_type": "code",
   "execution_count": 94,
   "id": "479460d0-1dcb-4a2e-8397-efe03dd0021b",
   "metadata": {},
   "outputs": [],
   "source": [
    "#LSTM_Miami_train_loss, LSTM_Miami_valid_loss = LSTM_Miami.train(batch_size = 0.25, valid = valid_miami)"
   ]
  },
  {
   "cell_type": "code",
   "execution_count": 95,
   "id": "4aafd853-69db-4593-8dea-6bc359f6dcff",
   "metadata": {},
   "outputs": [],
   "source": [
    "#y_train_miami_pred = LSTM_Miami.predict(X_train_miami)\n",
    "#y_valid_miami_pred = LSTM_Miami.predict(X_valid_miami)"
   ]
  },
  {
   "cell_type": "code",
   "execution_count": 96,
   "id": "0cc3abb5-3bde-4cda-83ff-db25416f9cc0",
   "metadata": {},
   "outputs": [],
   "source": [
    "#y_train_miami_RMSE = LSTM_Miami.evaluate(y_train_miami_pred, y_train_miami)\n",
    "#y_valid_miami_RMSE = LSTM_Miami.evaluate(y_valid_miami_pred, y_valid_miami)"
   ]
  },
  {
   "cell_type": "code",
   "execution_count": 97,
   "id": "38b1550c-f3af-4fc9-881f-ca35bb5423c7",
   "metadata": {},
   "outputs": [],
   "source": [
    "#y_train_miami_RMSE"
   ]
  },
  {
   "cell_type": "code",
   "execution_count": 98,
   "id": "b1c4d2e9-8d83-48f3-8cf8-986a4a6601b7",
   "metadata": {},
   "outputs": [],
   "source": [
    "#y_valid_miami_RMSE"
   ]
  },
  {
   "cell_type": "code",
   "execution_count": 99,
   "id": "2fa0ac4b-b691-4a33-8a17-839363d908a3",
   "metadata": {},
   "outputs": [],
   "source": [
    "#torch.save(LSTM_Miami.state_dict(), \"saved_models/subset/cities/LSTM_Miami.pth\")"
   ]
  },
  {
   "cell_type": "code",
   "execution_count": 100,
   "id": "60a1d751-dfd6-496c-9e70-033d88030a97",
   "metadata": {},
   "outputs": [],
   "source": [
    "#pd.DataFrame([LSTM_Miami_train_loss, LSTM_Miami_valid_loss]).T.rename(columns = {0: \"train_loss\", 1: \"valid_loss\"}).to_csv(\"saved_loss/subset/cities/LSTM_Miami.csv\")"
   ]
  },
  {
   "cell_type": "code",
   "execution_count": 101,
   "id": "af0769f9-cbd6-45c4-8d65-4ea72fcfba3e",
   "metadata": {},
   "outputs": [],
   "source": [
    "#LSTM_Pittsburgh_train_loss, LSTM_Pittsburgh_valid_loss = LSTM_Pittsburgh.train(batch_size = 0.25, valid = valid_pittsburgh)"
   ]
  },
  {
   "cell_type": "code",
   "execution_count": 102,
   "id": "98ac8a5e-22f0-4f60-87fe-315b872c4559",
   "metadata": {},
   "outputs": [],
   "source": [
    "#y_train_pittsburgh_pred = LSTM_Pittsburgh.predict(X_train_pittsburgh)\n",
    "#y_valid_pittsburgh_pred = LSTM_Pittsburgh.predict(X_valid_pittsburgh)"
   ]
  },
  {
   "cell_type": "code",
   "execution_count": 103,
   "id": "74faf61f-028c-434b-8019-0aadf55ed10e",
   "metadata": {},
   "outputs": [],
   "source": [
    "#y_train_pittsburgh_RMSE = LSTM_Pittsburgh.evaluate(y_train_pittsburgh_pred, y_train_pittsburgh)\n",
    "#y_valid_pittsburgh_RMSE = LSTM_Pittsburgh.evaluate(y_valid_pittsburgh_pred, y_valid_pittsburgh)"
   ]
  },
  {
   "cell_type": "code",
   "execution_count": 104,
   "id": "85e421d2-d89a-4e9f-9cac-eb6e6b3e6dd6",
   "metadata": {},
   "outputs": [],
   "source": [
    "#y_train_pittsburgh_RMSE"
   ]
  },
  {
   "cell_type": "code",
   "execution_count": 105,
   "id": "22f76f73-93c6-4ce6-babb-07671325cf34",
   "metadata": {},
   "outputs": [],
   "source": [
    "#y_valid_pittsburgh_RMSE"
   ]
  },
  {
   "cell_type": "code",
   "execution_count": 106,
   "id": "30d23cbc-2767-4e4c-9054-25c6021746a5",
   "metadata": {},
   "outputs": [],
   "source": [
    "#torch.save(LSTM_Pittsburgh.state_dict(), \"saved_models/subset/cities/LSTM_Pittsburgh.pth\")"
   ]
  },
  {
   "cell_type": "code",
   "execution_count": 107,
   "id": "577e1f1b-423f-4985-9625-e5618be18db4",
   "metadata": {},
   "outputs": [],
   "source": [
    "#pd.DataFrame([LSTM_Pittsburgh_train_loss, LSTM_Pittsburgh_valid_loss]).T.rename(columns = {0: \"train_loss\", 1: \"valid_loss\"}).to_csv(\"saved_loss/subset/cities/LSTM_Pittsburgh.csv\")"
   ]
  },
  {
   "cell_type": "code",
   "execution_count": 108,
   "id": "195c694e-2446-4fa6-89ce-9e014e8718bd",
   "metadata": {},
   "outputs": [],
   "source": [
    "#LSTM_Dearborn_train_loss, LSTM_Dearborn_valid_loss = LSTM_Dearborn.train(batch_size = 0.25, valid = valid_dearborn)"
   ]
  },
  {
   "cell_type": "code",
   "execution_count": 109,
   "id": "e29376f6-ab5b-42df-bf3b-d58abcfe8d71",
   "metadata": {},
   "outputs": [],
   "source": [
    "#y_train_dearborn_pred = LSTM_Dearborn.predict(X_train_dearborn)\n",
    "#y_valid_dearborn_pred = LSTM_Dearborn.predict(X_valid_dearborn)"
   ]
  },
  {
   "cell_type": "code",
   "execution_count": 110,
   "id": "9912c5f8-862e-41b7-b166-8783d3cdaa69",
   "metadata": {},
   "outputs": [],
   "source": [
    "#y_train_dearborn_RMSE = LSTM_Dearborn.evaluate(y_train_dearborn_pred, y_train_dearborn)\n",
    "#y_valid_dearborn_RMSE = LSTM_Dearborn.evaluate(y_valid_dearborn_pred, y_valid_dearborn)"
   ]
  },
  {
   "cell_type": "code",
   "execution_count": 111,
   "id": "cadd7302-9098-4586-a956-7fed81dd733d",
   "metadata": {},
   "outputs": [],
   "source": [
    "#y_train_dearborn_RMSE"
   ]
  },
  {
   "cell_type": "code",
   "execution_count": 112,
   "id": "f77e49ef-3ed4-40ff-9d5b-f813a5ec6e2e",
   "metadata": {},
   "outputs": [],
   "source": [
    "#y_valid_dearborn_RMSE"
   ]
  },
  {
   "cell_type": "code",
   "execution_count": 113,
   "id": "9cdd60b7-88e9-4608-922d-c3ece978bd78",
   "metadata": {},
   "outputs": [],
   "source": [
    "#torch.save(LSTM_Dearborn.state_dict(), \"saved_models/subset/cities/LSTM_Dearborn.pth\")"
   ]
  },
  {
   "cell_type": "code",
   "execution_count": 114,
   "id": "538eeb86-1b7c-4618-b35f-69d28bdb975e",
   "metadata": {},
   "outputs": [],
   "source": [
    "#pd.DataFrame([LSTM_Dearborn_train_loss, LSTM_Dearborn_valid_loss]).T.rename(columns = {0: \"train_loss\", 1: \"valid_loss\"}).to_csv(\"saved_loss/subset/cities/LSTM_Dearborn.csv\")"
   ]
  },
  {
   "cell_type": "code",
   "execution_count": 115,
   "id": "df415afa-b1af-4d8a-90e9-7400701d0d7c",
   "metadata": {},
   "outputs": [],
   "source": [
    "#LSTM_DC_train_loss, LSTM_DC_valid_loss = LSTM_DC.train(batch_size = 0.25, valid = valid_dc)"
   ]
  },
  {
   "cell_type": "code",
   "execution_count": 116,
   "id": "323dcc34-c63a-4bb2-8001-1dc2880b3cc3",
   "metadata": {},
   "outputs": [],
   "source": [
    "#y_train_dc_pred = LSTM_DC.predict(X_train_dc)\n",
    "#y_valid_dc_pred = LSTM_DC.predict(X_valid_dc)"
   ]
  },
  {
   "cell_type": "code",
   "execution_count": 117,
   "id": "35425660-7305-411a-903c-0bf77092102a",
   "metadata": {},
   "outputs": [],
   "source": [
    "#y_train_dc_RMSE = LSTM_DC.evaluate(y_train_dc_pred, y_train_dc)\n",
    "#y_valid_dc_RMSE = LSTM_DC.evaluate(y_valid_dc_pred, y_valid_dc)"
   ]
  },
  {
   "cell_type": "code",
   "execution_count": 118,
   "id": "a5345e16-5f87-491c-88f0-f81220eca5e8",
   "metadata": {},
   "outputs": [],
   "source": [
    "#y_train_dc_RMSE"
   ]
  },
  {
   "cell_type": "code",
   "execution_count": 119,
   "id": "aebdc294-be98-4345-813b-ec9eba307126",
   "metadata": {},
   "outputs": [],
   "source": [
    "#y_valid_dc_RMSE"
   ]
  },
  {
   "cell_type": "code",
   "execution_count": 120,
   "id": "19645044-2c53-44b1-9f62-e596beb4406b",
   "metadata": {},
   "outputs": [],
   "source": [
    "#torch.save(LSTM_DC.state_dict(), \"saved_models/subset/cities/LSTM_DC.pth\")"
   ]
  },
  {
   "cell_type": "code",
   "execution_count": 121,
   "id": "1e69d5dc-c723-48e3-9418-89fd0157f988",
   "metadata": {},
   "outputs": [],
   "source": [
    "#pd.DataFrame([LSTM_DC_train_loss, LSTM_DC_valid_loss]).T.rename(columns = {0: \"train_loss\", 1: \"valid_loss\"}).to_csv(\"saved_loss/subset/cities/LSTM_DC.csv\")"
   ]
  },
  {
   "cell_type": "code",
   "execution_count": 122,
   "id": "81ce7869-8a64-4b67-9e73-4ed6ad644de1",
   "metadata": {},
   "outputs": [],
   "source": [
    "#LSTM_Palo_Alto_train_loss, LSTM_Palo_Alto_valid_loss = LSTM_Palo_Alto.train(batch_size = 0.25, valid = valid_palo_alto)"
   ]
  },
  {
   "cell_type": "code",
   "execution_count": 123,
   "id": "52a6a32d-703e-4cd2-ac01-65fdd96960ed",
   "metadata": {},
   "outputs": [],
   "source": [
    "#y_train_palo_alto_pred = LSTM_Palo_Alto.predict(X_train_palo_alto)\n",
    "#y_valid_palo_alto_pred = LSTM_Palo_Alto.predict(X_valid_palo_alto)"
   ]
  },
  {
   "cell_type": "code",
   "execution_count": 124,
   "id": "8f707438-b9cd-4929-9549-905b5b852822",
   "metadata": {},
   "outputs": [],
   "source": [
    "#y_train_palo_alto_RMSE = LSTM_Palo_Alto.evaluate(y_train_palo_alto_pred, y_train_palo_alto)\n",
    "#y_valid_palo_alto_RMSE = LSTM_Palo_Alto.evaluate(y_valid_palo_alto_pred, y_valid_palo_alto)"
   ]
  },
  {
   "cell_type": "code",
   "execution_count": 125,
   "id": "4e3e1b1b-1461-401f-833d-8fbcb9c00834",
   "metadata": {},
   "outputs": [],
   "source": [
    "#y_train_palo_alto_RMSE"
   ]
  },
  {
   "cell_type": "code",
   "execution_count": 126,
   "id": "602bbbf5-6557-487c-9fea-c51e9f754ef0",
   "metadata": {},
   "outputs": [],
   "source": [
    "#y_valid_palo_alto_RMSE"
   ]
  },
  {
   "cell_type": "code",
   "execution_count": 127,
   "id": "47ef9dcc-86e1-435d-a3f6-ab0b6ba54333",
   "metadata": {},
   "outputs": [],
   "source": [
    "#torch.save(LSTM_Palo_Alto.state_dict(), \"saved_models/subset/cities/LSTM_Palo_Alto.pth\")"
   ]
  },
  {
   "cell_type": "code",
   "execution_count": 128,
   "id": "e8db9c77-6baa-4883-9bda-8e135b972cf5",
   "metadata": {},
   "outputs": [],
   "source": [
    "#pd.DataFrame([LSTM_Palo_Alto_train_loss, LSTM_Palo_Alto_valid_loss]).T.rename(columns = {0: \"train_loss\", 1: \"valid_loss\"}).to_csv(\"saved_loss/subset/cities/LSTM_Palo_Alto.csv\")"
   ]
  },
  {
   "cell_type": "code",
   "execution_count": 129,
   "id": "47c6d7a0-52f4-410d-b093-6b8bd1e08aed",
   "metadata": {},
   "outputs": [],
   "source": [
    "\"\"\"\n",
    "plt.figure(figsize = (8, 8), dpi = 100)\n",
    "\n",
    "plt.plot(LSTM_Austin_train_loss, marker = 'o')\n",
    "plt.title(\"LSTM Training Loss (Austin)\")\n",
    "plt.xlabel(\"Epoch\")\n",
    "plt.ylabel(\"RMSE\")\n",
    "plt.grid()\n",
    "\"\"\"\n",
    "print('', end = '')"
   ]
  },
  {
   "cell_type": "code",
   "execution_count": 130,
   "id": "5c48768c-250b-4995-8f38-8f28e49fe77d",
   "metadata": {},
   "outputs": [],
   "source": [
    "\"\"\"\n",
    "plt.figure(figsize = (8, 8), dpi = 100)\n",
    "\n",
    "plt.plot(LSTM_Miami_train_loss, marker = 'o')\n",
    "plt.title(\"LSTM Training Loss (Miami)\")\n",
    "plt.xlabel(\"Epoch\")\n",
    "plt.ylabel(\"RMSE\")\n",
    "plt.grid()\n",
    "\"\"\"\n",
    "print('', end = '')"
   ]
  },
  {
   "cell_type": "code",
   "execution_count": 131,
   "id": "1fbe8d41-6896-45d6-b8ce-7521acdb5ea5",
   "metadata": {},
   "outputs": [],
   "source": [
    "\"\"\"\n",
    "plt.figure(figsize = (8, 8), dpi = 100)\n",
    "\n",
    "plt.plot(LSTM_Pittsburgh_train_loss, marker = 'o')\n",
    "plt.title(\"LSTM Training Loss (Pittsburgh)\")\n",
    "plt.xlabel(\"Epoch\")\n",
    "plt.ylabel(\"RMSE\")\n",
    "plt.grid()\n",
    "\"\"\"\n",
    "print('', end = '')"
   ]
  },
  {
   "cell_type": "code",
   "execution_count": 132,
   "id": "ac4da076-078a-4a62-afa2-a32b35eb39ff",
   "metadata": {},
   "outputs": [],
   "source": [
    "\"\"\"\n",
    "plt.figure(figsize = (8, 8), dpi = 100)\n",
    "\n",
    "plt.plot(LSTM_Dearborn_train_loss, marker = 'o')\n",
    "plt.title(\"LSTM Training Loss (Dearborn)\")\n",
    "plt.xlabel(\"Epoch\")\n",
    "plt.ylabel(\"RMSE\")\n",
    "plt.grid()\n",
    "\"\"\"\n",
    "print('', end = '')"
   ]
  },
  {
   "cell_type": "code",
   "execution_count": 133,
   "id": "c11a2f2f-17a8-46dd-a7af-0a9e5165c55e",
   "metadata": {},
   "outputs": [],
   "source": [
    "\"\"\"\n",
    "plt.figure(figsize = (8, 8), dpi = 100)\n",
    "\n",
    "plt.plot(LSTM_DC_train_loss, marker = 'o')\n",
    "plt.title(\"LSTM Training Loss (DC)\")\n",
    "plt.xlabel(\"Epoch\")\n",
    "plt.ylabel(\"RMSE\")\n",
    "plt.grid()\n",
    "\"\"\"\n",
    "print('', end = '')"
   ]
  },
  {
   "cell_type": "code",
   "execution_count": 134,
   "id": "18f73308-02b1-4bd3-b1ef-dbc55513bce4",
   "metadata": {},
   "outputs": [],
   "source": [
    "\"\"\"\n",
    "plt.figure(figsize = (8, 8), dpi = 100)\n",
    "\n",
    "plt.plot(LSTM_Palo_Alto_train_loss, marker = 'o')\n",
    "plt.title(\"LSTM Training Loss (Palo-Alto)\")\n",
    "plt.xlabel(\"Epoch\")\n",
    "plt.ylabel(\"RMSE\")\n",
    "plt.grid()\n",
    "\"\"\"\n",
    "print('', end = '')"
   ]
  },
  {
   "cell_type": "code",
   "execution_count": 135,
   "id": "ea141bed-725e-4cb8-845c-3467e0043751",
   "metadata": {},
   "outputs": [],
   "source": [
    "\"\"\"\n",
    "plt.figure(figsize = (8, 8), dpi = 100)\n",
    "\n",
    "plt.scatter(y_train_austin[:50,:,0], y_train_austin[:50,:,1], edgecolor = \"black\", linewidth = 0.1, label = \"True\")\n",
    "plt.scatter(y_train_austin_pred[:50,:,0].detach(), y_train_austin_pred[:50,:,1].detach(), edgecolor = \"black\", linewidth = 0.1, label = \"Predicted\")\n",
    "plt.legend()\n",
    "plt.title(\"True vs. Predicted Values for LSTM Trained on Austin Data\")\n",
    "plt.xlabel(\"x Position\")\n",
    "plt.ylabel(\"y Position\")\n",
    "plt.grid()\n",
    "\"\"\"\n",
    "print('', end = '')"
   ]
  },
  {
   "cell_type": "code",
   "execution_count": 136,
   "id": "4f98e7fd-c008-4e86-9274-b251a120b9c7",
   "metadata": {},
   "outputs": [],
   "source": [
    "\"\"\"\n",
    "plt.figure(figsize = (8, 8), dpi = 100)\n",
    "\n",
    "plt.scatter(y_train_miami[:50,:,0], y_train_miami[:50,:,1], edgecolor = \"black\", linewidth = 0.1, label = \"True\")\n",
    "plt.scatter(y_train_miami_pred[:50,:,0].detach(), y_train_miami_pred[:50,:,1].detach(), edgecolor = \"black\", linewidth = 0.1, label = \"Predicted\")\n",
    "plt.legend()\n",
    "plt.title(\"True vs. Predicted Values for LSTM Trained on Miami Data\")\n",
    "plt.xlabel(\"x Position\")\n",
    "plt.ylabel(\"y Position\")\n",
    "plt.grid()\n",
    "\"\"\"\n",
    "print('', end = '')"
   ]
  },
  {
   "cell_type": "code",
   "execution_count": 137,
   "id": "4b79d4d6-0b44-4b8f-814b-43d01a8d9498",
   "metadata": {},
   "outputs": [],
   "source": [
    "\"\"\"\n",
    "plt.figure(figsize = (8, 8), dpi = 100)\n",
    "\n",
    "plt.scatter(y_train_pittsburgh[:50,:,0], y_train_pittsburgh[:50,:,1], edgecolor = \"black\", linewidth = 0.1, label = \"True\")\n",
    "plt.scatter(y_train_pittsburgh_pred[:50,:,0].detach(), y_train_pittsburgh_pred[:50,:,1].detach(), edgecolor = \"black\", linewidth = 0.1, label = \"Predicted\")\n",
    "plt.legend()\n",
    "plt.title(\"True vs. Predicted Values for LSTM Trained on Pittsburgh Data\")\n",
    "plt.xlabel(\"x Position\")\n",
    "plt.ylabel(\"y Position\")\n",
    "plt.grid()\n",
    "\"\"\"\n",
    "print('', end = '')"
   ]
  },
  {
   "cell_type": "code",
   "execution_count": 138,
   "id": "a35db973-a7b3-4ad0-aa99-511d01c8d56e",
   "metadata": {},
   "outputs": [],
   "source": [
    "\"\"\"\n",
    "plt.figure(figsize = (8, 8), dpi = 100)\n",
    "\n",
    "plt.scatter(y_train_dearborn[:50,:,0], y_train_dearborn[:50,:,1], edgecolor = \"black\", linewidth = 0.1, label = \"True\")\n",
    "plt.scatter(y_train_dearborn_pred[:50,:,0].detach(), y_train_dearborn_pred[:50,:,1].detach(), edgecolor = \"black\", linewidth = 0.1, label = \"Predicted\")\n",
    "plt.legend()\n",
    "plt.title(\"True vs. Predicted Values for LSTM Trained on Dearborn Data\")\n",
    "plt.xlabel(\"x Position\")\n",
    "plt.ylabel(\"y Position\")\n",
    "plt.grid()\n",
    "\"\"\"\n",
    "print('', end = '')"
   ]
  },
  {
   "cell_type": "code",
   "execution_count": 139,
   "id": "5f7679d8-ef37-465c-95b9-613bed280fa6",
   "metadata": {},
   "outputs": [],
   "source": [
    "\"\"\"\n",
    "plt.figure(figsize = (8, 8), dpi = 100)\n",
    "\n",
    "plt.scatter(y_train_dc[:50,:,0], y_train_dc[:50,:,1], edgecolor = \"black\", linewidth = 0.1, label = \"True\")\n",
    "plt.scatter(y_train_dc_pred[:50,:,0].detach(), y_train_dc_pred[:50,:,1].detach(), edgecolor = \"black\", linewidth = 0.1, label = \"Predicted\")\n",
    "plt.legend()\n",
    "plt.title(\"True vs. Predicted Values for LSTM Trained on DC Data\")\n",
    "plt.xlabel(\"x Position\")\n",
    "plt.ylabel(\"y Position\")\n",
    "plt.grid()\n",
    "\"\"\"\n",
    "print(end = '')"
   ]
  },
  {
   "cell_type": "code",
   "execution_count": 140,
   "id": "17af653b-a34e-42a2-a383-310f79e3fa4c",
   "metadata": {},
   "outputs": [],
   "source": [
    "\"\"\"\n",
    "plt.figure(figsize = (8, 8), dpi = 100)\n",
    "\n",
    "plt.scatter(y_train_palo_alto[:50,:,0], y_train_palo_alto[:50,:,1], edgecolor = \"black\", linewidth = 0.1, label = \"True\")\n",
    "plt.scatter(y_train_palo_alto_pred[:50,:,0].detach(), y_train_palo_alto_pred[:50,:,1].detach(), edgecolor = \"black\", linewidth = 0.1, label = \"Predicted\")\n",
    "plt.legend()\n",
    "plt.title(\"True vs. Predicted Values for LSTM Trained on Palo-Alto Data\")\n",
    "plt.xlabel(\"x Position\")\n",
    "plt.ylabel(\"y Position\")\n",
    "plt.grid()\n",
    "\"\"\"\n",
    "print(end = '')"
   ]
  },
  {
   "cell_type": "code",
   "execution_count": 141,
   "id": "63e91fa6-574e-441c-8235-c689161126cf",
   "metadata": {},
   "outputs": [],
   "source": [
    "#pd.DataFrame(\n",
    "#    [LSTM_Austin_train_loss, LSTM_Miami_train_loss, LSTM_Pittsburgh_train_loss, LSTM_Dearborn_train_loss, LSTM_DC_train_loss, LSTM_Palo_Alto_train_loss]\n",
    "#).T.rename(columns = {0: \"Austin\", 1: \"Miami\", 2: \"Pittsburgh\", 3: \"Dearborn\", 4: \"DC\", 5: \"Palo-Alto\"})"
   ]
  },
  {
   "cell_type": "code",
   "execution_count": 142,
   "id": "e51b6a4c-11cc-49e6-a5ad-d0cac22e14dd",
   "metadata": {},
   "outputs": [],
   "source": [
    "#pd.DataFrame(\n",
    "#    [y_train_austin_RMSE, y_train_miami_RMSE, y_train_pittsburgh_RMSE, y_train_dearborn_RMSE, y_train_dc_RMSE, y_train_palo_alto_RMSE],\n",
    "#    index = [\"Austin\", \"Miami\", \"Pittsburgh\", \"Dearborn\", \"DC\", \"Palo-Alto\"],\n",
    "#    columns = [\"Final Train RMSE\"]\n",
    "#)"
   ]
  },
  {
   "cell_type": "markdown",
   "id": "153476cb-fb4e-4dbb-b2c3-4fdc0b621963",
   "metadata": {},
   "source": [
    "Linear Prediction"
   ]
  },
  {
   "cell_type": "code",
   "execution_count": 143,
   "id": "7a14a4d2-ab00-41ec-82d6-71ab5a63a3e7",
   "metadata": {},
   "outputs": [],
   "source": [
    "\"\"\"\n",
    "from torch import nn, optim\n",
    "\n",
    "class Lin_Pred(nn.Module):\n",
    "\n",
    "    def __init__(self):\n",
    "        super().__init__()\n",
    "        \n",
    "        self.lin = nn.Linear(100, 120)\n",
    "        \n",
    "    def forward(self, x):\n",
    "        x = x.reshape(-1, 100).float()\n",
    "        x = self.lin(x)\n",
    "        x = x.reshape(-1, 60, 2)\n",
    "        return x\n",
    "    \n",
    "pred = Lin_Pred()\n",
    "opt = optim.Adam(pred.parameters(), lr=1e-3)\n",
    "\n",
    "for epoch in range(10):\n",
    "    \n",
    "    total_loss = 0\n",
    "    for i_batch, sample_batch in enumerate(train_loader):\n",
    "        inp, out = sample_batch\n",
    "        preds = pred(inp)\n",
    "        loss = ((preds - out) ** 2).sum()\n",
    "        \n",
    "        opt.zero_grad()\n",
    "        loss.backward()\n",
    "        opt.step()\n",
    "        \n",
    "        total_loss += loss.item()\n",
    "        \n",
    "    print('epoch {} loss: {}'.format(epoch, total_loss / len(train_dataset)))\n",
    "\"\"\"\n",
    "print(end = '')"
   ]
  },
  {
   "cell_type": "markdown",
   "id": "7864d231-0ab9-4a6d-84be-510f8ddd0fd2",
   "metadata": {},
   "source": [
    "MCP Prediction"
   ]
  },
  {
   "cell_type": "code",
   "execution_count": 144,
   "id": "697c320e-a6ef-45cb-bb90-8515017a4f12",
   "metadata": {},
   "outputs": [],
   "source": [
    "\"\"\"\n",
    "from torch import nn, optim\n",
    "\n",
    "class MCP_Pred(nn.Module):\n",
    "\n",
    "    def __init__(self):\n",
    "        super().__init__()\n",
    "        \n",
    "        self.encoder = nn.Sequential(\n",
    "            nn.Linear(100, 64),\n",
    "            nn.ReLU(),\n",
    "            nn.Linear(64, 32),\n",
    "            nn.ReLU(),\n",
    "            nn.Linear(32, 32)\n",
    "        )\n",
    "        \n",
    "        self.decoder = nn.Sequential(\n",
    "            nn.Linear(32, 64),\n",
    "            nn.ReLU(),\n",
    "            nn.Linear(64, 120),\n",
    "            nn.ReLU(),\n",
    "            nn.Linear(120, 120)\n",
    "        )\n",
    "        \n",
    "    def forward(self, x):\n",
    "        x = x.reshape(-1, 100).float()\n",
    "        x = self.encoder(x)\n",
    "        x = self.decoder(x)\n",
    "        x = x.reshape(-1, 60, 2)\n",
    "        return x\n",
    "\n",
    "pred = MCP_Pred()\n",
    "opt = optim.Adam(pred.parameters(), lr=1e-3)\n",
    "\n",
    "for epoch in range(10):\n",
    "    \n",
    "    total_loss = 0\n",
    "    for i_batch, sample_batch in enumerate(train_loader):\n",
    "        inp, out = sample_batch\n",
    "        preds = pred(inp)\n",
    "        loss = ((preds - out) ** 2).sum()\n",
    "        \n",
    "        opt.zero_grad()\n",
    "        loss.backward()\n",
    "        opt.step()\n",
    "        \n",
    "        total_loss += loss.item()\n",
    "        \n",
    "    print('epoch {} loss: {}'.format(epoch, total_loss / len(train_dataset)))\n",
    "\"\"\"\n",
    "print(end = '')"
   ]
  },
  {
   "cell_type": "code",
   "execution_count": 145,
   "id": "5959f6b8-0613-4774-a77d-b0e4ae8cba85",
   "metadata": {},
   "outputs": [],
   "source": [
    "# final_train, final_valid = make_valid_set(train_inp_all, train_out_all)\n",
    "# final_train_inp, final_train_out = final_train\n",
    "# final_valid_inp, final_valid_out = final_valid\n",
    "# final_LSTM = LSTM(final_train_inp, final_train_out, sequence_length = 5, hidden_size = 100)\n",
    "# final_LSTM_train_loss, final_LSTM_valid_loss = final_LSTM.train(batch_size = 0.25, valid = final_valid)\n",
    "# final_test_pred = final_LSTM.predict(test_inp_all, output_length = 60)"
   ]
  },
  {
   "cell_type": "code",
   "execution_count": 146,
   "id": "56ccf149-aea4-47a9-b41a-f0b68a771fb6",
   "metadata": {},
   "outputs": [],
   "source": [
    "#LSTM5 = LSTM(X_train_all, y_train_all, sequence_length = 5, hidden_size = 100)\n",
    "#LSTM5.load_state_dict(torch.load(\"LSTM5.pth\"))\n",
    "#test_pred_all = LSTM5.predict(test_inp_all, output_length = 60)"
   ]
  },
  {
   "cell_type": "code",
   "execution_count": 147,
   "id": "e26b73af-cc43-4c26-8a5d-a0ae34c7375f",
   "metadata": {},
   "outputs": [],
   "source": [
    "#test_pred_all.shape"
   ]
  },
  {
   "cell_type": "code",
   "execution_count": 148,
   "id": "cd7352ef-d9bd-4d04-b3e7-340b96bd0d8f",
   "metadata": {},
   "outputs": [],
   "source": [
    "\"\"\"\n",
    "df = pd.DataFrame(torch.flatten(test_pred_all, 1, 3).to(\"cpu\").detach().numpy())\n",
    "df = df.rename(columns=dict(zip(np.arange(120), [\"v\" + str(i) for i in np.arange(120)])))\n",
    "idd = ([str(i) + \"_austin\" for i in np.arange(len(test_city_datasets[0]))] +\n",
    "      [str(i) + \"_miami\" for i in np.arange(len(test_city_datasets[1]))] +\n",
    "      [str(i) + \"_pittsburgh\" for i in np.arange(len(test_city_datasets[2]))] +\n",
    "      [str(i) + \"_dearborn\" for i in np.arange(len(test_city_datasets[3]))] +\n",
    "      [str(i) + \"_washington-dc\" for i in np.arange(len(test_city_datasets[4]))] +\n",
    "      [str(i) + \"_palo-alto\" for i in np.arange(len(test_city_datasets[5]))])\n",
    "df.insert(loc=0, column='ID', value=idd)\n",
    "\"\"\"\n",
    "print(end = '')"
   ]
  },
  {
   "cell_type": "code",
   "execution_count": 149,
   "id": "da1b5bc7-608e-40d9-a82e-de122bba1393",
   "metadata": {},
   "outputs": [],
   "source": [
    "#df.to_csv(\"out.csv\", index=False)"
   ]
  },
  {
   "cell_type": "code",
   "execution_count": 150,
   "id": "9b9639c5-75ae-4afb-876c-d23ae245b7a1",
   "metadata": {},
   "outputs": [],
   "source": [
    "# LSTM5 = LSTM(X_train_all, y_train_all, sequence_length = 5, hidden_size = 100)\n",
    "# LSTM5.load_state_dict(torch.load(\"LSTM5.pth\"))\n",
    "# LSTM5 = LSTM5.cuda()\n",
    "# test_pred_all = []\n",
    "# i = 0\n",
    "# for entry in test_inp_all:\n",
    "#     with torch.no_grad():\n",
    "#         pred = LSTM5.predict([entry], output_length = 120)\n",
    "#     test_pred_all.append(pred.to('cpu'))\n",
    "#     del pred\n",
    "#     torch.cuda.empty_cache()\n",
    "#     if i % 1000 == 0:\n",
    "#         print(i)\n",
    "#     i += 1"
   ]
  },
  {
   "cell_type": "code",
   "execution_count": 151,
   "id": "f413db48-267b-4dac-84c9-bf5d10846f46",
   "metadata": {},
   "outputs": [],
   "source": [
    "# class new_LSTM(torch.nn.Module):\n",
    "#     \"\"\"\n",
    "#     Final implementation of the sequence processing neural network.\n",
    "#     \"\"\"\n",
    "    \n",
    "#     def __init__(self, hidden_size = 100):\n",
    "#         super(new_LSTM, self).__init__()\n",
    "#         layer_size = 2\n",
    "#         self.lstm = torch.nn.LSTM(100, hidden_size, num_layers = 1)\n",
    "#         self.fc1 = torch.nn.Linear(in_features = hidden_size, out_features = 64)\n",
    "#         self.fc2 = torch.nn.Linear(in_features = 64, out_features = 120)\n",
    "#         self.relu = torch.nn.ReLU()\n",
    "        \n",
    "#     def forward(self, input_tensor, hidden_state):\n",
    "#         if type(input_tensor) != torch.Tensor:\n",
    "#             input_tensor = torch.tensor(input_tensor).float().cuda()\n",
    "#         output = input_tensor.clone().cuda()\n",
    "#         output = output.reshape(-1, 100)\n",
    "#         if len(output.shape) == 2:\n",
    "#             output = output.unsqueeze(dim = 0)\n",
    "#         output, hidden_state = self.lstm(output, hidden_state)\n",
    "#         output = self.fc1(output)\n",
    "#         output = self.relu(output)\n",
    "#         output = self.fc2(output)\n",
    "        \n",
    "#         return output.reshape(-1, 60, 2), (hidden_state[0].detach(), hidden_state[1].detach())\n",
    "    \n",
    "#     def evaluate(self, pred, true):\n",
    "#         MSE = torch.nn.MSELoss().cuda()\n",
    "#         pred = pred.cuda()\n",
    "#         true = true.cuda()\n",
    "#         loss = MSE(pred, true).item()\n",
    "#         return loss**(1/2)\n",
    "    \n",
    "#     def fit(self, train_inp, train_out, learning_rate = 1e-4, num_epochs = 100, batch_size = 1.0, adaptive = False, valid_inp = None, valid_out = None):\n",
    "#         if type(train_inp) != torch.Tensor:\n",
    "#             train_inp = torch.tensor(train_inp).float().cuda()\n",
    "#         if type(train_out) != torch.Tensor:\n",
    "#             train_out = torch.tensor(train_out).float().cuda()\n",
    "#         n = len(train_inp)\n",
    "#         if batch_size > 1.0:\n",
    "#             batch_n = int(batch_size)\n",
    "#         elif batch_size < 0:\n",
    "#             raise ValueError(\"Batch size cannot be negative!\")\n",
    "#         else:\n",
    "#             batch_n = int(n * batch_size)\n",
    "#         MSE = torch.nn.MSELoss()\n",
    "#         optimizer = torch.optim.Adam(self.parameters(), lr = learning_rate)\n",
    "#         train_loss = []\n",
    "        \n",
    "#         has_valid = valid_inp is not None and valid_out is not None\n",
    "#         if not has_valid:\n",
    "#             if num_epochs is None:\n",
    "#                 raise ValueError(\"Training time cannot be indefinite without a validation set!\")\n",
    "#             if adaptive:\n",
    "#                 raise ValueError(\"Learning rate cannot be adaptive without a validation set!\")\n",
    "#         if has_valid:\n",
    "#             if type(valid_inp) != torch.Tensor:\n",
    "#                 valid_inp = torch.tensor(valid_inp).float().cuda()\n",
    "#             if type(valid_out) != torch.Tensor:\n",
    "#                 valid_out = torch.tensor(valid_out).float().cuda()\n",
    "#             valid_loss = []\n",
    "#             old_loss = None\n",
    "#             new_loss = None\n",
    "#             bad_count = 0\n",
    "#             if num_epochs is None:\n",
    "#                 num_epochs = int(1e10)\n",
    "            \n",
    "#         for epoch in tqdm(range(num_epochs)):\n",
    "#             hidden_state = None\n",
    "            \n",
    "#             np.random.seed(epoch)\n",
    "#             batch_idx = np.random.randint(n, size = batch_n)\n",
    "#             batch_inp = train_inp[batch_idx].cuda()\n",
    "#             batch_out = train_out[batch_idx].cuda()\n",
    "            \n",
    "#             output, hidden_state = self(batch_inp, hidden_state)\n",
    "            \n",
    "#             loss = MSE(output, batch_out)\n",
    "#             epoch_MSE = loss.item()\n",
    "            \n",
    "#             optimizer.zero_grad()\n",
    "#             loss.backward()\n",
    "#             optimizer.step()\n",
    "        \n",
    "#             if has_valid:\n",
    "#                 valid_pred, valid_hidden = self(valid_inp, hidden_state = None)\n",
    "#                 valid_RMSE = self.evaluate(valid_pred, valid_out)\n",
    "#                 valid_loss.append(valid_RMSE)\n",
    "#                 new_loss = valid_RMSE\n",
    "#                 if old_loss != None:\n",
    "#                     if new_loss >= old_loss:\n",
    "#                         bad_count += 1\n",
    "#                         if adaptive:\n",
    "#                             for g in optimizer.param_groups:\n",
    "#                                 g[\"lr\"] *= 0.9\n",
    "#                         if bad_count >= 3:\n",
    "#                             print(\"Early stopped after epoch\", epoch)\n",
    "#                             break\n",
    "#                         else:\n",
    "#                             bad_count = 0\n",
    "#                     else:\n",
    "#                         if adaptive:\n",
    "#                             for g in optimizer.param_groups:\n",
    "#                                 g[\"lr\"] *= 1.1\n",
    "\n",
    "#                 old_loss = new_loss\n",
    "                \n",
    "#             epoch_RMSE = epoch_MSE**(1/2)\n",
    "#             train_loss.append(epoch_RMSE)\n",
    "        \n",
    "#         if has_valid:\n",
    "#             return train_loss, valid_loss\n",
    "#         else:\n",
    "#             return train_loss"
   ]
  },
  {
   "cell_type": "code",
   "execution_count": 152,
   "id": "c97514b3-26a2-4ce8-bff7-47d45e897806",
   "metadata": {},
   "outputs": [],
   "source": [
    "# final_train, final_valid = make_valid_set(train_inp_all, train_out_all)\n",
    "# final_X_train, final_y_train = final_train\n",
    "# final_X_valid, final_y_valid = final_valid"
   ]
  },
  {
   "cell_type": "code",
   "execution_count": 153,
   "id": "58ed7d5d-aff4-42f3-89b7-ee694c5413e6",
   "metadata": {},
   "outputs": [],
   "source": [
    "# final_LSTM = new_LSTM()\n",
    "# final_LSTM.cuda()"
   ]
  },
  {
   "cell_type": "code",
   "execution_count": 154,
   "id": "134baab9-e7ad-48ed-9599-963ab813a7e9",
   "metadata": {},
   "outputs": [],
   "source": [
    "# final_train_loss, final_valid_loss = final_LSTM.fit(final_X_train, final_y_train, num_epochs = 4000, batch_size = 0.25, adaptive = True, valid_inp = final_X_valid, valid_out = final_y_valid)"
   ]
  },
  {
   "cell_type": "code",
   "execution_count": 155,
   "id": "f09046a7-e1d1-4d2b-8e01-d64100380567",
   "metadata": {},
   "outputs": [],
   "source": [
    "# plt.figure(figsize = (8, 8), dpi = 100)\n",
    "\n",
    "# plt.plot(final_train_loss, marker = 'o')\n",
    "# plt.plot(final_valid_loss, marker = 'o')\n",
    "# plt.title(\"LSTM Training Loss\")\n",
    "# plt.xlabel(\"Epoch\")\n",
    "# plt.ylabel(\"RMSE\")\n",
    "# plt.grid()"
   ]
  },
  {
   "cell_type": "code",
   "execution_count": 156,
   "id": "90a49bdb-1832-459e-9868-ef1a2950d426",
   "metadata": {},
   "outputs": [],
   "source": [
    "# torch.save(final_LSTM.state_dict(), \"saved_models/final_LSTM.pth\")"
   ]
  },
  {
   "cell_type": "code",
   "execution_count": 157,
   "id": "2aaf4108-6fc3-43ef-be15-538ec154f40e",
   "metadata": {},
   "outputs": [],
   "source": [
    "# pd.DataFrame([final_train_loss, final_valid_loss]).T.rename(columns = {0: \"Training RMSE\", 1: \"Validation RMSE\"}).to_csv(\"saved_loss/final_LSTM.csv\")"
   ]
  },
  {
   "cell_type": "code",
   "execution_count": 158,
   "id": "0c236ca8-48ea-4af5-9804-57f0660dea98",
   "metadata": {},
   "outputs": [],
   "source": [
    "# final_train_austin, final_valid_austin = make_valid_set(train_inp_austin, train_out_austin)\n",
    "# final_X_train_austin, final_y_train_austin = final_train_austin\n",
    "# final_X_valid_austin, final_y_valid_austin = final_valid_austin\n",
    "# #final_LSTM_austin = new_LSTM().cuda()\n",
    "\n",
    "# final_train_miami, final_valid_miami = make_valid_set(train_inp_miami, train_out_miami)\n",
    "# final_X_train_miami, final_y_train_miami = final_train_miami\n",
    "# final_X_valid_miami, final_y_valid_miami = final_valid_miami\n",
    "# #final_LSTM_miami = new_LSTM().cuda()\n",
    "\n",
    "# final_train_pittsburgh, final_valid_pittsburgh = make_valid_set(train_inp_pittsburgh, train_out_pittsburgh)\n",
    "# final_X_train_pittsburgh, final_y_train_pittsburgh = final_train_pittsburgh\n",
    "# final_X_valid_pittsburgh, final_y_valid_pittsburgh = final_valid_pittsburgh\n",
    "# #final_LSTM_pittsburgh = new_LSTM().cuda()\n",
    "\n",
    "# final_train_dearborn, final_valid_dearborn = make_valid_set(train_inp_dearborn, train_out_dearborn)\n",
    "# final_X_train_dearborn, final_y_train_dearborn = final_train_dearborn\n",
    "# final_X_valid_dearborn, final_y_valid_dearborn = final_valid_dearborn\n",
    "# #final_LSTM_dearborn = new_LSTM().cuda()\n",
    "\n",
    "# final_train_dc, final_valid_dc = make_valid_set(train_inp_dc, train_out_dc)\n",
    "# final_X_train_dc, final_y_train_dc = final_train_dc\n",
    "# final_X_valid_dc, final_y_valid_dc = final_valid_dc\n",
    "# #final_LSTM_dc = new_LSTM().cuda()\n",
    "\n",
    "# final_train_palo_alto, final_valid_palo_alto = make_valid_set(train_inp_palo_alto, train_out_palo_alto)\n",
    "# final_X_train_palo_alto, final_y_train_palo_alto = final_train_palo_alto\n",
    "# final_X_valid_palo_alto, final_y_valid_palo_alto = final_valid_palo_alto\n",
    "# #final_LSTM_palo_alto = new_LSTM().cuda()"
   ]
  },
  {
   "cell_type": "code",
   "execution_count": 159,
   "id": "4746a95b-08d1-41e6-a346-682373ef885a",
   "metadata": {},
   "outputs": [],
   "source": [
    "# final_train_loss_austin, final_valid_loss_austin = final_LSTM_austin.fit(final_X_train_austin, final_y_train_austin, num_epochs = 5000, batch_size = 0.25, adaptive = True, valid_inp = final_X_valid_austin, valid_out = final_y_valid_austin)"
   ]
  },
  {
   "cell_type": "code",
   "execution_count": 160,
   "id": "4fcbb4ed-15cb-468f-aece-f4396d9cdd0c",
   "metadata": {},
   "outputs": [],
   "source": [
    "# plt.figure(figsize = (8, 8), dpi = 100)\n",
    "\n",
    "# plt.plot(final_train_loss_austin, marker = 'o')\n",
    "# plt.plot(final_valid_loss_austin, marker = 'o')\n",
    "# plt.title(\"LSTM Training Loss (Austin)\")\n",
    "# plt.xlabel(\"Epoch\")\n",
    "# plt.ylabel(\"RMSE\")\n",
    "# plt.grid()"
   ]
  },
  {
   "cell_type": "code",
   "execution_count": 161,
   "id": "c30bac61-c787-400d-865e-6539b1c378e4",
   "metadata": {},
   "outputs": [],
   "source": [
    "# torch.save(final_LSTM_austin.state_dict(), \"saved_models/final_LSTM_austin.pth\")"
   ]
  },
  {
   "cell_type": "code",
   "execution_count": 162,
   "id": "5501bb18-d9d4-4374-b344-e5b59de10c19",
   "metadata": {},
   "outputs": [],
   "source": [
    "# pd.DataFrame([final_train_loss_austin, final_valid_loss_austin]).T.rename(columns = {0: \"Training RMSE\", 1: \"Validation RMSE\"}).to_csv(\"saved_loss/final_LSTM_austin.csv\")"
   ]
  },
  {
   "cell_type": "code",
   "execution_count": 163,
   "id": "fcf912fc-c915-4a72-8176-0563cb393076",
   "metadata": {},
   "outputs": [],
   "source": [
    "# final_train_loss_miami, final_valid_loss_miami = final_LSTM_miami.fit(final_X_train_miami, final_y_train_miami, num_epochs = 5000, batch_size = 0.25, adaptive = True, valid_inp = final_X_valid_miami, valid_out = final_y_valid_miami)"
   ]
  },
  {
   "cell_type": "code",
   "execution_count": 164,
   "id": "dec245ac-0447-4efc-ac63-bc2124f8afb0",
   "metadata": {},
   "outputs": [],
   "source": [
    "# plt.figure(figsize = (8, 8), dpi = 100)\n",
    "\n",
    "# plt.plot(final_train_loss_miami, marker = 'o')\n",
    "# plt.plot(final_valid_loss_miami, marker = 'o')\n",
    "# plt.title(\"LSTM Training Loss (Miami)\")\n",
    "# plt.xlabel(\"Epoch\")\n",
    "# plt.ylabel(\"RMSE\")\n",
    "# plt.grid()"
   ]
  },
  {
   "cell_type": "code",
   "execution_count": 165,
   "id": "a7e896c6-a81e-4713-8e8c-622a65e84422",
   "metadata": {},
   "outputs": [],
   "source": [
    "# torch.save(final_LSTM_miami.state_dict(), \"saved_models/final_LSTM_miami.pth\")"
   ]
  },
  {
   "cell_type": "code",
   "execution_count": 166,
   "id": "97a3e1d5-7b35-4a04-8737-03bee2cac9e8",
   "metadata": {},
   "outputs": [],
   "source": [
    "# pd.DataFrame([final_train_loss_miami, final_valid_loss_miami]).T.rename(columns = {0: \"Training RMSE\", 1: \"Validation RMSE\"}).to_csv(\"saved_loss/final_LSTM_miami.csv\")"
   ]
  },
  {
   "cell_type": "code",
   "execution_count": 167,
   "id": "351a89a9-2740-489e-97df-960326f76bcf",
   "metadata": {},
   "outputs": [],
   "source": [
    "# final_train_loss_pittsburgh, final_valid_loss_pittsburgh = final_LSTM_pittsburgh.fit(final_X_train_pittsburgh, final_y_train_pittsburgh, num_epochs = 5000, batch_size = 0.25, adaptive = True, valid_inp = final_X_valid_pittsburgh, valid_out = final_y_valid_pittsburgh)"
   ]
  },
  {
   "cell_type": "code",
   "execution_count": 168,
   "id": "475ce2b0-c9c2-436a-915a-b57df2334dd4",
   "metadata": {},
   "outputs": [],
   "source": [
    "# plt.figure(figsize = (8, 8), dpi = 100)\n",
    "\n",
    "# plt.plot(final_train_loss_pittsburgh, marker = 'o')\n",
    "# plt.plot(final_valid_loss_pittsburgh, marker = 'o')\n",
    "# plt.title(\"LSTM Training Loss (Pittsburgh)\")\n",
    "# plt.xlabel(\"Epoch\")\n",
    "# plt.ylabel(\"RMSE\")\n",
    "# plt.grid()"
   ]
  },
  {
   "cell_type": "code",
   "execution_count": 169,
   "id": "e88f05c8-afec-468d-b210-752509eb169e",
   "metadata": {},
   "outputs": [],
   "source": [
    "# torch.save(final_LSTM_pittsburgh.state_dict(), \"saved_models/final_LSTM_pittsburgh.pth\")"
   ]
  },
  {
   "cell_type": "code",
   "execution_count": 170,
   "id": "62d4edaa-565b-4753-b51a-17ea2137728d",
   "metadata": {},
   "outputs": [],
   "source": [
    "# pd.DataFrame([final_train_loss_pittsburgh, final_valid_loss_pittsburgh]).T.rename(columns = {0: \"Training RMSE\", 1: \"Validation RMSE\"}).to_csv(\"saved_loss/final_LSTM_pittsburgh.csv\")"
   ]
  },
  {
   "cell_type": "code",
   "execution_count": 171,
   "id": "73f2952a-2ef5-4e39-9699-3727cb7646ac",
   "metadata": {},
   "outputs": [],
   "source": [
    "# final_train_loss_dearborn, final_valid_loss_dearborn = final_LSTM_dearborn.fit(final_X_train_dearborn, final_y_train_dearborn, num_epochs = 5000, batch_size = 0.25, adaptive = True, valid_inp = final_X_valid_dearborn, valid_out = final_y_valid_dearborn)"
   ]
  },
  {
   "cell_type": "code",
   "execution_count": 172,
   "id": "5504e3f0-96d3-44ab-b914-d0cc0212ded5",
   "metadata": {},
   "outputs": [],
   "source": [
    "# plt.figure(figsize = (8, 8), dpi = 100)\n",
    "\n",
    "# plt.plot(final_train_loss_dearborn, marker = 'o')\n",
    "# plt.plot(final_valid_loss_dearborn, marker = 'o')\n",
    "# plt.title(\"LSTM Training Loss (Dearborn)\")\n",
    "# plt.xlabel(\"Epoch\")\n",
    "# plt.ylabel(\"RMSE\")\n",
    "# plt.grid()"
   ]
  },
  {
   "cell_type": "code",
   "execution_count": 173,
   "id": "dcea1be9-a6c0-4f22-880f-48fb76d77ef3",
   "metadata": {},
   "outputs": [],
   "source": [
    "# torch.save(final_LSTM_dearborn.state_dict(), \"saved_models/final_LSTM_dearborn.pth\")"
   ]
  },
  {
   "cell_type": "code",
   "execution_count": 174,
   "id": "3a177158-2b0f-47ab-a085-dda01f3f75ff",
   "metadata": {},
   "outputs": [],
   "source": [
    "# pd.DataFrame([final_train_loss_dearborn, final_valid_loss_dearborn]).T.rename(columns = {0: \"Training RMSE\", 1: \"Validation RMSE\"}).to_csv(\"saved_loss/final_LSTM_dearborn.csv\")"
   ]
  },
  {
   "cell_type": "code",
   "execution_count": 175,
   "id": "ea4bbc2a-e5e3-4a4e-9c5e-00719e8fa67b",
   "metadata": {},
   "outputs": [],
   "source": [
    "# final_train_loss_dc, final_valid_loss_dc = final_LSTM_dc.fit(final_X_train_dc, final_y_train_dc, num_epochs = 5000, batch_size = 0.25, adaptive = True, valid_inp = final_X_valid_dc, valid_out = final_y_valid_dc)"
   ]
  },
  {
   "cell_type": "code",
   "execution_count": 176,
   "id": "369a5e87-2bb0-4e02-a179-394bedac207c",
   "metadata": {},
   "outputs": [],
   "source": [
    "# plt.figure(figsize = (8, 8), dpi = 100)\n",
    "\n",
    "# plt.plot(final_train_loss_dc, marker = 'o')\n",
    "# plt.plot(final_valid_loss_dc, marker = 'o')\n",
    "# plt.title(\"LSTM Training Loss (DC)\")\n",
    "# plt.xlabel(\"Epoch\")\n",
    "# plt.ylabel(\"RMSE\")\n",
    "# plt.grid()"
   ]
  },
  {
   "cell_type": "code",
   "execution_count": 177,
   "id": "1a2059e9-65e7-4dd9-bfb4-be4460daaef9",
   "metadata": {},
   "outputs": [],
   "source": [
    "# torch.save(final_LSTM_dc.state_dict(), \"saved_models/final_LSTM_dc.pth\")"
   ]
  },
  {
   "cell_type": "code",
   "execution_count": 178,
   "id": "b511ed64-93d1-4f3d-83bd-8937959aec3f",
   "metadata": {},
   "outputs": [],
   "source": [
    "# pd.DataFrame([final_train_loss_dc, final_valid_loss_dc]).T.rename(columns = {0: \"Training RMSE\", 1: \"Validation RMSE\"}).to_csv(\"saved_loss/final_LSTM_dc.csv\")"
   ]
  },
  {
   "cell_type": "code",
   "execution_count": 179,
   "id": "108bda31-27b0-42a6-b40c-23a6f4174fd2",
   "metadata": {},
   "outputs": [],
   "source": [
    "# final_train_loss_palo_alto, final_valid_loss_palo_alto = final_LSTM_palo_alto.fit(final_X_train_palo_alto, final_y_train_palo_alto, num_epochs = 5000, batch_size = 0.25, adaptive = True, valid_inp = final_X_valid_palo_alto, valid_out = final_y_valid_palo_alto)"
   ]
  },
  {
   "cell_type": "code",
   "execution_count": 180,
   "id": "49fa85d3-e443-4ca5-a167-474e16f4f7c0",
   "metadata": {},
   "outputs": [],
   "source": [
    "# plt.figure(figsize = (8, 8), dpi = 100)\n",
    "\n",
    "# plt.plot(final_train_loss_palo_alto, marker = 'o')\n",
    "# plt.plot(final_valid_loss_palo_alto, marker = 'o')\n",
    "# plt.title(\"LSTM Training Loss (Palo-Alto)\")\n",
    "# plt.xlabel(\"Epoch\")\n",
    "# plt.ylabel(\"RMSE\")\n",
    "# plt.grid()"
   ]
  },
  {
   "cell_type": "code",
   "execution_count": 181,
   "id": "c9e6f03e-b039-4f21-968b-da5facf80dc9",
   "metadata": {},
   "outputs": [],
   "source": [
    "# torch.save(final_LSTM_palo_alto.state_dict(), \"saved_models/final_LSTM_palo_alto.pth\")"
   ]
  },
  {
   "cell_type": "code",
   "execution_count": 182,
   "id": "f81c632f-b6fb-4c41-a3bb-cc0bb8ad2268",
   "metadata": {},
   "outputs": [],
   "source": [
    "# pd.DataFrame([final_train_loss_palo_alto, final_valid_loss_palo_alto]).T.rename(columns = {0: \"Training RMSE\", 1: \"Validation RMSE\"}).to_csv(\"saved_loss/final_LSTM_palo_alto.csv\")"
   ]
  },
  {
   "cell_type": "code",
   "execution_count": 183,
   "id": "101a3319-073b-48a1-ae7d-d93a1f057a43",
   "metadata": {},
   "outputs": [],
   "source": [
    "# test_pred_all = final_LSTM.forward(test_inp_all, hidden_state = None)[0]\n",
    "# df = pd.DataFrame(torch.flatten(test_pred_all, 1, 2).to(\"cpu\").detach().numpy())\n",
    "# df = df.rename(columns=dict(zip(np.arange(120), [\"v\" + str(i) for i in np.arange(120)])))\n",
    "# idd = ([str(i) + \"_austin\" for i in np.arange(len(test_city_datasets[0]))] +\n",
    "#       [str(i) + \"_miami\" for i in np.arange(len(test_city_datasets[1]))] +\n",
    "#       [str(i) + \"_pittsburgh\" for i in np.arange(len(test_city_datasets[2]))] +\n",
    "#       [str(i) + \"_dearborn\" for i in np.arange(len(test_city_datasets[3]))] +\n",
    "#       [str(i) + \"_washington-dc\" for i in np.arange(len(test_city_datasets[4]))] +\n",
    "#       [str(i) + \"_palo-alto\" for i in np.arange(len(test_city_datasets[5]))])\n",
    "# df.insert(loc=0, column='ID', value=idd)"
   ]
  },
  {
   "cell_type": "code",
   "execution_count": 184,
   "id": "f6d3460f-28cb-45aa-8b6d-8db8557044c3",
   "metadata": {},
   "outputs": [],
   "source": [
    "# df.to_csv(\"out.csv\", index=False)"
   ]
  },
  {
   "cell_type": "code",
   "execution_count": 185,
   "id": "8839efbe-04b0-4868-8823-3bb2aaadd93a",
   "metadata": {},
   "outputs": [],
   "source": [
    "# austin_pred = final_LSTM_austin.forward(test_city_datasets[0], hidden_state = None)[0]\n",
    "# miami_pred = final_LSTM_miami.forward(test_city_datasets[1], hidden_state = None)[0]\n",
    "# pittsburgh_pred = final_LSTM_pittsburgh.forward(test_city_datasets[2], hidden_state = None)[0]\n",
    "# dearborn_pred = final_LSTM_dearborn.forward(test_city_datasets[3], hidden_state = None)[0]\n",
    "# dc_pred = final_LSTM_dc.forward(test_city_datasets[4], hidden_state = None)[0]\n",
    "# palo_alto_pred = final_LSTM_palo_alto.forward(test_city_datasets[5], hidden_state = None)[0]"
   ]
  },
  {
   "cell_type": "code",
   "execution_count": 186,
   "id": "124e0929-ec16-4812-a010-81b1d6d6bc1a",
   "metadata": {},
   "outputs": [],
   "source": [
    "# pred_combined = torch.cat((austin_pred, miami_pred, pittsburgh_pred, dearborn_pred, dc_pred, palo_alto_pred))\n",
    "# df = pd.DataFrame(torch.flatten(pred_combined, 1, 2).to(\"cpu\").detach().numpy())\n",
    "# df = df.rename(columns=dict(zip(np.arange(120), [\"v\" + str(i) for i in np.arange(120)])))\n",
    "# idd = ([str(i) + \"_austin\" for i in np.arange(len(test_city_datasets[0]))] +\n",
    "#       [str(i) + \"_miami\" for i in np.arange(len(test_city_datasets[1]))] +\n",
    "#       [str(i) + \"_pittsburgh\" for i in np.arange(len(test_city_datasets[2]))] +\n",
    "#       [str(i) + \"_dearborn\" for i in np.arange(len(test_city_datasets[3]))] +\n",
    "#       [str(i) + \"_washington-dc\" for i in np.arange(len(test_city_datasets[4]))] +\n",
    "#       [str(i) + \"_palo-alto\" for i in np.arange(len(test_city_datasets[5]))])\n",
    "# df.insert(loc=0, column='ID', value=idd)"
   ]
  },
  {
   "cell_type": "code",
   "execution_count": 187,
   "id": "dad9ea89-e41a-4cf9-b94f-512172876337",
   "metadata": {},
   "outputs": [],
   "source": [
    "# df.to_csv(\"out2.csv\", index=False)"
   ]
  },
  {
   "cell_type": "code",
   "execution_count": 188,
   "id": "0fe466c6-32ce-4b82-8300-b982bcc776d3",
   "metadata": {},
   "outputs": [],
   "source": [
    "class LSTM1(nn.Module):\n",
    "    def __init__(self, num_classes, input_size, hidden_size, num_layers, seq_length):\n",
    "        super(LSTM1, self).__init__()\n",
    "        self.num_classes = num_classes #number of classes\n",
    "        self.num_layers = num_layers #number of layers\n",
    "        self.input_size = input_size #input size\n",
    "        self.hidden_size = hidden_size #hidden state\n",
    "        self.seq_length = seq_length #sequence length\n",
    "\n",
    "        self.lstm = nn.LSTM(input_size=input_size, hidden_size=hidden_size,\n",
    "                          num_layers=num_layers, batch_first=True) #lstm\n",
    "        self.fc_1 =  nn.Linear(hidden_size, 128) #fully connected last layer\n",
    "        self.fc =  nn.Linear(128, num_classes)\n",
    "        self.relu = nn.ReLU()\n",
    "    \n",
    "    def forward(self,x):\n",
    "        h_0 = Variable(torch.zeros(self.num_layers, x.size(0), self.hidden_size)) #hidden state\n",
    "        c_0 = Variable(torch.zeros(self.num_layers, x.size(0), self.hidden_size)) #internal state\n",
    "        # Propagate input through LSTM\n",
    "        output, (hn, cn) = self.lstm(x, (h_0, c_0)) #lstm with input, hidden, and internal state\n",
    "        #output, hn = self.lstm(x, h_0.detach())\n",
    "        hn = hn.view(-1, self.hidden_size) #reshaping the data for Dense layer next\n",
    "        out = self.relu(hn)\n",
    "        out = self.fc_1(out) #Final Output\n",
    "        out = self.relu(out) #Final Output\n",
    "        out = self.fc(out) #Final Output\n",
    "        return out\n",
    "    \n",
    "class LSTM2(nn.Module):\n",
    "    def __init__(self, num_classes, input_size, hidden_size, num_layers, seq_length):\n",
    "        super(LSTM2, self).__init__()\n",
    "        self.num_classes = num_classes #number of classes\n",
    "        self.num_layers = num_layers #number of layers\n",
    "        self.input_size = input_size #input size\n",
    "        self.hidden_size = hidden_size #hidden state\n",
    "        self.seq_length = seq_length #sequence length\n",
    "\n",
    "        self.lstm = nn.LSTM(input_size=input_size, hidden_size=hidden_size,\n",
    "                          num_layers=num_layers, batch_first=True) #lstm\n",
    "        self.fc =  nn.Linear(hidden_size, num_classes)\n",
    "        self.relu = nn.ReLU()\n",
    "    \n",
    "    def forward(self,x):\n",
    "        \n",
    "        h_0 = Variable(torch.zeros(self.num_layers, x.size(0), self.hidden_size)) #hidden state\n",
    "        c_0 = Variable(torch.zeros(self.num_layers, x.size(0), self.hidden_size)) #internal state\n",
    "        # Propagate input through LSTM\n",
    "        output, (hn, cn) = self.lstm(x, (h_0, c_0)) #lstm with input, hidden, and internal state\n",
    "        #output, hn = self.lstm(x, h_0.detach())\n",
    "        hn = hn.view(-1, self.hidden_size)\n",
    "        out = self.relu(hn)\n",
    "        out = self.fc(out) #Final Output\n",
    "        \n",
    "        return out\n",
    "    \n",
    "class linearRegression(torch.nn.Module):\n",
    "    def __init__(self, inputSize, outputSize):\n",
    "        super(linearRegression, self).__init__()\n",
    "        self.linear = torch.nn.Linear(inputSize, outputSize)\n",
    "\n",
    "    def forward(self, x):\n",
    "        out = self.linear(x)\n",
    "        return out"
   ]
  },
  {
   "cell_type": "code",
   "execution_count": 189,
   "id": "8cfde110-e07c-415a-bdb3-dc346a3f8f14",
   "metadata": {},
   "outputs": [],
   "source": [
    "from torch.autograd import Variable \n",
    "final_train_austin, final_valid_austin = make_valid_set(train_inp_austin, train_out_austin)\n",
    "final_X_train_austin, final_y_train_austin = final_train_austin\n",
    "final_X_valid_austin, final_y_valid_austin = final_valid_austin\n",
    "final_X_train_austin = Variable(torch.Tensor(final_X_train_austin))\n",
    "final_y_train_austin = Variable(torch.Tensor(final_y_train_austin))\n",
    "final_X_valid_austin = Variable(torch.Tensor(final_X_valid_austin))\n",
    "final_y_valid_austin = Variable(torch.Tensor(final_y_valid_austin))\n",
    "\n",
    "train_data = []\n",
    "for i in range(len(final_X_train_austin)):\n",
    "    train_data.append([final_X_train_austin[i], final_y_train_austin[i]])\n",
    "\n",
    "val_data = []\n",
    "for i in range(len(final_X_valid_austin)):\n",
    "    val_data.append([final_X_valid_austin[i], final_y_valid_austin[i]])"
   ]
  },
  {
   "cell_type": "code",
   "execution_count": 190,
   "id": "0c073cc3-4c2b-417a-a241-36440ffb6205",
   "metadata": {},
   "outputs": [],
   "source": [
    "def create_input(inp, out, length):\n",
    "    new_inp = []\n",
    "    new_out = []\n",
    "    cat = numpy.concatenate((inp, out), axis=1)\n",
    "    for line in cat:\n",
    "        for i in np.arange(1):\n",
    "            new_inp.append(line[i:i+length])\n",
    "            new_out.append(line[i+length])\n",
    "    return new_inp, new_out"
   ]
  },
  {
   "cell_type": "code",
   "execution_count": null,
   "id": "d97d16c4-fb4a-43d2-9ba7-c473ae609540",
   "metadata": {},
   "outputs": [],
   "source": [
    "\n",
    "\n",
    "\n",
    "    \n"
   ]
  },
  {
   "cell_type": "code",
   "execution_count": 188,
   "id": "3f753688-7a26-48ed-84ca-c4782a7f6419",
   "metadata": {
    "tags": []
   },
   "outputs": [],
   "source": [
    "num_epochs = 10000 #1000 epochs\n",
    "learning_rate = 0.00001 #0.001 lr\n",
    "\n",
    "input_size = 2 #number of features\n",
    "hidden_size = 128 #number of features in hidden state\n",
    "num_layers = 1 #number of stacked lstm layers\n",
    "\n",
    "num_classes = 2 #number of output classes \n",
    "batch_size = 32\n",
    "\n",
    "mtrain_austinX, mtrain_austinY = create_input(final_X_train_austin, final_y_train_austin, 50)\n",
    "mval_austinX, mval_austinY = create_input(final_X_valid_austin, final_y_valid_austin, 50)\n",
    "\n",
    "\n",
    "train_data = []\n",
    "for i in range(len(mtrain_austinX)):\n",
    "    train_data.append([mtrain_austinX[i], mtrain_austinY[i]])\n",
    "    \n",
    "val_data = []\n",
    "for i in range(len(mval_austinX)):\n",
    "    val_data.append([mval_austinX[i], mval_austinY[i]])\n",
    "\n",
    "training_loader = torch.utils.data.DataLoader(train_data, batch_size=batch_size, shuffle=True, drop_last=True)\n",
    "validation_loader = torch.utils.data.DataLoader(val_data, batch_size=batch_size, shuffle=False, drop_last=True)\n",
    "\n",
    "lr = linearRegression(100, num_classes)\n",
    "\n",
    "criterion = torch.nn.MSELoss()\n",
    "#optimizer = torch.optim.Adam(lstm2.parameters(), lr=learning_rate)\n",
    "optimizer = torch.optim.Adam(lr.parameters(), lr=learning_rate)\n",
    "best_v_loss = 100000\n",
    "best_avg_loss = 100000\n",
    "best_t_loss = 100000"
   ]
  },
  {
   "cell_type": "code",
   "execution_count": 190,
   "id": "11106cf2-d434-4c3f-a425-d697b2d77789",
   "metadata": {
    "scrolled": true,
    "tags": []
   },
   "outputs": [
    {
     "name": "stdout",
     "output_type": "stream",
     "text": [
      "  batch 0 loss: 304307.95557911246 val-loss: 178295.640625\n",
      "  batch 100 loss: 43.92844346198894 val-loss: 45.1026725769043\n"
     ]
    },
    {
     "ename": "KeyboardInterrupt",
     "evalue": "",
     "output_type": "error",
     "traceback": [
      "\u001b[1;31m---------------------------------------------------------------------------\u001b[0m",
      "\u001b[1;31mKeyboardInterrupt\u001b[0m                         Traceback (most recent call last)",
      "\u001b[1;32m~\\AppData\\Local\\Temp/ipykernel_10960/3952976126.py\u001b[0m in \u001b[0;36m<module>\u001b[1;34m\u001b[0m\n\u001b[0;32m     10\u001b[0m         \u001b[0mlabels\u001b[0m \u001b[1;33m=\u001b[0m \u001b[0mlabels\u001b[0m\u001b[1;33m.\u001b[0m\u001b[0mfloat\u001b[0m\u001b[1;33m(\u001b[0m\u001b[1;33m)\u001b[0m\u001b[1;33m\u001b[0m\u001b[1;33m\u001b[0m\u001b[0m\n\u001b[0;32m     11\u001b[0m         \u001b[0moutputs\u001b[0m \u001b[1;33m=\u001b[0m \u001b[0mlr\u001b[0m\u001b[1;33m.\u001b[0m\u001b[0mforward\u001b[0m\u001b[1;33m(\u001b[0m\u001b[0minputs\u001b[0m\u001b[1;33m.\u001b[0m\u001b[0mreshape\u001b[0m\u001b[1;33m(\u001b[0m\u001b[1;36m32\u001b[0m\u001b[1;33m,\u001b[0m \u001b[1;36m100\u001b[0m\u001b[1;33m)\u001b[0m\u001b[1;33m)\u001b[0m \u001b[1;31m#forward pass\u001b[0m\u001b[1;33m\u001b[0m\u001b[1;33m\u001b[0m\u001b[0m\n\u001b[1;32m---> 12\u001b[1;33m         \u001b[0moptimizer\u001b[0m\u001b[1;33m.\u001b[0m\u001b[0mzero_grad\u001b[0m\u001b[1;33m(\u001b[0m\u001b[1;33m)\u001b[0m \u001b[1;31m#caluclate the gradient, manually setting to 0\u001b[0m\u001b[1;33m\u001b[0m\u001b[1;33m\u001b[0m\u001b[0m\n\u001b[0m\u001b[0;32m     13\u001b[0m \u001b[1;33m\u001b[0m\u001b[0m\n\u001b[0;32m     14\u001b[0m         \u001b[1;31m# obtain the loss function\u001b[0m\u001b[1;33m\u001b[0m\u001b[1;33m\u001b[0m\u001b[0m\n",
      "\u001b[1;32m~\\mambaforge\\lib\\site-packages\\torch\\optim\\optimizer.py\u001b[0m in \u001b[0;36mzero_grad\u001b[1;34m(self, set_to_none)\u001b[0m\n\u001b[0;32m    203\u001b[0m         \u001b[1;32mif\u001b[0m \u001b[1;32mnot\u001b[0m \u001b[0mhasattr\u001b[0m\u001b[1;33m(\u001b[0m\u001b[0mself\u001b[0m\u001b[1;33m,\u001b[0m \u001b[1;34m\"_zero_grad_profile_name\"\u001b[0m\u001b[1;33m)\u001b[0m\u001b[1;33m:\u001b[0m\u001b[1;33m\u001b[0m\u001b[1;33m\u001b[0m\u001b[0m\n\u001b[0;32m    204\u001b[0m             \u001b[0mself\u001b[0m\u001b[1;33m.\u001b[0m\u001b[0m_hook_for_profile\u001b[0m\u001b[1;33m(\u001b[0m\u001b[1;33m)\u001b[0m\u001b[1;33m\u001b[0m\u001b[1;33m\u001b[0m\u001b[0m\n\u001b[1;32m--> 205\u001b[1;33m         \u001b[1;32mwith\u001b[0m \u001b[0mtorch\u001b[0m\u001b[1;33m.\u001b[0m\u001b[0mautograd\u001b[0m\u001b[1;33m.\u001b[0m\u001b[0mprofiler\u001b[0m\u001b[1;33m.\u001b[0m\u001b[0mrecord_function\u001b[0m\u001b[1;33m(\u001b[0m\u001b[0mself\u001b[0m\u001b[1;33m.\u001b[0m\u001b[0m_zero_grad_profile_name\u001b[0m\u001b[1;33m)\u001b[0m\u001b[1;33m:\u001b[0m\u001b[1;33m\u001b[0m\u001b[1;33m\u001b[0m\u001b[0m\n\u001b[0m\u001b[0;32m    206\u001b[0m             \u001b[1;32mfor\u001b[0m \u001b[0mgroup\u001b[0m \u001b[1;32min\u001b[0m \u001b[0mself\u001b[0m\u001b[1;33m.\u001b[0m\u001b[0mparam_groups\u001b[0m\u001b[1;33m:\u001b[0m\u001b[1;33m\u001b[0m\u001b[1;33m\u001b[0m\u001b[0m\n\u001b[0;32m    207\u001b[0m                 \u001b[1;32mfor\u001b[0m \u001b[0mp\u001b[0m \u001b[1;32min\u001b[0m \u001b[0mgroup\u001b[0m\u001b[1;33m[\u001b[0m\u001b[1;34m'params'\u001b[0m\u001b[1;33m]\u001b[0m\u001b[1;33m:\u001b[0m\u001b[1;33m\u001b[0m\u001b[1;33m\u001b[0m\u001b[0m\n",
      "\u001b[1;32m~\\mambaforge\\lib\\site-packages\\torch\\autograd\\profiler.py\u001b[0m in \u001b[0;36m__enter__\u001b[1;34m(self)\u001b[0m\n\u001b[0;32m    612\u001b[0m \u001b[1;33m\u001b[0m\u001b[0m\n\u001b[0;32m    613\u001b[0m     \u001b[1;32mdef\u001b[0m \u001b[0m__enter__\u001b[0m\u001b[1;33m(\u001b[0m\u001b[0mself\u001b[0m\u001b[1;33m)\u001b[0m\u001b[1;33m:\u001b[0m\u001b[1;33m\u001b[0m\u001b[1;33m\u001b[0m\u001b[0m\n\u001b[1;32m--> 614\u001b[1;33m         \u001b[0mself\u001b[0m\u001b[1;33m.\u001b[0m\u001b[0mhandle\u001b[0m \u001b[1;33m=\u001b[0m \u001b[0mtorch\u001b[0m\u001b[1;33m.\u001b[0m\u001b[0mops\u001b[0m\u001b[1;33m.\u001b[0m\u001b[0mprofiler\u001b[0m\u001b[1;33m.\u001b[0m\u001b[0m_record_function_enter\u001b[0m\u001b[1;33m(\u001b[0m\u001b[0mself\u001b[0m\u001b[1;33m.\u001b[0m\u001b[0mname\u001b[0m\u001b[1;33m)\u001b[0m\u001b[1;33m\u001b[0m\u001b[1;33m\u001b[0m\u001b[0m\n\u001b[0m\u001b[0;32m    615\u001b[0m         \u001b[1;32mreturn\u001b[0m \u001b[0mself\u001b[0m\u001b[1;33m\u001b[0m\u001b[1;33m\u001b[0m\u001b[0m\n\u001b[0;32m    616\u001b[0m \u001b[1;33m\u001b[0m\u001b[0m\n",
      "\u001b[1;31mKeyboardInterrupt\u001b[0m: "
     ]
    }
   ],
   "source": [
    "train_loss = []\n",
    "val_loss = []\n",
    "for epoch in range(num_epochs):\n",
    "    running_loss = 0.\n",
    "    last_loss = 0.\n",
    "    \n",
    "    for i, data in enumerate(training_loader):\n",
    "        inputs, labels = data\n",
    "        inputs = inputs.float()\n",
    "        labels = labels.float()\n",
    "        outputs = lr.forward(inputs.reshape(32, 100)) #forward pass\n",
    "        optimizer.zero_grad() #caluclate the gradient, manually setting to 0\n",
    "\n",
    "        # obtain the loss function\n",
    "        loss = criterion(outputs, labels)\n",
    "\n",
    "        loss.backward() #calculates the loss of the loss function\n",
    "\n",
    "        optimizer.step() #improve from loss, i.e backprop\n",
    "        \n",
    "        running_loss += loss.item()\n",
    "    \n",
    "    running_vloss = 0.\n",
    "    for i, vdata in enumerate(validation_loader):\n",
    "        vinputs, vlabels = vdata\n",
    "        vinputs = vinputs.float()\n",
    "        vlabels = vlabels.float()\n",
    "        voutputs = lr.forward(vinputs.reshape(32, 100))\n",
    "        vloss = criterion(voutputs, vlabels)\n",
    "        running_vloss += vloss \n",
    "    \n",
    "    last_loss = running_loss / len(training_loader) # loss per batch\n",
    "    last_vloss = running_vloss/len(validation_loader)\n",
    "    \n",
    "    train_loss.append(last_loss)\n",
    "    val_loss.append(last_vloss)\n",
    "    \n",
    "    \n",
    "    if (last_loss + last_vloss) / 2 < best_avg_loss:\n",
    "        best_avg_loss = (last_loss + last_vloss) / 2\n",
    "        model_path = 'models2/taustin_model_best_avg'\n",
    "        torch.save(lr.state_dict(), model_path)\n",
    "        \n",
    "    if epoch % 100 == 0:\n",
    "        print('  batch {} loss: {} val-loss: {}'.format(epoch, last_loss, running_vloss / len(validation_loader)))"
   ]
  },
  {
   "cell_type": "code",
   "execution_count": 196,
   "id": "b02c7c21-ec2c-4173-87cd-ba96efca48cf",
   "metadata": {},
   "outputs": [
    {
     "data": {
      "text/plain": [
       "[<matplotlib.lines.Line2D at 0x194212e63d0>]"
      ]
     },
     "execution_count": 196,
     "metadata": {},
     "output_type": "execute_result"
    },
    {
     "data": {
      "image/png": "[encoded data removed]",
      "text/plain": [
       "<Figure size 432x288 with 1 Axes>"
      ]
     },
     "metadata": {
      "needs_background": "light"
     },
     "output_type": "display_data"
    }
   ],
   "source": [
    "#val_loss = [i.detach().numpy() for i in val_loss]\n",
    "#train_loss = [i.detach().numpy() for i in train_loss]\n",
    "plt.plot(train_loss[10:])\n",
    "plt.plot(val_loss[10:])"
   ]
  },
  {
   "cell_type": "code",
   "execution_count": 197,
   "id": "63e23a16-4561-423d-adc9-cb3c95382fb6",
   "metadata": {},
   "outputs": [
    {
     "data": {
      "text/plain": [
       "[<matplotlib.lines.Line2D at 0x19421351580>]"
      ]
     },
     "execution_count": 197,
     "metadata": {},
     "output_type": "execute_result"
    },
    {
     "data": {
      "image/png": "[encoded data removed]",
      "text/plain": [
       "<Figure size 432x288 with 1 Axes>"
      ]
     },
     "metadata": {
      "needs_background": "light"
     },
     "output_type": "display_data"
    }
   ],
   "source": [
    "plt.plot(train_loss)\n",
    "plt.plot(val_loss)"
   ]
  },
  {
   "cell_type": "code",
   "execution_count": 198,
   "id": "2176a6c5-8f45-4dc7-9141-dc01df102807",
   "metadata": {
    "tags": []
   },
   "outputs": [],
   "source": [
    "def check_train_mse(lr_model, train_city_dataset):\n",
    "    criterion = torch.nn.MSELoss()\n",
    "    cum_loss = 0\n",
    "    for X, labels in train_city_dataset:\n",
    "        curr = X.reshape((100)).tolist()\n",
    "        outputs = []\n",
    "        for i in np.arange(60):\n",
    "            out = lr_model.forward(torch.FloatTensor(curr)).detach().numpy().tolist()\n",
    "            curr = curr[2:]\n",
    "            curr = curr + out\n",
    "            outputs.append(out)\n",
    "        loss = criterion(torch.tensor(outputs), torch.tensor(labels))\n",
    "        cum_loss += loss.item()\n",
    "    return cum_loss / len(train_city_dataset)\n",
    "\n",
    "def return_predictions(lr_model, test_city_dataset):\n",
    "    outp = []\n",
    "    for X in test_city_dataset:\n",
    "        curr = X.reshape((100)).tolist()\n",
    "        outputs = []\n",
    "        for i in np.arange(60):\n",
    "            out = lr_model.forward(torch.FloatTensor(curr)).detach().numpy().tolist()\n",
    "            curr = curr[2:]\n",
    "            curr = curr + out\n",
    "            outputs.append(out)\n",
    "        outp.append(outputs)\n",
    "    return outp"
   ]
  },
  {
   "cell_type": "code",
   "execution_count": 255,
   "id": "5a1d0275-2abe-4350-a3ca-944db271e5e1",
   "metadata": {},
   "outputs": [],
   "source": [
    "def show_sample_batch(sample_batch):\n",
    "    \"\"\"visualize the trajectory for a batch of samples\"\"\"\n",
    "    inp, out = sample_batch\n",
    "    batch_sz = inp.size(0)\n",
    "    agent_sz = inp.size(1)\n",
    "    \n",
    "    fig, axs = plt.subplots(1,batch_sz, figsize=(15, 3), facecolor='w', edgecolor='k')\n",
    "    fig.subplots_adjust(hspace = .5, wspace=.001)\n",
    "    axs = axs.ravel()   \n",
    "    for i in range(batch_sz):\n",
    "        axs[i].xaxis.set_ticks([])\n",
    "        axs[i].yaxis.set_ticks([])\n",
    "        \n",
    "        # first two feature dimensions are (x,y) positions\n",
    "        axs[i].scatter(inp[i,:,0], inp[i,:,1])\n",
    "        axs[i].scatter(out[i,:,0], out[i,:,1])\n",
    "\n",
    "saved_model = linearRegression(100, 2)\n",
    "saved_model.load_state_dict(torch.load(\"models2/austin_model_best_avg.zip\"))\n",
    "outp = []\n",
    "real_outp = []\n",
    "all_X = []\n",
    "for i in np.arange(4):\n",
    "    X, labels = train_city_datasets[0][i+10]\n",
    "    curr = X.reshape((100)).tolist()\n",
    "    outputs = []\n",
    "    for i in np.arange(60):\n",
    "        out = saved_model.forward(torch.FloatTensor(curr)).detach().numpy().tolist()\n",
    "        curr = curr[2:]\n",
    "        curr = curr + out\n",
    "        outputs.append(out)\n",
    "    all_X.append(torch.Tensor(X))\n",
    "    outp.append(torch.Tensor(outputs))\n",
    "    real_outp.append(torch.Tensor(labels))"
   ]
  },
  {
   "cell_type": "code",
   "execution_count": 256,
   "id": "efc368be-3abd-4f15-a40e-e8bff88c50cd",
   "metadata": {},
   "outputs": [],
   "source": [
    "a = torch.Tensor(4, 50, 2)\n",
    "torch.cat(all_X, out=a)\n",
    "b = torch.Tensor(4, 60, 2)\n",
    "torch.cat(outp, out=b)\n",
    "c = torch.Tensor(4, 60, 2)\n",
    "torch.cat(real_outp, out=c);"
   ]
  },
  {
   "cell_type": "code",
   "execution_count": 257,
   "id": "7104263a-6fbc-40ba-9e01-feae5376a8c4",
   "metadata": {},
   "outputs": [],
   "source": [
    "a = a.reshape(4,50,2)\n",
    "b = b.reshape(4,60,2)\n",
    "c = c.reshape(4,60,2)"
   ]
  },
  {
   "cell_type": "code",
   "execution_count": 258,
   "id": "68c38a75-41b9-468b-9b6e-28fc911c1182",
   "metadata": {},
   "outputs": [
    {
     "data": {
      "image/png": "[encoded data removed]",
      "text/plain": [
       "<Figure size 1080x216 with 4 Axes>"
      ]
     },
     "metadata": {},
     "output_type": "display_data"
    },
    {
     "data": {
      "image/png": "[encoded data removed]",
      "text/plain": [
       "<Figure size 1080x216 with 4 Axes>"
      ]
     },
     "metadata": {},
     "output_type": "display_data"
    }
   ],
   "source": [
    "show_sample_batch((a, b))\n",
    "show_sample_batch((a, c))"
   ]
  },
  {
   "cell_type": "code",
   "execution_count": null,
   "id": "982f5dd5-2f92-4a7e-ac6d-5399d8ff309c",
   "metadata": {},
   "outputs": [],
   "source": []
  },
  {
   "cell_type": "code",
   "execution_count": 190,
   "id": "1dd84976-0a4e-401c-9f9d-405044abe388",
   "metadata": {},
   "outputs": [
    {
     "data": {
      "text/plain": [
       "53.80840036364207"
      ]
     },
     "execution_count": 190,
     "metadata": {},
     "output_type": "execute_result"
    }
   ],
   "source": [
    "saved_model = linearRegression(100, 2)\n",
    "saved_model.load_state_dict(torch.load(\"models2/austin_model_best_avg\"))\n",
    "#austin_pred = return_predictions(saved_model, test_city_datasets[0])\n",
    "check_train_mse(saved_model, train_city_datasets[0])"
   ]
  },
  {
   "cell_type": "code",
   "execution_count": 411,
   "id": "4d0c8ca9-7caf-4bca-88cb-f4cc77a52398",
   "metadata": {
    "jupyter": {
     "source_hidden": true
    },
    "tags": []
   },
   "outputs": [],
   "source": [
    "final_train_miami, final_valid_miami = make_valid_set(train_inp_miami, train_out_miami)\n",
    "final_X_train_miami, final_y_train_miami = final_train_miami\n",
    "final_X_valid_miami, final_y_valid_miami = final_valid_miami\n",
    "final_X_train_miami = Variable(torch.Tensor(final_X_train_miami))\n",
    "final_y_train_miami = Variable(torch.Tensor(final_y_train_miami))\n",
    "final_X_valid_miami = Variable(torch.Tensor(final_X_valid_miami))\n",
    "final_y_valid_miami = Variable(torch.Tensor(final_y_valid_miami))\n",
    "    "
   ]
  },
  {
   "cell_type": "code",
   "execution_count": 527,
   "id": "c83068bd-8ea7-4964-b42d-5ecd44ef013c",
   "metadata": {
    "jupyter": {
     "source_hidden": true
    },
    "tags": []
   },
   "outputs": [],
   "source": [
    "num_epochs = 5000 #1000 epochs\n",
    "learning_rate = 0.00001 #0.001 lr\n",
    "\n",
    "input_size = 2 #number of features\n",
    "hidden_size = 128 #number of features in hidden state\n",
    "num_layers = 1 #number of stacked lstm layers\n",
    "\n",
    "num_classes = 2 #number of output classes \n",
    "batch_size = 32\n",
    "\n",
    "lr = linearRegression(100, num_classes)\n",
    "lr.load_state_dict(torch.load(\"models2/miami_model_best_avg\"))\n",
    "criterion = torch.nn.MSELoss()\n",
    "#optimizer = torch.optim.Adam(lstm2.parameters(), lr=learning_rate)\n",
    "optimizer = torch.optim.Adam(lr.parameters(), lr=learning_rate)\n",
    "best_v_loss = 100000\n",
    "best_avg_loss = 100000\n",
    "best_t_loss = 100000\n",
    "best_avg_loss2 = 100000\n",
    "\n",
    "mtrain_miamiX, mtrain_miamiY = create_input(final_X_train_miami, final_y_train_miami, 50)\n",
    "mval_miamiX, mval_miamiY = create_input(final_X_valid_miami, final_y_valid_miami, 50)\n",
    "\n",
    "train_data = []\n",
    "for i in range(len(mtrain_miamiX)):\n",
    "    train_data.append([mtrain_miamiX[i], mtrain_miamiY[i]])\n",
    "    \n",
    "val_data = []\n",
    "for i in range(len(mval_miamiX)):\n",
    "    val_data.append([mval_miamiX[i], mval_miamiY[i]])\n",
    "\n",
    "training_loader = torch.utils.data.DataLoader(train_data, batch_size=batch_size, shuffle=True, drop_last=True)\n",
    "validation_loader = torch.utils.data.DataLoader(val_data, batch_size=batch_size, shuffle=False, drop_last=True)"
   ]
  },
  {
   "cell_type": "code",
   "execution_count": 568,
   "id": "57880943-fa6c-4678-8596-17b2c99c30c8",
   "metadata": {
    "collapsed": true,
    "jupyter": {
     "outputs_hidden": true,
     "source_hidden": true
    },
    "scrolled": true,
    "tags": []
   },
   "outputs": [
    {
     "name": "stdout",
     "output_type": "stream",
     "text": [
      "  batch 0 loss: 0.1364391774128784 val-loss: 0.17476724088191986\n"
     ]
    },
    {
     "ename": "KeyboardInterrupt",
     "evalue": "",
     "output_type": "error",
     "traceback": [
      "\u001b[1;31m---------------------------------------------------------------------------\u001b[0m",
      "\u001b[1;31mKeyboardInterrupt\u001b[0m                         Traceback (most recent call last)",
      "\u001b[1;32m~\\AppData\\Local\\Temp/ipykernel_13448/3622411831.py\u001b[0m in \u001b[0;36m<module>\u001b[1;34m\u001b[0m\n\u001b[0;32m      3\u001b[0m     \u001b[0mlast_loss\u001b[0m \u001b[1;33m=\u001b[0m \u001b[1;36m0.\u001b[0m\u001b[1;33m\u001b[0m\u001b[1;33m\u001b[0m\u001b[0m\n\u001b[0;32m      4\u001b[0m \u001b[1;33m\u001b[0m\u001b[0m\n\u001b[1;32m----> 5\u001b[1;33m     \u001b[1;32mfor\u001b[0m \u001b[0mi\u001b[0m\u001b[1;33m,\u001b[0m \u001b[0mdata\u001b[0m \u001b[1;32min\u001b[0m \u001b[0menumerate\u001b[0m\u001b[1;33m(\u001b[0m\u001b[0mtraining_loader\u001b[0m\u001b[1;33m)\u001b[0m\u001b[1;33m:\u001b[0m\u001b[1;33m\u001b[0m\u001b[1;33m\u001b[0m\u001b[0m\n\u001b[0m\u001b[0;32m      6\u001b[0m         \u001b[0minputs\u001b[0m\u001b[1;33m,\u001b[0m \u001b[0mlabels\u001b[0m \u001b[1;33m=\u001b[0m \u001b[0mdata\u001b[0m\u001b[1;33m\u001b[0m\u001b[1;33m\u001b[0m\u001b[0m\n\u001b[0;32m      7\u001b[0m         \u001b[0minputs\u001b[0m \u001b[1;33m=\u001b[0m \u001b[0minputs\u001b[0m\u001b[1;33m.\u001b[0m\u001b[0mfloat\u001b[0m\u001b[1;33m(\u001b[0m\u001b[1;33m)\u001b[0m\u001b[1;33m\u001b[0m\u001b[1;33m\u001b[0m\u001b[0m\n",
      "\u001b[1;32m~\\mambaforge\\lib\\site-packages\\torch\\utils\\data\\dataloader.py\u001b[0m in \u001b[0;36m__next__\u001b[1;34m(self)\u001b[0m\n\u001b[0;32m    519\u001b[0m             \u001b[1;32mif\u001b[0m \u001b[0mself\u001b[0m\u001b[1;33m.\u001b[0m\u001b[0m_sampler_iter\u001b[0m \u001b[1;32mis\u001b[0m \u001b[1;32mNone\u001b[0m\u001b[1;33m:\u001b[0m\u001b[1;33m\u001b[0m\u001b[1;33m\u001b[0m\u001b[0m\n\u001b[0;32m    520\u001b[0m                 \u001b[0mself\u001b[0m\u001b[1;33m.\u001b[0m\u001b[0m_reset\u001b[0m\u001b[1;33m(\u001b[0m\u001b[1;33m)\u001b[0m\u001b[1;33m\u001b[0m\u001b[1;33m\u001b[0m\u001b[0m\n\u001b[1;32m--> 521\u001b[1;33m             \u001b[0mdata\u001b[0m \u001b[1;33m=\u001b[0m \u001b[0mself\u001b[0m\u001b[1;33m.\u001b[0m\u001b[0m_next_data\u001b[0m\u001b[1;33m(\u001b[0m\u001b[1;33m)\u001b[0m\u001b[1;33m\u001b[0m\u001b[1;33m\u001b[0m\u001b[0m\n\u001b[0m\u001b[0;32m    522\u001b[0m             \u001b[0mself\u001b[0m\u001b[1;33m.\u001b[0m\u001b[0m_num_yielded\u001b[0m \u001b[1;33m+=\u001b[0m \u001b[1;36m1\u001b[0m\u001b[1;33m\u001b[0m\u001b[1;33m\u001b[0m\u001b[0m\n\u001b[0;32m    523\u001b[0m             \u001b[1;32mif\u001b[0m \u001b[0mself\u001b[0m\u001b[1;33m.\u001b[0m\u001b[0m_dataset_kind\u001b[0m \u001b[1;33m==\u001b[0m \u001b[0m_DatasetKind\u001b[0m\u001b[1;33m.\u001b[0m\u001b[0mIterable\u001b[0m \u001b[1;32mand\u001b[0m\u001b[0;31m \u001b[0m\u001b[0;31m\\\u001b[0m\u001b[1;33m\u001b[0m\u001b[1;33m\u001b[0m\u001b[0m\n",
      "\u001b[1;32m~\\mambaforge\\lib\\site-packages\\torch\\utils\\data\\dataloader.py\u001b[0m in \u001b[0;36m_next_data\u001b[1;34m(self)\u001b[0m\n\u001b[0;32m    559\u001b[0m     \u001b[1;32mdef\u001b[0m \u001b[0m_next_data\u001b[0m\u001b[1;33m(\u001b[0m\u001b[0mself\u001b[0m\u001b[1;33m)\u001b[0m\u001b[1;33m:\u001b[0m\u001b[1;33m\u001b[0m\u001b[1;33m\u001b[0m\u001b[0m\n\u001b[0;32m    560\u001b[0m         \u001b[0mindex\u001b[0m \u001b[1;33m=\u001b[0m \u001b[0mself\u001b[0m\u001b[1;33m.\u001b[0m\u001b[0m_next_index\u001b[0m\u001b[1;33m(\u001b[0m\u001b[1;33m)\u001b[0m  \u001b[1;31m# may raise StopIteration\u001b[0m\u001b[1;33m\u001b[0m\u001b[1;33m\u001b[0m\u001b[0m\n\u001b[1;32m--> 561\u001b[1;33m         \u001b[0mdata\u001b[0m \u001b[1;33m=\u001b[0m \u001b[0mself\u001b[0m\u001b[1;33m.\u001b[0m\u001b[0m_dataset_fetcher\u001b[0m\u001b[1;33m.\u001b[0m\u001b[0mfetch\u001b[0m\u001b[1;33m(\u001b[0m\u001b[0mindex\u001b[0m\u001b[1;33m)\u001b[0m  \u001b[1;31m# may raise StopIteration\u001b[0m\u001b[1;33m\u001b[0m\u001b[1;33m\u001b[0m\u001b[0m\n\u001b[0m\u001b[0;32m    562\u001b[0m         \u001b[1;32mif\u001b[0m \u001b[0mself\u001b[0m\u001b[1;33m.\u001b[0m\u001b[0m_pin_memory\u001b[0m\u001b[1;33m:\u001b[0m\u001b[1;33m\u001b[0m\u001b[1;33m\u001b[0m\u001b[0m\n\u001b[0;32m    563\u001b[0m             \u001b[0mdata\u001b[0m \u001b[1;33m=\u001b[0m \u001b[0m_utils\u001b[0m\u001b[1;33m.\u001b[0m\u001b[0mpin_memory\u001b[0m\u001b[1;33m.\u001b[0m\u001b[0mpin_memory\u001b[0m\u001b[1;33m(\u001b[0m\u001b[0mdata\u001b[0m\u001b[1;33m)\u001b[0m\u001b[1;33m\u001b[0m\u001b[1;33m\u001b[0m\u001b[0m\n",
      "\u001b[1;32m~\\mambaforge\\lib\\site-packages\\torch\\utils\\data\\_utils\\fetch.py\u001b[0m in \u001b[0;36mfetch\u001b[1;34m(self, possibly_batched_index)\u001b[0m\n\u001b[0;32m     45\u001b[0m         \u001b[1;32melse\u001b[0m\u001b[1;33m:\u001b[0m\u001b[1;33m\u001b[0m\u001b[1;33m\u001b[0m\u001b[0m\n\u001b[0;32m     46\u001b[0m             \u001b[0mdata\u001b[0m \u001b[1;33m=\u001b[0m \u001b[0mself\u001b[0m\u001b[1;33m.\u001b[0m\u001b[0mdataset\u001b[0m\u001b[1;33m[\u001b[0m\u001b[0mpossibly_batched_index\u001b[0m\u001b[1;33m]\u001b[0m\u001b[1;33m\u001b[0m\u001b[1;33m\u001b[0m\u001b[0m\n\u001b[1;32m---> 47\u001b[1;33m         \u001b[1;32mreturn\u001b[0m \u001b[0mself\u001b[0m\u001b[1;33m.\u001b[0m\u001b[0mcollate_fn\u001b[0m\u001b[1;33m(\u001b[0m\u001b[0mdata\u001b[0m\u001b[1;33m)\u001b[0m\u001b[1;33m\u001b[0m\u001b[1;33m\u001b[0m\u001b[0m\n\u001b[0m",
      "\u001b[1;32m~\\mambaforge\\lib\\site-packages\\torch\\utils\\data\\_utils\\collate.py\u001b[0m in \u001b[0;36mdefault_collate\u001b[1;34m(batch)\u001b[0m\n\u001b[0;32m     82\u001b[0m             \u001b[1;32mraise\u001b[0m \u001b[0mRuntimeError\u001b[0m\u001b[1;33m(\u001b[0m\u001b[1;34m'each element in list of batch should be of equal size'\u001b[0m\u001b[1;33m)\u001b[0m\u001b[1;33m\u001b[0m\u001b[1;33m\u001b[0m\u001b[0m\n\u001b[0;32m     83\u001b[0m         \u001b[0mtransposed\u001b[0m \u001b[1;33m=\u001b[0m \u001b[0mzip\u001b[0m\u001b[1;33m(\u001b[0m\u001b[1;33m*\u001b[0m\u001b[0mbatch\u001b[0m\u001b[1;33m)\u001b[0m\u001b[1;33m\u001b[0m\u001b[1;33m\u001b[0m\u001b[0m\n\u001b[1;32m---> 84\u001b[1;33m         \u001b[1;32mreturn\u001b[0m \u001b[1;33m[\u001b[0m\u001b[0mdefault_collate\u001b[0m\u001b[1;33m(\u001b[0m\u001b[0msamples\u001b[0m\u001b[1;33m)\u001b[0m \u001b[1;32mfor\u001b[0m \u001b[0msamples\u001b[0m \u001b[1;32min\u001b[0m \u001b[0mtransposed\u001b[0m\u001b[1;33m]\u001b[0m\u001b[1;33m\u001b[0m\u001b[1;33m\u001b[0m\u001b[0m\n\u001b[0m\u001b[0;32m     85\u001b[0m \u001b[1;33m\u001b[0m\u001b[0m\n\u001b[0;32m     86\u001b[0m     \u001b[1;32mraise\u001b[0m \u001b[0mTypeError\u001b[0m\u001b[1;33m(\u001b[0m\u001b[0mdefault_collate_err_msg_format\u001b[0m\u001b[1;33m.\u001b[0m\u001b[0mformat\u001b[0m\u001b[1;33m(\u001b[0m\u001b[0melem_type\u001b[0m\u001b[1;33m)\u001b[0m\u001b[1;33m)\u001b[0m\u001b[1;33m\u001b[0m\u001b[1;33m\u001b[0m\u001b[0m\n",
      "\u001b[1;32m~\\mambaforge\\lib\\site-packages\\torch\\utils\\data\\_utils\\collate.py\u001b[0m in \u001b[0;36m<listcomp>\u001b[1;34m(.0)\u001b[0m\n\u001b[0;32m     82\u001b[0m             \u001b[1;32mraise\u001b[0m \u001b[0mRuntimeError\u001b[0m\u001b[1;33m(\u001b[0m\u001b[1;34m'each element in list of batch should be of equal size'\u001b[0m\u001b[1;33m)\u001b[0m\u001b[1;33m\u001b[0m\u001b[1;33m\u001b[0m\u001b[0m\n\u001b[0;32m     83\u001b[0m         \u001b[0mtransposed\u001b[0m \u001b[1;33m=\u001b[0m \u001b[0mzip\u001b[0m\u001b[1;33m(\u001b[0m\u001b[1;33m*\u001b[0m\u001b[0mbatch\u001b[0m\u001b[1;33m)\u001b[0m\u001b[1;33m\u001b[0m\u001b[1;33m\u001b[0m\u001b[0m\n\u001b[1;32m---> 84\u001b[1;33m         \u001b[1;32mreturn\u001b[0m \u001b[1;33m[\u001b[0m\u001b[0mdefault_collate\u001b[0m\u001b[1;33m(\u001b[0m\u001b[0msamples\u001b[0m\u001b[1;33m)\u001b[0m \u001b[1;32mfor\u001b[0m \u001b[0msamples\u001b[0m \u001b[1;32min\u001b[0m \u001b[0mtransposed\u001b[0m\u001b[1;33m]\u001b[0m\u001b[1;33m\u001b[0m\u001b[1;33m\u001b[0m\u001b[0m\n\u001b[0m\u001b[0;32m     85\u001b[0m \u001b[1;33m\u001b[0m\u001b[0m\n\u001b[0;32m     86\u001b[0m     \u001b[1;32mraise\u001b[0m \u001b[0mTypeError\u001b[0m\u001b[1;33m(\u001b[0m\u001b[0mdefault_collate_err_msg_format\u001b[0m\u001b[1;33m.\u001b[0m\u001b[0mformat\u001b[0m\u001b[1;33m(\u001b[0m\u001b[0melem_type\u001b[0m\u001b[1;33m)\u001b[0m\u001b[1;33m)\u001b[0m\u001b[1;33m\u001b[0m\u001b[1;33m\u001b[0m\u001b[0m\n",
      "\u001b[1;32m~\\mambaforge\\lib\\site-packages\\torch\\utils\\data\\_utils\\collate.py\u001b[0m in \u001b[0;36mdefault_collate\u001b[1;34m(batch)\u001b[0m\n\u001b[0;32m     62\u001b[0m                 \u001b[1;32mraise\u001b[0m \u001b[0mTypeError\u001b[0m\u001b[1;33m(\u001b[0m\u001b[0mdefault_collate_err_msg_format\u001b[0m\u001b[1;33m.\u001b[0m\u001b[0mformat\u001b[0m\u001b[1;33m(\u001b[0m\u001b[0melem\u001b[0m\u001b[1;33m.\u001b[0m\u001b[0mdtype\u001b[0m\u001b[1;33m)\u001b[0m\u001b[1;33m)\u001b[0m\u001b[1;33m\u001b[0m\u001b[1;33m\u001b[0m\u001b[0m\n\u001b[0;32m     63\u001b[0m \u001b[1;33m\u001b[0m\u001b[0m\n\u001b[1;32m---> 64\u001b[1;33m             \u001b[1;32mreturn\u001b[0m \u001b[0mdefault_collate\u001b[0m\u001b[1;33m(\u001b[0m\u001b[1;33m[\u001b[0m\u001b[0mtorch\u001b[0m\u001b[1;33m.\u001b[0m\u001b[0mas_tensor\u001b[0m\u001b[1;33m(\u001b[0m\u001b[0mb\u001b[0m\u001b[1;33m)\u001b[0m \u001b[1;32mfor\u001b[0m \u001b[0mb\u001b[0m \u001b[1;32min\u001b[0m \u001b[0mbatch\u001b[0m\u001b[1;33m]\u001b[0m\u001b[1;33m)\u001b[0m\u001b[1;33m\u001b[0m\u001b[1;33m\u001b[0m\u001b[0m\n\u001b[0m\u001b[0;32m     65\u001b[0m         \u001b[1;32melif\u001b[0m \u001b[0melem\u001b[0m\u001b[1;33m.\u001b[0m\u001b[0mshape\u001b[0m \u001b[1;33m==\u001b[0m \u001b[1;33m(\u001b[0m\u001b[1;33m)\u001b[0m\u001b[1;33m:\u001b[0m  \u001b[1;31m# scalars\u001b[0m\u001b[1;33m\u001b[0m\u001b[1;33m\u001b[0m\u001b[0m\n\u001b[0;32m     66\u001b[0m             \u001b[1;32mreturn\u001b[0m \u001b[0mtorch\u001b[0m\u001b[1;33m.\u001b[0m\u001b[0mas_tensor\u001b[0m\u001b[1;33m(\u001b[0m\u001b[0mbatch\u001b[0m\u001b[1;33m)\u001b[0m\u001b[1;33m\u001b[0m\u001b[1;33m\u001b[0m\u001b[0m\n",
      "\u001b[1;32m~\\mambaforge\\lib\\site-packages\\torch\\utils\\data\\_utils\\collate.py\u001b[0m in \u001b[0;36mdefault_collate\u001b[1;34m(batch)\u001b[0m\n\u001b[0;32m     54\u001b[0m             \u001b[0mstorage\u001b[0m \u001b[1;33m=\u001b[0m \u001b[0melem\u001b[0m\u001b[1;33m.\u001b[0m\u001b[0mstorage\u001b[0m\u001b[1;33m(\u001b[0m\u001b[1;33m)\u001b[0m\u001b[1;33m.\u001b[0m\u001b[0m_new_shared\u001b[0m\u001b[1;33m(\u001b[0m\u001b[0mnumel\u001b[0m\u001b[1;33m)\u001b[0m\u001b[1;33m\u001b[0m\u001b[1;33m\u001b[0m\u001b[0m\n\u001b[0;32m     55\u001b[0m             \u001b[0mout\u001b[0m \u001b[1;33m=\u001b[0m \u001b[0melem\u001b[0m\u001b[1;33m.\u001b[0m\u001b[0mnew\u001b[0m\u001b[1;33m(\u001b[0m\u001b[0mstorage\u001b[0m\u001b[1;33m)\u001b[0m\u001b[1;33m\u001b[0m\u001b[1;33m\u001b[0m\u001b[0m\n\u001b[1;32m---> 56\u001b[1;33m         \u001b[1;32mreturn\u001b[0m \u001b[0mtorch\u001b[0m\u001b[1;33m.\u001b[0m\u001b[0mstack\u001b[0m\u001b[1;33m(\u001b[0m\u001b[0mbatch\u001b[0m\u001b[1;33m,\u001b[0m \u001b[1;36m0\u001b[0m\u001b[1;33m,\u001b[0m \u001b[0mout\u001b[0m\u001b[1;33m=\u001b[0m\u001b[0mout\u001b[0m\u001b[1;33m)\u001b[0m\u001b[1;33m\u001b[0m\u001b[1;33m\u001b[0m\u001b[0m\n\u001b[0m\u001b[0;32m     57\u001b[0m     \u001b[1;32melif\u001b[0m \u001b[0melem_type\u001b[0m\u001b[1;33m.\u001b[0m\u001b[0m__module__\u001b[0m \u001b[1;33m==\u001b[0m \u001b[1;34m'numpy'\u001b[0m \u001b[1;32mand\u001b[0m \u001b[0melem_type\u001b[0m\u001b[1;33m.\u001b[0m\u001b[0m__name__\u001b[0m \u001b[1;33m!=\u001b[0m \u001b[1;34m'str_'\u001b[0m\u001b[0;31m \u001b[0m\u001b[0;31m\\\u001b[0m\u001b[1;33m\u001b[0m\u001b[1;33m\u001b[0m\u001b[0m\n\u001b[0;32m     58\u001b[0m             \u001b[1;32mand\u001b[0m \u001b[0melem_type\u001b[0m\u001b[1;33m.\u001b[0m\u001b[0m__name__\u001b[0m \u001b[1;33m!=\u001b[0m \u001b[1;34m'string_'\u001b[0m\u001b[1;33m:\u001b[0m\u001b[1;33m\u001b[0m\u001b[1;33m\u001b[0m\u001b[0m\n",
      "\u001b[1;31mKeyboardInterrupt\u001b[0m: "
     ]
    }
   ],
   "source": [
    "for epoch in range(num_epochs + 1):\n",
    "    running_loss = 0.\n",
    "    last_loss = 0.\n",
    "    \n",
    "    for i, data in enumerate(training_loader):\n",
    "        inputs, labels = data\n",
    "        inputs = inputs.float()\n",
    "        labels = labels.float()\n",
    "        outputs = lr.forward(inputs.reshape(32, 100)) #forward pass\n",
    "        optimizer.zero_grad() #caluclate the gradient, manually setting to 0\n",
    "\n",
    "        # obtain the loss function\n",
    "        loss = criterion(outputs, labels)\n",
    "\n",
    "        loss.backward() #calculates the loss of the loss function\n",
    "\n",
    "        optimizer.step() #improve from loss, i.e backprop\n",
    "        \n",
    "        running_loss += loss.item()\n",
    "    \n",
    "    running_vloss = 0.\n",
    "    for i, vdata in enumerate(validation_loader):\n",
    "        vinputs, vlabels = vdata\n",
    "        vinputs = vinputs.float()\n",
    "        vlabels = vlabels.float()\n",
    "        voutputs = lr.forward(vinputs.reshape(32, 100))\n",
    "        vloss = criterion(voutputs, vlabels)\n",
    "        running_vloss += vloss \n",
    "    \n",
    "    last_loss = running_loss / len(training_loader) # loss per batch\n",
    "    last_vloss = running_vloss/len(validation_loader)\n",
    "    \n",
    "    if last_loss < best_t_loss:\n",
    "        best_t_loss = last_loss\n",
    "        model_path = 'models2/miami_model_best_t'\n",
    "        torch.save(lr.state_dict(), model_path)\n",
    "    if last_vloss < best_v_loss:\n",
    "        best_v_loss = last_vloss\n",
    "        model_path = 'models2/miami_model_best_v'\n",
    "        torch.save(lr.state_dict(), model_path)\n",
    "    if (last_loss + last_vloss) / 2 < best_avg_loss:\n",
    "        best_avg_loss = (last_loss + last_vloss) / 2\n",
    "        model_path = 'models2/miami_model_best_avg'\n",
    "        torch.save(lr.state_dict(), model_path)\n",
    "    \n",
    "    \n",
    "    torch.save(lr.state_dict(), model_path)\n",
    "    \n",
    "    if epoch % 100 == 0:\n",
    "        print('  batch {} loss: {} val-loss: {}'.format(epoch, last_loss, running_vloss / len(validation_loader)))"
   ]
  },
  {
   "cell_type": "code",
   "execution_count": 192,
   "id": "54d8752d-8e91-4426-a34d-0e205c773ced",
   "metadata": {},
   "outputs": [
    {
     "data": {
      "text/plain": [
       "34.73982789230729"
      ]
     },
     "execution_count": 192,
     "metadata": {},
     "output_type": "execute_result"
    }
   ],
   "source": [
    "saved_model = linearRegression(100, 2)\n",
    "saved_model.load_state_dict(torch.load(\"models2/miami_model_best_avg\"))\n",
    "#miami_pred = return_predictions(saved_model, test_city_datasets[1])\n",
    "check_train_mse(saved_model, train_city_datasets[1])"
   ]
  },
  {
   "cell_type": "code",
   "execution_count": 439,
   "id": "077cba42-4199-434b-89cb-f54e662c6190",
   "metadata": {
    "jupyter": {
     "source_hidden": true
    },
    "tags": []
   },
   "outputs": [],
   "source": [
    "final_train_pittsburgh, final_valid_pittsburgh = make_valid_set(train_inp_pittsburgh, train_out_pittsburgh)\n",
    "final_X_train_pittsburgh, final_y_train_pittsburgh = final_train_pittsburgh\n",
    "final_X_valid_pittsburgh, final_y_valid_pittsburgh = final_valid_pittsburgh\n",
    "final_X_train_pittsburgh = Variable(torch.Tensor(final_X_train_pittsburgh))\n",
    "final_y_train_pittsburgh = Variable(torch.Tensor(final_y_train_pittsburgh))\n",
    "final_X_valid_pittsburgh = Variable(torch.Tensor(final_X_valid_pittsburgh))\n",
    "final_y_valid_pittsburgh = Variable(torch.Tensor(final_y_valid_pittsburgh))\n",
    "\n",
    "mtrain_pittsburghX, mtrain_pittsburghY = create_input(final_X_train_pittsburgh, final_y_train_pittsburgh, 50)\n",
    "mval_pittsburghX, mval_pittsburghY = create_input(final_X_valid_pittsburgh, final_y_valid_pittsburgh, 50)\n",
    "\n",
    "\n"
   ]
  },
  {
   "cell_type": "code",
   "execution_count": null,
   "id": "f5032182-5e61-4ea1-85b4-30ae4a83fc7e",
   "metadata": {
    "jupyter": {
     "source_hidden": true
    },
    "tags": []
   },
   "outputs": [],
   "source": [
    "train_data = []\n",
    "for i in range(len(mtrain_pittsburghX)):\n",
    "    train_data.append([mtrain_pittsburghX[i], mtrain_pittsburghY[i]])\n",
    "    \n",
    "val_data = []\n",
    "for i in range(len(mval_pittsburghX)):\n",
    "    val_data.append([mval_pittsburghX[i], mval_pittsburghY[i]])\n",
    "\n",
    "    \n",
    "num_epochs = 8000 #1000 epochs\n",
    "learning_rate = 0.00001 #0.001 lr\n",
    "\n",
    "input_size = 2 #number of features\n",
    "hidden_size = 128 #number of features in hidden state\n",
    "num_layers = 1 #number of stacked lstm layers\n",
    "\n",
    "num_classes = 2 #number of output classes \n",
    "batch_size = 32\n",
    "\n",
    "training_loader = torch.utils.data.DataLoader(train_data, batch_size=batch_size, shuffle=True, drop_last=True)\n",
    "validation_loader = torch.utils.data.DataLoader(val_data, batch_size=batch_size, shuffle=False, drop_last=True)\n",
    "\n",
    "lr = linearRegression(100, num_classes)\n",
    "lr.load_state_dict(torch.load(\"models2/pittsburgh_model_best_avg\"))\n",
    "criterion = torch.nn.MSELoss()\n",
    "#optimizer = torch.optim.Adam(lstm2.parameters(), lr=learning_rate)\n",
    "optimizer = torch.optim.Adam(lr.parameters(), lr=learning_rate)\n",
    "best_v_loss = 100000\n",
    "best_avg_loss = 100000\n",
    "best_t_loss = 100000\n",
    "best_avg_loss2 = 100000"
   ]
  },
  {
   "cell_type": "code",
   "execution_count": null,
   "id": "e19e9206-9dc6-4bd0-9883-72d0e26db474",
   "metadata": {
    "jupyter": {
     "source_hidden": true
    },
    "scrolled": true,
    "tags": []
   },
   "outputs": [],
   "source": [
    "for epoch in range(num_epochs + 1):\n",
    "    running_loss = 0.\n",
    "    last_loss = 0.\n",
    "    \n",
    "    for i, data in enumerate(training_loader):\n",
    "        inputs, labels = data\n",
    "        inputs = inputs.float()\n",
    "        labels = labels.float()\n",
    "        outputs = lr.forward(inputs.reshape(32, 100)) #forward pass\n",
    "        optimizer.zero_grad() #caluclate the gradient, manually setting to 0\n",
    "\n",
    "        # obtain the loss function\n",
    "        loss = criterion(outputs, labels)\n",
    "\n",
    "        loss.backward() #calculates the loss of the loss function\n",
    "\n",
    "        optimizer.step() #improve from loss, i.e backprop\n",
    "        \n",
    "        running_loss += loss.item()\n",
    "    \n",
    "    running_vloss = 0.\n",
    "    for i, vdata in enumerate(validation_loader):\n",
    "        vinputs, vlabels = vdata\n",
    "        vinputs = vinputs.float()\n",
    "        vlabels = vlabels.float()\n",
    "        voutputs = lr.forward(vinputs.reshape(32, 100))\n",
    "        vloss = criterion(voutputs, vlabels)\n",
    "        running_vloss += vloss \n",
    "    \n",
    "    last_loss = running_loss / len(training_loader) # loss per batch\n",
    "    last_vloss = running_vloss / len(validation_loader)\n",
    "    \n",
    "    if last_loss < best_t_loss:\n",
    "        best_t_loss = last_loss\n",
    "        model_path = 'models2/pittsburgh_model_best_t'\n",
    "        torch.save(lr.state_dict(), model_path)\n",
    "    if last_vloss < best_v_loss:\n",
    "        best_v_loss = last_vloss\n",
    "        model_path = 'models2/pittsburgh_model_best_v'\n",
    "        torch.save(lr.state_dict(), model_path)\n",
    "    if (last_loss + last_vloss) / 2 < best_avg_loss:\n",
    "        best_avg_loss = (last_loss + last_vloss) / 2\n",
    "        model_path = 'models2/pittsburgh_model_best_avg'\n",
    "        torch.save(lr.state_dict(), model_path)\n",
    "        \n",
    "    torch.save(lr.state_dict(), model_path)\n",
    "    if epoch % 100 == 0:\n",
    "        print('  batch {} loss: {} val-loss: {}'.format(epoch, last_loss, running_vloss / len(validation_loader)))"
   ]
  },
  {
   "cell_type": "code",
   "execution_count": 193,
   "id": "d06c4266-2d1e-48ed-9a70-187652070fec",
   "metadata": {
    "tags": []
   },
   "outputs": [
    {
     "data": {
      "text/plain": [
       "38.799510478548726"
      ]
     },
     "execution_count": 193,
     "metadata": {},
     "output_type": "execute_result"
    }
   ],
   "source": [
    "saved_model = linearRegression(100, 2)\n",
    "saved_model.load_state_dict(torch.load(\"models2/pittsburgh_model_best_avg\"))\n",
    "#pittsburgh_pred = return_predictions(saved_model, test_city_datasets[2])\n",
    "check_train_mse(saved_model, train_city_datasets[2])"
   ]
  },
  {
   "cell_type": "code",
   "execution_count": 442,
   "id": "5cde741e-c828-4d03-917c-12784646b011",
   "metadata": {
    "jupyter": {
     "source_hidden": true
    },
    "tags": []
   },
   "outputs": [],
   "source": [
    "final_train_dearborn, final_valid_dearborn = make_valid_set(train_inp_dearborn, train_out_dearborn)\n",
    "final_X_train_dearborn, final_y_train_dearborn = final_train_dearborn\n",
    "final_X_valid_dearborn, final_y_valid_dearborn = final_valid_dearborn\n",
    "final_X_train_dearborn = Variable(torch.Tensor(final_X_train_dearborn))\n",
    "final_y_train_dearborn = Variable(torch.Tensor(final_y_train_dearborn))\n",
    "final_X_valid_dearborn = Variable(torch.Tensor(final_X_valid_dearborn))\n",
    "final_y_valid_dearborn = Variable(torch.Tensor(final_y_valid_dearborn))\n",
    "\n",
    "mtrain_dearbornX, mtrain_dearbornY = create_input(final_X_train_dearborn, final_y_train_dearborn, 50)\n",
    "mval_dearbornX, mval_dearbornY = create_input(final_X_valid_dearborn, final_y_valid_dearborn, 50)\n"
   ]
  },
  {
   "cell_type": "code",
   "execution_count": 515,
   "id": "1787f3e8-53d1-4109-adc3-bd75957ad532",
   "metadata": {
    "jupyter": {
     "source_hidden": true
    },
    "tags": []
   },
   "outputs": [],
   "source": [
    "mtrain_dearbornX, mtrain_dearbornY = create_input(final_X_train_dearborn, final_y_train_dearborn, 50)\n",
    "mval_dearbornX, mval_dearbornY = create_input(final_X_valid_dearborn, final_y_valid_dearborn, 50)\n",
    "\n",
    "train_data = []\n",
    "for i in range(len(mtrain_dearbornX)):\n",
    "    train_data.append([mtrain_dearbornX[i], mtrain_dearbornY[i]])\n",
    "    \n",
    "val_data = []\n",
    "for i in range(len(mval_dearbornX)):\n",
    "    val_data.append([mval_dearbornX[i], mval_dearbornY[i]])\n",
    "\n",
    "    \n",
    "num_epochs = 20000 #1000 epochs\n",
    "learning_rate = 0.00001 #0.001 lr\n",
    "\n",
    "input_size = 2 #number of features\n",
    "hidden_size = 128 #number of features in hidden state\n",
    "num_layers = 1 #number of stacked lstm layers\n",
    "\n",
    "num_classes = 2 #number of output classes \n",
    "batch_size = 32\n",
    "\n",
    "training_loader = torch.utils.data.DataLoader(train_data, batch_size=batch_size, shuffle=True, drop_last=True)\n",
    "validation_loader = torch.utils.data.DataLoader(val_data, batch_size=batch_size, shuffle=False, drop_last=True)\n",
    "\n",
    "lr = linearRegression(100, num_classes)\n",
    "lr.load_state_dict(torch.load(\"models2/dearborn_model_best_avg2\"))\n",
    "criterion = torch.nn.MSELoss()\n",
    "#optimizer = torch.optim.Adam(lstm2.parameters(), lr=learning_rate)\n",
    "optimizer = torch.optim.Adam(lr.parameters(), lr=learning_rate)\n",
    "best_v_loss = 100000\n",
    "best_avg_loss2 = 100000\n",
    "best_avg_loss = 100000\n",
    "best_t_loss = 100000"
   ]
  },
  {
   "cell_type": "code",
   "execution_count": 516,
   "id": "2e17f347-673a-4279-92a5-efcebc6f2526",
   "metadata": {
    "collapsed": true,
    "jupyter": {
     "outputs_hidden": true,
     "source_hidden": true
    },
    "scrolled": true,
    "tags": []
   },
   "outputs": [
    {
     "name": "stdout",
     "output_type": "stream",
     "text": [
      "  batch 0 loss: 0.59412295879787 val-loss: 0.3753969669342041\n",
      "  batch 100 loss: 0.4299960179580604 val-loss: 0.4515989124774933\n",
      "  batch 200 loss: 0.4569693150672507 val-loss: 0.3369067907333374\n",
      "  batch 300 loss: 0.46631153591233265 val-loss: 0.33490756154060364\n",
      "  batch 400 loss: 0.48352716293692005 val-loss: 0.34659817814826965\n",
      "  batch 500 loss: 0.4701041050023611 val-loss: 0.41149070858955383\n",
      "  batch 600 loss: 0.44652683035441587 val-loss: 0.38565850257873535\n",
      "  batch 700 loss: 0.43979514325601576 val-loss: 0.36650022864341736\n",
      "  batch 800 loss: 0.43474720055069743 val-loss: 0.7397652268409729\n"
     ]
    },
    {
     "ename": "KeyboardInterrupt",
     "evalue": "",
     "output_type": "error",
     "traceback": [
      "\u001b[1;31m---------------------------------------------------------------------------\u001b[0m",
      "\u001b[1;31mKeyboardInterrupt\u001b[0m                         Traceback (most recent call last)",
      "\u001b[1;32m~\\AppData\\Local\\Temp/ipykernel_13448/782852091.py\u001b[0m in \u001b[0;36m<module>\u001b[1;34m\u001b[0m\n\u001b[0;32m     20\u001b[0m \u001b[1;33m\u001b[0m\u001b[0m\n\u001b[0;32m     21\u001b[0m     \u001b[0mrunning_vloss\u001b[0m \u001b[1;33m=\u001b[0m \u001b[1;36m0.\u001b[0m\u001b[1;33m\u001b[0m\u001b[1;33m\u001b[0m\u001b[0m\n\u001b[1;32m---> 22\u001b[1;33m     \u001b[1;32mfor\u001b[0m \u001b[0mi\u001b[0m\u001b[1;33m,\u001b[0m \u001b[0mvdata\u001b[0m \u001b[1;32min\u001b[0m \u001b[0menumerate\u001b[0m\u001b[1;33m(\u001b[0m\u001b[0mvalidation_loader\u001b[0m\u001b[1;33m)\u001b[0m\u001b[1;33m:\u001b[0m\u001b[1;33m\u001b[0m\u001b[1;33m\u001b[0m\u001b[0m\n\u001b[0m\u001b[0;32m     23\u001b[0m         \u001b[0mvinputs\u001b[0m\u001b[1;33m,\u001b[0m \u001b[0mvlabels\u001b[0m \u001b[1;33m=\u001b[0m \u001b[0mvdata\u001b[0m\u001b[1;33m\u001b[0m\u001b[1;33m\u001b[0m\u001b[0m\n\u001b[0;32m     24\u001b[0m         \u001b[0mvinputs\u001b[0m \u001b[1;33m=\u001b[0m \u001b[0mvinputs\u001b[0m\u001b[1;33m.\u001b[0m\u001b[0mfloat\u001b[0m\u001b[1;33m(\u001b[0m\u001b[1;33m)\u001b[0m\u001b[1;33m\u001b[0m\u001b[1;33m\u001b[0m\u001b[0m\n",
      "\u001b[1;32m~\\mambaforge\\lib\\site-packages\\torch\\utils\\data\\dataloader.py\u001b[0m in \u001b[0;36m__next__\u001b[1;34m(self)\u001b[0m\n\u001b[0;32m    516\u001b[0m \u001b[1;33m\u001b[0m\u001b[0m\n\u001b[0;32m    517\u001b[0m     \u001b[1;32mdef\u001b[0m \u001b[0m__next__\u001b[0m\u001b[1;33m(\u001b[0m\u001b[0mself\u001b[0m\u001b[1;33m)\u001b[0m \u001b[1;33m->\u001b[0m \u001b[0mAny\u001b[0m\u001b[1;33m:\u001b[0m\u001b[1;33m\u001b[0m\u001b[1;33m\u001b[0m\u001b[0m\n\u001b[1;32m--> 518\u001b[1;33m         \u001b[1;32mwith\u001b[0m \u001b[0mtorch\u001b[0m\u001b[1;33m.\u001b[0m\u001b[0mautograd\u001b[0m\u001b[1;33m.\u001b[0m\u001b[0mprofiler\u001b[0m\u001b[1;33m.\u001b[0m\u001b[0mrecord_function\u001b[0m\u001b[1;33m(\u001b[0m\u001b[0mself\u001b[0m\u001b[1;33m.\u001b[0m\u001b[0m_profile_name\u001b[0m\u001b[1;33m)\u001b[0m\u001b[1;33m:\u001b[0m\u001b[1;33m\u001b[0m\u001b[1;33m\u001b[0m\u001b[0m\n\u001b[0m\u001b[0;32m    519\u001b[0m             \u001b[1;32mif\u001b[0m \u001b[0mself\u001b[0m\u001b[1;33m.\u001b[0m\u001b[0m_sampler_iter\u001b[0m \u001b[1;32mis\u001b[0m \u001b[1;32mNone\u001b[0m\u001b[1;33m:\u001b[0m\u001b[1;33m\u001b[0m\u001b[1;33m\u001b[0m\u001b[0m\n\u001b[0;32m    520\u001b[0m                 \u001b[0mself\u001b[0m\u001b[1;33m.\u001b[0m\u001b[0m_reset\u001b[0m\u001b[1;33m(\u001b[0m\u001b[1;33m)\u001b[0m\u001b[1;33m\u001b[0m\u001b[1;33m\u001b[0m\u001b[0m\n",
      "\u001b[1;32m~\\mambaforge\\lib\\site-packages\\torch\\autograd\\profiler.py\u001b[0m in \u001b[0;36m__enter__\u001b[1;34m(self)\u001b[0m\n\u001b[0;32m    612\u001b[0m \u001b[1;33m\u001b[0m\u001b[0m\n\u001b[0;32m    613\u001b[0m     \u001b[1;32mdef\u001b[0m \u001b[0m__enter__\u001b[0m\u001b[1;33m(\u001b[0m\u001b[0mself\u001b[0m\u001b[1;33m)\u001b[0m\u001b[1;33m:\u001b[0m\u001b[1;33m\u001b[0m\u001b[1;33m\u001b[0m\u001b[0m\n\u001b[1;32m--> 614\u001b[1;33m         \u001b[0mself\u001b[0m\u001b[1;33m.\u001b[0m\u001b[0mhandle\u001b[0m \u001b[1;33m=\u001b[0m \u001b[0mtorch\u001b[0m\u001b[1;33m.\u001b[0m\u001b[0mops\u001b[0m\u001b[1;33m.\u001b[0m\u001b[0mprofiler\u001b[0m\u001b[1;33m.\u001b[0m\u001b[0m_record_function_enter\u001b[0m\u001b[1;33m(\u001b[0m\u001b[0mself\u001b[0m\u001b[1;33m.\u001b[0m\u001b[0mname\u001b[0m\u001b[1;33m)\u001b[0m\u001b[1;33m\u001b[0m\u001b[1;33m\u001b[0m\u001b[0m\n\u001b[0m\u001b[0;32m    615\u001b[0m         \u001b[1;32mreturn\u001b[0m \u001b[0mself\u001b[0m\u001b[1;33m\u001b[0m\u001b[1;33m\u001b[0m\u001b[0m\n\u001b[0;32m    616\u001b[0m \u001b[1;33m\u001b[0m\u001b[0m\n",
      "\u001b[1;31mKeyboardInterrupt\u001b[0m: "
     ]
    }
   ],
   "source": [
    "for epoch in range(num_epochs + 1):\n",
    "    running_loss = 0.\n",
    "    last_loss = 0.\n",
    "    \n",
    "    for i, data in enumerate(training_loader):\n",
    "        inputs, labels = data\n",
    "        inputs = inputs.float()\n",
    "        labels = labels.float()\n",
    "        outputs = lr.forward(inputs.reshape(batch_size, 100)) #forward pass\n",
    "        optimizer.zero_grad() #caluclate the gradient, manually setting to 0\n",
    "\n",
    "        # obtain the loss function\n",
    "        loss = criterion(outputs, labels)\n",
    "\n",
    "        loss.backward() #calculates the loss of the loss function\n",
    "\n",
    "        optimizer.step() #improve from loss, i.e backprop\n",
    "        \n",
    "        running_loss += loss.item()\n",
    "    \n",
    "    running_vloss = 0.\n",
    "    for i, vdata in enumerate(validation_loader):\n",
    "        vinputs, vlabels = vdata\n",
    "        vinputs = vinputs.float()\n",
    "        vlabels = vlabels.float()\n",
    "        voutputs = lr.forward(vinputs.reshape(batch_size, 100))\n",
    "        vloss = criterion(voutputs, vlabels)\n",
    "        running_vloss += vloss \n",
    "    \n",
    "    last_loss = running_loss / len(training_loader) # loss per batch\n",
    "    last_vloss = running_vloss / len(validation_loader)\n",
    "    \n",
    "    if last_loss < best_t_loss:\n",
    "        best_t_loss = last_loss\n",
    "        model_path = 'models2/dearborn_model_best_t2'\n",
    "        torch.save(lr.state_dict(), model_path)\n",
    "    if last_vloss < best_v_loss:\n",
    "        best_v_loss = last_vloss\n",
    "        model_path = 'models2/dearborn_model_best_v2'\n",
    "        torch.save(lr.state_dict(), model_path)\n",
    "    if (last_loss + last_vloss) / 2 < best_avg_loss:\n",
    "        best_avg_loss = (last_loss + last_vloss) / 2\n",
    "        model_path = 'models2/dearborn_model_best_avg2'\n",
    "        torch.save(lr.state_dict(), model_path)\n",
    "    \n",
    "    if last_loss * 0.8 + last_vloss * 0.2 < best_avg_loss2:\n",
    "        best_avg_loss2 = last_loss * 0.8 + last_vloss * 0.2\n",
    "        model_path = 'models2/dearborn_model_best_w2'\n",
    "        torch.save(lr.state_dict(), model_path)\n",
    "    \n",
    "    torch.save(lr.state_dict(), model_path)\n",
    "    if epoch % 100 == 0:\n",
    "        print('  batch {} loss: {} val-loss: {}'.format(epoch, last_loss, running_vloss / len(validation_loader)))"
   ]
  },
  {
   "cell_type": "code",
   "execution_count": 194,
   "id": "205c0f50-0e2e-45ec-8cbe-aaea942caf38",
   "metadata": {
    "tags": []
   },
   "outputs": [
    {
     "data": {
      "text/plain": [
       "103.58051149718356"
      ]
     },
     "execution_count": 194,
     "metadata": {},
     "output_type": "execute_result"
    }
   ],
   "source": [
    "saved_model = linearRegression(100, 2)\n",
    "saved_model.load_state_dict(torch.load(\"models2/dearborn_model_best_avg2\"))\n",
    "#dearborn_pred = return_predictions(saved_model, test_city_datasets[3])\n",
    "check_train_mse(saved_model, train_city_datasets[3])"
   ]
  },
  {
   "cell_type": "code",
   "execution_count": 444,
   "id": "4b9b7678-465a-4db3-b781-26a3e63c8b5c",
   "metadata": {
    "jupyter": {
     "source_hidden": true
    },
    "tags": []
   },
   "outputs": [],
   "source": [
    "final_train_dc, final_valid_dc = make_valid_set(train_inp_dc, train_out_dc)\n",
    "final_X_train_dc, final_y_train_dc = final_train_dc\n",
    "final_X_valid_dc, final_y_valid_dc = final_valid_dc\n",
    "final_X_train_dc = Variable(torch.Tensor(final_X_train_dc))\n",
    "final_y_train_dc = Variable(torch.Tensor(final_y_train_dc))\n",
    "final_X_valid_dc = Variable(torch.Tensor(final_X_valid_dc))\n",
    "final_y_valid_dc = Variable(torch.Tensor(final_y_valid_dc))\n",
    "\n",
    "mtrain_dcX, mtrain_dcY = create_input(final_X_train_dc, final_y_train_dc, 50)\n",
    "mval_dcX, mval_dcY = create_input(final_X_valid_dc, final_y_valid_dc, 50)"
   ]
  },
  {
   "cell_type": "code",
   "execution_count": 450,
   "id": "7cf57d36-c25e-4122-a1eb-80ed046ec38d",
   "metadata": {
    "jupyter": {
     "source_hidden": true
    },
    "tags": []
   },
   "outputs": [],
   "source": [
    "train_data = []\n",
    "for i in range(len(mtrain_dcX)):\n",
    "    train_data.append([mtrain_dcX[i], mtrain_dcY[i]])\n",
    "    \n",
    "val_data = []\n",
    "for i in range(len(mval_dcX)):\n",
    "    val_data.append([mval_dcX[i], mval_dcY[i]])\n",
    "\n",
    "    \n",
    "num_epochs = 20000 #1000 epochs\n",
    "learning_rate = 0.00001 #0.001 lr\n",
    "\n",
    "input_size = 2 #number of features\n",
    "hidden_size = 128 #number of features in hidden state\n",
    "num_layers = 1 #number of stacked lstm layers\n",
    "\n",
    "num_classes = 2 #number of output classes \n",
    "batch_size = 32\n",
    "\n",
    "training_loader = torch.utils.data.DataLoader(train_data, batch_size=batch_size, shuffle=True, drop_last=True)\n",
    "validation_loader = torch.utils.data.DataLoader(val_data, batch_size=batch_size, shuffle=False, drop_last=True)\n",
    "\n",
    "lr = linearRegression(100, num_classes)\n",
    "lr.load_state_dict(torch.load(\"models2/dc_model_best_avg\"))\n",
    "criterion = torch.nn.MSELoss()\n",
    "#optimizer = torch.optim.Adam(lstm2.parameters(), lr=learning_rate)\n",
    "optimizer = torch.optim.Adam(lr.parameters(), lr=learning_rate)\n",
    "best_v_loss = 100000\n",
    "best_avg_loss = 100000\n",
    "best_t_loss = 100000"
   ]
  },
  {
   "cell_type": "code",
   "execution_count": 452,
   "id": "948574ec-d840-4d7f-9f1f-f085127ddae0",
   "metadata": {
    "collapsed": true,
    "jupyter": {
     "outputs_hidden": true,
     "source_hidden": true
    },
    "scrolled": true,
    "tags": []
   },
   "outputs": [
    {
     "name": "stdout",
     "output_type": "stream",
     "text": [
      "  batch 0 loss: 0.21929856753020227 val-loss: 0.15463510155677795\n",
      "  batch 100 loss: 0.18919025498267095 val-loss: 0.3475136160850525\n",
      "  batch 200 loss: 0.19356327885139044 val-loss: 0.20518629252910614\n",
      "  batch 300 loss: 0.19466428857290913 val-loss: 0.1863701194524765\n",
      "  batch 400 loss: 0.1978826748140585 val-loss: 0.1999502032995224\n",
      "  batch 500 loss: 0.19329428115445385 val-loss: 0.15210440754890442\n",
      "  batch 600 loss: 0.19637170544656032 val-loss: 0.18579590320587158\n",
      "  batch 700 loss: 0.19007914967568443 val-loss: 0.18184910714626312\n",
      "  batch 800 loss: 0.19153461714809641 val-loss: 0.14983996748924255\n",
      "  batch 900 loss: 0.19371615829957217 val-loss: 0.4063776433467865\n",
      "  batch 1000 loss: 0.19454149617400732 val-loss: 0.15694907307624817\n",
      "  batch 1100 loss: 0.18780655320009584 val-loss: 0.17010599374771118\n",
      "  batch 1200 loss: 0.18687205051374658 val-loss: 0.15316422283649445\n",
      "  batch 1300 loss: 0.18735958372197847 val-loss: 0.1527015119791031\n",
      "  batch 1400 loss: 0.20138925436194727 val-loss: 0.17960284650325775\n",
      "  batch 1500 loss: 0.20312446127551526 val-loss: 0.16062745451927185\n",
      "  batch 1600 loss: 0.1940294272189563 val-loss: 0.16321809589862823\n",
      "  batch 1700 loss: 0.1897010209609524 val-loss: 0.19597569108009338\n",
      "  batch 1800 loss: 0.19482332393295287 val-loss: 0.35611826181411743\n",
      "  batch 1900 loss: 0.18855569605508452 val-loss: 0.14583101868629456\n",
      "  batch 2000 loss: 0.18148012756490225 val-loss: 0.3378996253013611\n",
      "  batch 2100 loss: 0.19379969819522758 val-loss: 0.2020806521177292\n"
     ]
    },
    {
     "ename": "KeyboardInterrupt",
     "evalue": "",
     "output_type": "error",
     "traceback": [
      "\u001b[1;31m---------------------------------------------------------------------------\u001b[0m",
      "\u001b[1;31mKeyboardInterrupt\u001b[0m                         Traceback (most recent call last)",
      "\u001b[1;32m~\\AppData\\Local\\Temp/ipykernel_13448/1453082321.py\u001b[0m in \u001b[0;36m<module>\u001b[1;34m\u001b[0m\n\u001b[0;32m     20\u001b[0m \u001b[1;33m\u001b[0m\u001b[0m\n\u001b[0;32m     21\u001b[0m     \u001b[0mrunning_vloss\u001b[0m \u001b[1;33m=\u001b[0m \u001b[1;36m0.\u001b[0m\u001b[1;33m\u001b[0m\u001b[1;33m\u001b[0m\u001b[0m\n\u001b[1;32m---> 22\u001b[1;33m     \u001b[1;32mfor\u001b[0m \u001b[0mi\u001b[0m\u001b[1;33m,\u001b[0m \u001b[0mvdata\u001b[0m \u001b[1;32min\u001b[0m \u001b[0menumerate\u001b[0m\u001b[1;33m(\u001b[0m\u001b[0mvalidation_loader\u001b[0m\u001b[1;33m)\u001b[0m\u001b[1;33m:\u001b[0m\u001b[1;33m\u001b[0m\u001b[1;33m\u001b[0m\u001b[0m\n\u001b[0m\u001b[0;32m     23\u001b[0m         \u001b[0mvinputs\u001b[0m\u001b[1;33m,\u001b[0m \u001b[0mvlabels\u001b[0m \u001b[1;33m=\u001b[0m \u001b[0mvdata\u001b[0m\u001b[1;33m\u001b[0m\u001b[1;33m\u001b[0m\u001b[0m\n\u001b[0;32m     24\u001b[0m         \u001b[0mvinputs\u001b[0m \u001b[1;33m=\u001b[0m \u001b[0mvinputs\u001b[0m\u001b[1;33m.\u001b[0m\u001b[0mfloat\u001b[0m\u001b[1;33m(\u001b[0m\u001b[1;33m)\u001b[0m\u001b[1;33m\u001b[0m\u001b[1;33m\u001b[0m\u001b[0m\n",
      "\u001b[1;32m~\\mambaforge\\lib\\site-packages\\torch\\utils\\data\\dataloader.py\u001b[0m in \u001b[0;36m__next__\u001b[1;34m(self)\u001b[0m\n\u001b[0;32m    519\u001b[0m             \u001b[1;32mif\u001b[0m \u001b[0mself\u001b[0m\u001b[1;33m.\u001b[0m\u001b[0m_sampler_iter\u001b[0m \u001b[1;32mis\u001b[0m \u001b[1;32mNone\u001b[0m\u001b[1;33m:\u001b[0m\u001b[1;33m\u001b[0m\u001b[1;33m\u001b[0m\u001b[0m\n\u001b[0;32m    520\u001b[0m                 \u001b[0mself\u001b[0m\u001b[1;33m.\u001b[0m\u001b[0m_reset\u001b[0m\u001b[1;33m(\u001b[0m\u001b[1;33m)\u001b[0m\u001b[1;33m\u001b[0m\u001b[1;33m\u001b[0m\u001b[0m\n\u001b[1;32m--> 521\u001b[1;33m             \u001b[0mdata\u001b[0m \u001b[1;33m=\u001b[0m \u001b[0mself\u001b[0m\u001b[1;33m.\u001b[0m\u001b[0m_next_data\u001b[0m\u001b[1;33m(\u001b[0m\u001b[1;33m)\u001b[0m\u001b[1;33m\u001b[0m\u001b[1;33m\u001b[0m\u001b[0m\n\u001b[0m\u001b[0;32m    522\u001b[0m             \u001b[0mself\u001b[0m\u001b[1;33m.\u001b[0m\u001b[0m_num_yielded\u001b[0m \u001b[1;33m+=\u001b[0m \u001b[1;36m1\u001b[0m\u001b[1;33m\u001b[0m\u001b[1;33m\u001b[0m\u001b[0m\n\u001b[0;32m    523\u001b[0m             \u001b[1;32mif\u001b[0m \u001b[0mself\u001b[0m\u001b[1;33m.\u001b[0m\u001b[0m_dataset_kind\u001b[0m \u001b[1;33m==\u001b[0m \u001b[0m_DatasetKind\u001b[0m\u001b[1;33m.\u001b[0m\u001b[0mIterable\u001b[0m \u001b[1;32mand\u001b[0m\u001b[0;31m \u001b[0m\u001b[0;31m\\\u001b[0m\u001b[1;33m\u001b[0m\u001b[1;33m\u001b[0m\u001b[0m\n",
      "\u001b[1;32m~\\mambaforge\\lib\\site-packages\\torch\\utils\\data\\dataloader.py\u001b[0m in \u001b[0;36m_next_data\u001b[1;34m(self)\u001b[0m\n\u001b[0;32m    559\u001b[0m     \u001b[1;32mdef\u001b[0m \u001b[0m_next_data\u001b[0m\u001b[1;33m(\u001b[0m\u001b[0mself\u001b[0m\u001b[1;33m)\u001b[0m\u001b[1;33m:\u001b[0m\u001b[1;33m\u001b[0m\u001b[1;33m\u001b[0m\u001b[0m\n\u001b[0;32m    560\u001b[0m         \u001b[0mindex\u001b[0m \u001b[1;33m=\u001b[0m \u001b[0mself\u001b[0m\u001b[1;33m.\u001b[0m\u001b[0m_next_index\u001b[0m\u001b[1;33m(\u001b[0m\u001b[1;33m)\u001b[0m  \u001b[1;31m# may raise StopIteration\u001b[0m\u001b[1;33m\u001b[0m\u001b[1;33m\u001b[0m\u001b[0m\n\u001b[1;32m--> 561\u001b[1;33m         \u001b[0mdata\u001b[0m \u001b[1;33m=\u001b[0m \u001b[0mself\u001b[0m\u001b[1;33m.\u001b[0m\u001b[0m_dataset_fetcher\u001b[0m\u001b[1;33m.\u001b[0m\u001b[0mfetch\u001b[0m\u001b[1;33m(\u001b[0m\u001b[0mindex\u001b[0m\u001b[1;33m)\u001b[0m  \u001b[1;31m# may raise StopIteration\u001b[0m\u001b[1;33m\u001b[0m\u001b[1;33m\u001b[0m\u001b[0m\n\u001b[0m\u001b[0;32m    562\u001b[0m         \u001b[1;32mif\u001b[0m \u001b[0mself\u001b[0m\u001b[1;33m.\u001b[0m\u001b[0m_pin_memory\u001b[0m\u001b[1;33m:\u001b[0m\u001b[1;33m\u001b[0m\u001b[1;33m\u001b[0m\u001b[0m\n\u001b[0;32m    563\u001b[0m             \u001b[0mdata\u001b[0m \u001b[1;33m=\u001b[0m \u001b[0m_utils\u001b[0m\u001b[1;33m.\u001b[0m\u001b[0mpin_memory\u001b[0m\u001b[1;33m.\u001b[0m\u001b[0mpin_memory\u001b[0m\u001b[1;33m(\u001b[0m\u001b[0mdata\u001b[0m\u001b[1;33m)\u001b[0m\u001b[1;33m\u001b[0m\u001b[1;33m\u001b[0m\u001b[0m\n",
      "\u001b[1;32m~\\mambaforge\\lib\\site-packages\\torch\\utils\\data\\_utils\\fetch.py\u001b[0m in \u001b[0;36mfetch\u001b[1;34m(self, possibly_batched_index)\u001b[0m\n\u001b[0;32m     45\u001b[0m         \u001b[1;32melse\u001b[0m\u001b[1;33m:\u001b[0m\u001b[1;33m\u001b[0m\u001b[1;33m\u001b[0m\u001b[0m\n\u001b[0;32m     46\u001b[0m             \u001b[0mdata\u001b[0m \u001b[1;33m=\u001b[0m \u001b[0mself\u001b[0m\u001b[1;33m.\u001b[0m\u001b[0mdataset\u001b[0m\u001b[1;33m[\u001b[0m\u001b[0mpossibly_batched_index\u001b[0m\u001b[1;33m]\u001b[0m\u001b[1;33m\u001b[0m\u001b[1;33m\u001b[0m\u001b[0m\n\u001b[1;32m---> 47\u001b[1;33m         \u001b[1;32mreturn\u001b[0m \u001b[0mself\u001b[0m\u001b[1;33m.\u001b[0m\u001b[0mcollate_fn\u001b[0m\u001b[1;33m(\u001b[0m\u001b[0mdata\u001b[0m\u001b[1;33m)\u001b[0m\u001b[1;33m\u001b[0m\u001b[1;33m\u001b[0m\u001b[0m\n\u001b[0m",
      "\u001b[1;32m~\\mambaforge\\lib\\site-packages\\torch\\utils\\data\\_utils\\collate.py\u001b[0m in \u001b[0;36mdefault_collate\u001b[1;34m(batch)\u001b[0m\n\u001b[0;32m     82\u001b[0m             \u001b[1;32mraise\u001b[0m \u001b[0mRuntimeError\u001b[0m\u001b[1;33m(\u001b[0m\u001b[1;34m'each element in list of batch should be of equal size'\u001b[0m\u001b[1;33m)\u001b[0m\u001b[1;33m\u001b[0m\u001b[1;33m\u001b[0m\u001b[0m\n\u001b[0;32m     83\u001b[0m         \u001b[0mtransposed\u001b[0m \u001b[1;33m=\u001b[0m \u001b[0mzip\u001b[0m\u001b[1;33m(\u001b[0m\u001b[1;33m*\u001b[0m\u001b[0mbatch\u001b[0m\u001b[1;33m)\u001b[0m\u001b[1;33m\u001b[0m\u001b[1;33m\u001b[0m\u001b[0m\n\u001b[1;32m---> 84\u001b[1;33m         \u001b[1;32mreturn\u001b[0m \u001b[1;33m[\u001b[0m\u001b[0mdefault_collate\u001b[0m\u001b[1;33m(\u001b[0m\u001b[0msamples\u001b[0m\u001b[1;33m)\u001b[0m \u001b[1;32mfor\u001b[0m \u001b[0msamples\u001b[0m \u001b[1;32min\u001b[0m \u001b[0mtransposed\u001b[0m\u001b[1;33m]\u001b[0m\u001b[1;33m\u001b[0m\u001b[1;33m\u001b[0m\u001b[0m\n\u001b[0m\u001b[0;32m     85\u001b[0m \u001b[1;33m\u001b[0m\u001b[0m\n\u001b[0;32m     86\u001b[0m     \u001b[1;32mraise\u001b[0m \u001b[0mTypeError\u001b[0m\u001b[1;33m(\u001b[0m\u001b[0mdefault_collate_err_msg_format\u001b[0m\u001b[1;33m.\u001b[0m\u001b[0mformat\u001b[0m\u001b[1;33m(\u001b[0m\u001b[0melem_type\u001b[0m\u001b[1;33m)\u001b[0m\u001b[1;33m)\u001b[0m\u001b[1;33m\u001b[0m\u001b[1;33m\u001b[0m\u001b[0m\n",
      "\u001b[1;32m~\\mambaforge\\lib\\site-packages\\torch\\utils\\data\\_utils\\collate.py\u001b[0m in \u001b[0;36m<listcomp>\u001b[1;34m(.0)\u001b[0m\n\u001b[0;32m     82\u001b[0m             \u001b[1;32mraise\u001b[0m \u001b[0mRuntimeError\u001b[0m\u001b[1;33m(\u001b[0m\u001b[1;34m'each element in list of batch should be of equal size'\u001b[0m\u001b[1;33m)\u001b[0m\u001b[1;33m\u001b[0m\u001b[1;33m\u001b[0m\u001b[0m\n\u001b[0;32m     83\u001b[0m         \u001b[0mtransposed\u001b[0m \u001b[1;33m=\u001b[0m \u001b[0mzip\u001b[0m\u001b[1;33m(\u001b[0m\u001b[1;33m*\u001b[0m\u001b[0mbatch\u001b[0m\u001b[1;33m)\u001b[0m\u001b[1;33m\u001b[0m\u001b[1;33m\u001b[0m\u001b[0m\n\u001b[1;32m---> 84\u001b[1;33m         \u001b[1;32mreturn\u001b[0m \u001b[1;33m[\u001b[0m\u001b[0mdefault_collate\u001b[0m\u001b[1;33m(\u001b[0m\u001b[0msamples\u001b[0m\u001b[1;33m)\u001b[0m \u001b[1;32mfor\u001b[0m \u001b[0msamples\u001b[0m \u001b[1;32min\u001b[0m \u001b[0mtransposed\u001b[0m\u001b[1;33m]\u001b[0m\u001b[1;33m\u001b[0m\u001b[1;33m\u001b[0m\u001b[0m\n\u001b[0m\u001b[0;32m     85\u001b[0m \u001b[1;33m\u001b[0m\u001b[0m\n\u001b[0;32m     86\u001b[0m     \u001b[1;32mraise\u001b[0m \u001b[0mTypeError\u001b[0m\u001b[1;33m(\u001b[0m\u001b[0mdefault_collate_err_msg_format\u001b[0m\u001b[1;33m.\u001b[0m\u001b[0mformat\u001b[0m\u001b[1;33m(\u001b[0m\u001b[0melem_type\u001b[0m\u001b[1;33m)\u001b[0m\u001b[1;33m)\u001b[0m\u001b[1;33m\u001b[0m\u001b[1;33m\u001b[0m\u001b[0m\n",
      "\u001b[1;32m~\\mambaforge\\lib\\site-packages\\torch\\utils\\data\\_utils\\collate.py\u001b[0m in \u001b[0;36mdefault_collate\u001b[1;34m(batch)\u001b[0m\n\u001b[0;32m     62\u001b[0m                 \u001b[1;32mraise\u001b[0m \u001b[0mTypeError\u001b[0m\u001b[1;33m(\u001b[0m\u001b[0mdefault_collate_err_msg_format\u001b[0m\u001b[1;33m.\u001b[0m\u001b[0mformat\u001b[0m\u001b[1;33m(\u001b[0m\u001b[0melem\u001b[0m\u001b[1;33m.\u001b[0m\u001b[0mdtype\u001b[0m\u001b[1;33m)\u001b[0m\u001b[1;33m)\u001b[0m\u001b[1;33m\u001b[0m\u001b[1;33m\u001b[0m\u001b[0m\n\u001b[0;32m     63\u001b[0m \u001b[1;33m\u001b[0m\u001b[0m\n\u001b[1;32m---> 64\u001b[1;33m             \u001b[1;32mreturn\u001b[0m \u001b[0mdefault_collate\u001b[0m\u001b[1;33m(\u001b[0m\u001b[1;33m[\u001b[0m\u001b[0mtorch\u001b[0m\u001b[1;33m.\u001b[0m\u001b[0mas_tensor\u001b[0m\u001b[1;33m(\u001b[0m\u001b[0mb\u001b[0m\u001b[1;33m)\u001b[0m \u001b[1;32mfor\u001b[0m \u001b[0mb\u001b[0m \u001b[1;32min\u001b[0m \u001b[0mbatch\u001b[0m\u001b[1;33m]\u001b[0m\u001b[1;33m)\u001b[0m\u001b[1;33m\u001b[0m\u001b[1;33m\u001b[0m\u001b[0m\n\u001b[0m\u001b[0;32m     65\u001b[0m         \u001b[1;32melif\u001b[0m \u001b[0melem\u001b[0m\u001b[1;33m.\u001b[0m\u001b[0mshape\u001b[0m \u001b[1;33m==\u001b[0m \u001b[1;33m(\u001b[0m\u001b[1;33m)\u001b[0m\u001b[1;33m:\u001b[0m  \u001b[1;31m# scalars\u001b[0m\u001b[1;33m\u001b[0m\u001b[1;33m\u001b[0m\u001b[0m\n\u001b[0;32m     66\u001b[0m             \u001b[1;32mreturn\u001b[0m \u001b[0mtorch\u001b[0m\u001b[1;33m.\u001b[0m\u001b[0mas_tensor\u001b[0m\u001b[1;33m(\u001b[0m\u001b[0mbatch\u001b[0m\u001b[1;33m)\u001b[0m\u001b[1;33m\u001b[0m\u001b[1;33m\u001b[0m\u001b[0m\n",
      "\u001b[1;32m~\\mambaforge\\lib\\site-packages\\torch\\utils\\data\\_utils\\collate.py\u001b[0m in \u001b[0;36m<listcomp>\u001b[1;34m(.0)\u001b[0m\n\u001b[0;32m     62\u001b[0m                 \u001b[1;32mraise\u001b[0m \u001b[0mTypeError\u001b[0m\u001b[1;33m(\u001b[0m\u001b[0mdefault_collate_err_msg_format\u001b[0m\u001b[1;33m.\u001b[0m\u001b[0mformat\u001b[0m\u001b[1;33m(\u001b[0m\u001b[0melem\u001b[0m\u001b[1;33m.\u001b[0m\u001b[0mdtype\u001b[0m\u001b[1;33m)\u001b[0m\u001b[1;33m)\u001b[0m\u001b[1;33m\u001b[0m\u001b[1;33m\u001b[0m\u001b[0m\n\u001b[0;32m     63\u001b[0m \u001b[1;33m\u001b[0m\u001b[0m\n\u001b[1;32m---> 64\u001b[1;33m             \u001b[1;32mreturn\u001b[0m \u001b[0mdefault_collate\u001b[0m\u001b[1;33m(\u001b[0m\u001b[1;33m[\u001b[0m\u001b[0mtorch\u001b[0m\u001b[1;33m.\u001b[0m\u001b[0mas_tensor\u001b[0m\u001b[1;33m(\u001b[0m\u001b[0mb\u001b[0m\u001b[1;33m)\u001b[0m \u001b[1;32mfor\u001b[0m \u001b[0mb\u001b[0m \u001b[1;32min\u001b[0m \u001b[0mbatch\u001b[0m\u001b[1;33m]\u001b[0m\u001b[1;33m)\u001b[0m\u001b[1;33m\u001b[0m\u001b[1;33m\u001b[0m\u001b[0m\n\u001b[0m\u001b[0;32m     65\u001b[0m         \u001b[1;32melif\u001b[0m \u001b[0melem\u001b[0m\u001b[1;33m.\u001b[0m\u001b[0mshape\u001b[0m \u001b[1;33m==\u001b[0m \u001b[1;33m(\u001b[0m\u001b[1;33m)\u001b[0m\u001b[1;33m:\u001b[0m  \u001b[1;31m# scalars\u001b[0m\u001b[1;33m\u001b[0m\u001b[1;33m\u001b[0m\u001b[0m\n\u001b[0;32m     66\u001b[0m             \u001b[1;32mreturn\u001b[0m \u001b[0mtorch\u001b[0m\u001b[1;33m.\u001b[0m\u001b[0mas_tensor\u001b[0m\u001b[1;33m(\u001b[0m\u001b[0mbatch\u001b[0m\u001b[1;33m)\u001b[0m\u001b[1;33m\u001b[0m\u001b[1;33m\u001b[0m\u001b[0m\n",
      "\u001b[1;31mKeyboardInterrupt\u001b[0m: "
     ]
    }
   ],
   "source": [
    "for epoch in range(num_epochs + 1):\n",
    "    running_loss = 0.\n",
    "    last_loss = 0.\n",
    "    \n",
    "    for i, data in enumerate(training_loader):\n",
    "        inputs, labels = data\n",
    "        inputs = inputs.float()\n",
    "        labels = labels.float()\n",
    "        outputs = lr.forward(inputs.reshape(32, 100)) #forward pass\n",
    "        optimizer.zero_grad() #caluclate the gradient, manually setting to 0\n",
    "\n",
    "        # obtain the loss function\n",
    "        loss = criterion(outputs, labels)\n",
    "\n",
    "        loss.backward() #calculates the loss of the loss function\n",
    "\n",
    "        optimizer.step() #improve from loss, i.e backprop\n",
    "        \n",
    "        running_loss += loss.item()\n",
    "    \n",
    "    running_vloss = 0.\n",
    "    for i, vdata in enumerate(validation_loader):\n",
    "        vinputs, vlabels = vdata\n",
    "        vinputs = vinputs.float()\n",
    "        vlabels = vlabels.float()\n",
    "        voutputs = lr.forward(vinputs.reshape(32, 100))\n",
    "        vloss = criterion(voutputs, vlabels)\n",
    "        running_vloss += vloss \n",
    "    \n",
    "    last_loss = running_loss / len(training_loader) # loss per batch\n",
    "    last_vloss = running_vloss / len(validation_loader)\n",
    "    \n",
    "    if last_loss < best_t_loss:\n",
    "        best_t_loss = last_loss\n",
    "        model_path = 'models2/dc_model_best_t'\n",
    "        torch.save(lr.state_dict(), model_path)\n",
    "    if last_vloss < best_v_loss:\n",
    "        best_v_loss = last_vloss\n",
    "        model_path = 'models2/dc_model_best_v'\n",
    "        torch.save(lr.state_dict(), model_path)\n",
    "    if (last_loss + last_vloss) / 2 < best_avg_loss:\n",
    "        best_avg_loss = (last_loss + last_vloss) / 2\n",
    "        model_path = 'models2/dc_model_best_avg'\n",
    "        torch.save(lr.state_dict(), model_path)\n",
    "        \n",
    "    torch.save(lr.state_dict(), model_path)\n",
    "    if epoch % 100 == 0:\n",
    "        print('  batch {} loss: {} val-loss: {}'.format(epoch, last_loss, running_vloss / len(validation_loader)))"
   ]
  },
  {
   "cell_type": "code",
   "execution_count": 195,
   "id": "58725195-e1b8-473a-bddd-72eb5d7f02ec",
   "metadata": {},
   "outputs": [
    {
     "data": {
      "text/plain": [
       "75.82139023778095"
      ]
     },
     "execution_count": 195,
     "metadata": {},
     "output_type": "execute_result"
    }
   ],
   "source": [
    "saved_model = linearRegression(100, 2)\n",
    "saved_model.load_state_dict(torch.load(\"models2/dc_model_best_avg\"))\n",
    "#dc_pred = return_predictions(saved_model, test_city_datasets[4])\n",
    "check_train_mse(saved_model, train_city_datasets[4])"
   ]
  },
  {
   "cell_type": "code",
   "execution_count": 447,
   "id": "6cca883a-fad5-4901-b960-7cff72ba3d28",
   "metadata": {
    "jupyter": {
     "source_hidden": true
    },
    "tags": []
   },
   "outputs": [],
   "source": [
    "final_train_palo_alto, final_valid_palo_alto = make_valid_set(train_inp_palo_alto, train_out_palo_alto)\n",
    "final_X_train_palo_alto, final_y_train_palo_alto = final_train_palo_alto\n",
    "final_X_valid_palo_alto, final_y_valid_palo_alto = final_valid_palo_alto\n",
    "final_X_train_palo_alto = Variable(torch.Tensor(final_X_train_palo_alto))\n",
    "final_y_train_palo_alto = Variable(torch.Tensor(final_y_train_palo_alto))\n",
    "final_X_valid_palo_alto = Variable(torch.Tensor(final_X_valid_palo_alto))\n",
    "final_y_valid_palo_alto = Variable(torch.Tensor(final_y_valid_palo_alto))\n",
    "\n",
    "mtrain_palo_altoX, mtrain_palo_altoY = create_input(final_X_train_palo_alto, final_y_train_palo_alto, 50)\n",
    "mval_palo_altoX, mval_palo_altoY = create_input(final_X_valid_palo_alto, final_y_valid_palo_alto, 50)\n",
    "\n",
    "\n"
   ]
  },
  {
   "cell_type": "code",
   "execution_count": null,
   "id": "ce791342-71aa-4696-8a0a-2ff51dd12470",
   "metadata": {
    "jupyter": {
     "source_hidden": true
    },
    "tags": []
   },
   "outputs": [],
   "source": [
    "train_data = []\n",
    "for i in range(len(mtrain_palo_altoX)):\n",
    "    train_data.append([mtrain_palo_altoX[i], mtrain_palo_altoY[i]])\n",
    "    \n",
    "val_data = []\n",
    "for i in range(len(mval_palo_altoX)):\n",
    "    val_data.append([mval_palo_altoX[i], mval_palo_altoY[i]])\n",
    "\n",
    "    \n",
    "num_epochs = 20000 #1000 epochs\n",
    "learning_rate = 0.00001 #0.001 lr\n",
    "\n",
    "input_size = 2 #number of features\n",
    "hidden_size = 128 #number of features in hidden state\n",
    "num_layers = 1 #number of stacked lstm layers\n",
    "\n",
    "num_classes = 2 #number of output classes \n",
    "batch_size = 32\n",
    "\n",
    "training_loader = torch.utils.data.DataLoader(train_data, batch_size=batch_size, shuffle=True, drop_last=True)\n",
    "validation_loader = torch.utils.data.DataLoader(val_data, batch_size=batch_size, shuffle=False, drop_last=True)\n",
    "\n",
    "lr = linearRegression(100, num_classes)\n",
    "lr.load_state_dict(torch.load(\"models2/palo_alto_model_best_avg\"))\n",
    "criterion = torch.nn.MSELoss()\n",
    "#optimizer = torch.optim.Adam(lstm2.parameters(), lr=learning_rate)\n",
    "optimizer = torch.optim.Adam(lr.parameters(), lr=learning_rate)\n",
    "best_v_loss = 100000\n",
    "best_avg_loss = 100000\n",
    "best_t_loss = 100000"
   ]
  },
  {
   "cell_type": "code",
   "execution_count": 448,
   "id": "9b337c2a-66dc-494d-b446-39adf58d4cc1",
   "metadata": {
    "collapsed": true,
    "jupyter": {
     "outputs_hidden": true,
     "source_hidden": true
    },
    "scrolled": true,
    "tags": []
   },
   "outputs": [
    {
     "name": "stdout",
     "output_type": "stream",
     "text": [
      "  batch 0 loss: 2404873.100543478 val-loss: 2000624.25\n",
      "  batch 100 loss: 182.2635923659921 val-loss: 187.74105834960938\n",
      "  batch 200 loss: 85.18158344281557 val-loss: 87.98871612548828\n",
      "  batch 300 loss: 28.780860049270068 val-loss: 29.572784423828125\n",
      "  batch 400 loss: 5.8241060410056225 val-loss: 6.1202497482299805\n",
      "  batch 500 loss: 1.4519809777521369 val-loss: 1.4400074481964111\n",
      "  batch 600 loss: 1.2912982279640377 val-loss: 1.2501935958862305\n",
      "  batch 700 loss: 1.242678406645223 val-loss: 1.1793487071990967\n",
      "  batch 800 loss: 1.2044325231708413 val-loss: 1.196580171585083\n",
      "  batch 900 loss: 1.163171501462675 val-loss: 1.1491758823394775\n",
      "  batch 1000 loss: 1.1693313456698007 val-loss: 1.2764590978622437\n",
      "  batch 1100 loss: 1.1423317400308757 val-loss: 1.0776869058609009\n",
      "  batch 1200 loss: 1.1036122809086357 val-loss: 1.1146605014801025\n",
      "  batch 1300 loss: 1.1143466678750156 val-loss: 1.1312785148620605\n",
      "  batch 1400 loss: 1.0590391502930567 val-loss: 1.1505273580551147\n",
      "  batch 1500 loss: 1.0249884980777435 val-loss: 1.0436245203018188\n",
      "  batch 1600 loss: 1.0020162956571101 val-loss: 1.0176159143447876\n",
      "  batch 1700 loss: 0.9959953108360138 val-loss: 1.0269612073898315\n",
      "  batch 1800 loss: 0.9824391002439735 val-loss: 1.0134904384613037\n",
      "  batch 1900 loss: 0.9620195456771149 val-loss: 1.0615277290344238\n",
      "  batch 2000 loss: 0.9265387029352794 val-loss: 1.112242579460144\n",
      "  batch 2100 loss: 0.9040256788499379 val-loss: 0.8825424909591675\n",
      "  batch 2200 loss: 0.8825200343610451 val-loss: 0.856324315071106\n",
      "  batch 2300 loss: 0.884936412142272 val-loss: 0.814479649066925\n",
      "  batch 2400 loss: 0.8430281121993942 val-loss: 0.8455440998077393\n",
      "  batch 2500 loss: 0.8371833300710123 val-loss: 0.7821382284164429\n",
      "  batch 2600 loss: 0.8099627835694763 val-loss: 0.8733245134353638\n",
      "  batch 2700 loss: 0.8104074053640749 val-loss: 0.7487596869468689\n",
      "  batch 2800 loss: 0.782054164587056 val-loss: 0.7170671224594116\n",
      "  batch 2900 loss: 0.7812797645461997 val-loss: 0.7164751291275024\n",
      "  batch 3000 loss: 0.7465442289476809 val-loss: 0.7267249226570129\n",
      "  batch 3100 loss: 0.7373155797006294 val-loss: 0.8022870421409607\n",
      "  batch 3200 loss: 0.7232566753956785 val-loss: 0.6697962880134583\n",
      "  batch 3300 loss: 0.7013456573255086 val-loss: 0.7904896140098572\n",
      "  batch 3400 loss: 0.6788791458941622 val-loss: 0.669649064540863\n",
      "  batch 3500 loss: 0.6830494900212241 val-loss: 0.7152993679046631\n",
      "  batch 3600 loss: 0.6494687219527254 val-loss: 0.6899661421775818\n",
      "  batch 3700 loss: 0.6354979023486874 val-loss: 0.5870664715766907\n",
      "  batch 3800 loss: 0.6068415800265246 val-loss: 0.5747600793838501\n",
      "  batch 3900 loss: 0.6204447037599558 val-loss: 0.6406707763671875\n",
      "  batch 4000 loss: 0.581268187450326 val-loss: 0.5673414468765259\n",
      "  batch 4100 loss: 0.5617915896268991 val-loss: 0.5952738523483276\n",
      "  batch 4200 loss: 0.5674423781725076 val-loss: 0.561902642250061\n",
      "  batch 4300 loss: 0.5540278331192839 val-loss: 0.5295981168746948\n",
      "  batch 4400 loss: 0.5449664194049644 val-loss: 0.5139982104301453\n",
      "  batch 4500 loss: 0.5249392021958246 val-loss: 0.5118638873100281\n",
      "  batch 4600 loss: 0.5318671138489924 val-loss: 0.5007065534591675\n",
      "  batch 4700 loss: 0.5204048883356777 val-loss: 0.46068263053894043\n",
      "  batch 4800 loss: 0.5003934722381292 val-loss: 0.4892287254333496\n",
      "  batch 4900 loss: 0.4921291753101508 val-loss: 0.4544037878513336\n",
      "  batch 5000 loss: 0.4821888949460409 val-loss: 0.5055017471313477\n",
      "  batch 5100 loss: 0.4689964494577618 val-loss: 0.42685574293136597\n",
      "  batch 5200 loss: 0.45387013575504453 val-loss: 0.4408186972141266\n",
      "  batch 5300 loss: 0.44702874168903134 val-loss: 0.4580533802509308\n",
      "  batch 5400 loss: 0.43202133521587155 val-loss: 0.39965730905532837\n",
      "  batch 5500 loss: 0.41347236143904786 val-loss: 0.4084075093269348\n",
      "  batch 5600 loss: 0.40083516765398325 val-loss: 0.41458672285079956\n",
      "  batch 5700 loss: 0.40304877372290376 val-loss: 0.4025523066520691\n",
      "  batch 5800 loss: 0.38720955789388223 val-loss: 0.3951164484024048\n",
      "  batch 5900 loss: 0.39219479551881453 val-loss: 0.35992154479026794\n",
      "  batch 6000 loss: 0.3659581516100013 val-loss: 0.35147491097450256\n",
      "  batch 6100 loss: 0.3791646675820335 val-loss: 0.3461407423019409\n",
      "  batch 6200 loss: 0.3835046569938245 val-loss: 0.37263211607933044\n",
      "  batch 6300 loss: 0.36406732642132306 val-loss: 0.33702564239501953\n",
      "  batch 6400 loss: 0.3696911310571492 val-loss: 0.4073517918586731\n",
      "  batch 6500 loss: 0.36243678136015417 val-loss: 0.329006552696228\n",
      "  batch 6600 loss: 0.33226475004966444 val-loss: 0.33148837089538574\n",
      "  batch 6700 loss: 0.3350050910858805 val-loss: 0.310892790555954\n",
      "  batch 6800 loss: 0.3335150809690705 val-loss: 0.3144717514514923\n",
      "  batch 6900 loss: 0.33372311687788436 val-loss: 0.30682462453842163\n",
      "  batch 7000 loss: 0.32447572800028684 val-loss: 0.28663206100463867\n",
      "  batch 7100 loss: 0.312603618139806 val-loss: 0.2963200509548187\n",
      "  batch 7200 loss: 0.3093158368980605 val-loss: 0.29199108481407166\n",
      "  batch 7300 loss: 0.3091985631397735 val-loss: 0.3385073244571686\n",
      "  batch 7400 loss: 0.2872343773776074 val-loss: 0.27879783511161804\n",
      "  batch 7500 loss: 0.2939711411710966 val-loss: 0.28052768111228943\n",
      "  batch 7600 loss: 0.2888550152098853 val-loss: 0.2899722754955292\n",
      "  batch 7700 loss: 0.28604182790354343 val-loss: 0.26958581805229187\n",
      "  batch 7800 loss: 0.2871960732450453 val-loss: 0.3520418703556061\n",
      "  batch 7900 loss: 0.2694007774011347 val-loss: 0.2506139278411865\n",
      "  batch 8000 loss: 0.2892614649639879 val-loss: 0.24617604911327362\n",
      "  batch 8100 loss: 0.26325023827146127 val-loss: 0.2590652108192444\n",
      "  batch 8200 loss: 0.2553172067405787 val-loss: 0.2454296350479126\n",
      "  batch 8300 loss: 0.25326774097405946 val-loss: 0.2614741027355194\n",
      "  batch 8400 loss: 0.25575973414956127 val-loss: 0.2489766776561737\n",
      "  batch 8500 loss: 0.2459133176949112 val-loss: 0.23725272715091705\n",
      "  batch 8600 loss: 0.23888608596496358 val-loss: 0.2245737612247467\n",
      "  batch 8700 loss: 0.2448116272538402 val-loss: 0.33845019340515137\n",
      "  batch 8800 loss: 0.23210337845278425 val-loss: 0.2677752673625946\n",
      "  batch 8900 loss: 0.2426983028351264 val-loss: 0.22034020721912384\n",
      "  batch 9000 loss: 0.23489385810883148 val-loss: 0.26550984382629395\n",
      "  batch 9100 loss: 0.24767571545663886 val-loss: 0.2376275658607483\n",
      "  batch 9200 loss: 0.23096908145524986 val-loss: 0.26718074083328247\n",
      "  batch 9300 loss: 0.2300096773433446 val-loss: 0.2575199007987976\n",
      "  batch 9400 loss: 0.2248021715062119 val-loss: 0.2173425555229187\n",
      "  batch 9500 loss: 0.2305557072461648 val-loss: 0.26651817560195923\n",
      "  batch 9600 loss: 0.2149261198937893 val-loss: 0.23279596865177155\n",
      "  batch 9700 loss: 0.21996762092695588 val-loss: 0.4014626145362854\n",
      "  batch 9800 loss: 0.22093134288704117 val-loss: 0.2476922869682312\n",
      "  batch 9900 loss: 0.2100303171071719 val-loss: 0.19091923534870148\n",
      "  batch 10000 loss: 0.21911129253265452 val-loss: 0.2584678530693054\n",
      "  batch 10100 loss: 0.21072464072485034 val-loss: 0.1849835216999054\n",
      "  batch 10200 loss: 0.2130446347803575 val-loss: 0.18966221809387207\n",
      "  batch 10300 loss: 0.20893090567162204 val-loss: 0.18672680854797363\n",
      "  batch 10400 loss: 0.20892312903468027 val-loss: 0.24215133488178253\n",
      "  batch 10500 loss: 0.20861810019682084 val-loss: 0.18964509665966034\n",
      "  batch 10600 loss: 0.20178833860517745 val-loss: 0.17532195150852203\n",
      "  batch 10700 loss: 0.20517371318312394 val-loss: 0.18706047534942627\n",
      "  batch 10800 loss: 0.19868570989788975 val-loss: 0.20979748666286469\n",
      "  batch 10900 loss: 0.2046544509737388 val-loss: 0.19323930144309998\n",
      "  batch 11000 loss: 0.2050108443634167 val-loss: 0.1766095608472824\n",
      "  batch 11100 loss: 0.19962253366724703 val-loss: 0.21005062758922577\n",
      "  batch 11200 loss: 0.19805505642524132 val-loss: 0.17735008895397186\n",
      "  batch 11300 loss: 0.19402741258309836 val-loss: 0.1917639672756195\n",
      "  batch 11400 loss: 0.18565851896004534 val-loss: 0.1801294982433319\n",
      "  batch 11500 loss: 0.1860529686196592 val-loss: 0.17620454728603363\n",
      "  batch 11600 loss: 0.18553572325004783 val-loss: 0.18046197295188904\n",
      "  batch 11700 loss: 0.190151623384809 val-loss: 0.16805312037467957\n",
      "  batch 11800 loss: 0.19703781662079004 val-loss: 0.1893121302127838\n",
      "  batch 11900 loss: 0.1837188194079144 val-loss: 0.16757957637310028\n",
      "  batch 12000 loss: 0.19017837956597575 val-loss: 0.18139928579330444\n",
      "  batch 12100 loss: 0.1893179151027099 val-loss: 0.1622050255537033\n",
      "  batch 12200 loss: 0.1903025614328209 val-loss: 0.22623799741268158\n",
      "  batch 12300 loss: 0.18356085076529446 val-loss: 0.1590176820755005\n",
      "  batch 12400 loss: 0.1802983142834244 val-loss: 0.16831207275390625\n",
      "  batch 12500 loss: 0.17990960056167782 val-loss: 0.2211943119764328\n",
      "  batch 12600 loss: 0.18773214533974894 val-loss: 0.19475539028644562\n",
      "  batch 12700 loss: 0.18707517242949942 val-loss: 0.17684537172317505\n",
      "  batch 12800 loss: 0.18715842652530176 val-loss: 0.20643748342990875\n",
      "  batch 12900 loss: 0.17577413075843384 val-loss: 0.20580804347991943\n",
      "  batch 13000 loss: 0.17261051258265375 val-loss: 0.1908479630947113\n",
      "  batch 13100 loss: 0.17688200377351465 val-loss: 0.15876124799251556\n",
      "  batch 13200 loss: 0.17788080087423724 val-loss: 0.17165584862232208\n",
      "  batch 13300 loss: 0.18199402039067003 val-loss: 0.20661644637584686\n",
      "  batch 13400 loss: 0.17949705703003352 val-loss: 0.1539962887763977\n",
      "  batch 13500 loss: 0.17938845794037434 val-loss: 0.16019590198993683\n",
      "  batch 13600 loss: 0.18039057742692155 val-loss: 0.20346730947494507\n",
      "  batch 13700 loss: 0.1770785091862232 val-loss: 0.2020086646080017\n",
      "  batch 13800 loss: 0.17254337128937045 val-loss: 0.16620241105556488\n",
      "  batch 13900 loss: 0.17734253882464757 val-loss: 0.15597617626190186\n",
      "  batch 14000 loss: 0.1769437602032786 val-loss: 0.14751704037189484\n",
      "  batch 14100 loss: 0.17364906094793892 val-loss: 0.1520228087902069\n",
      "  batch 14200 loss: 0.17241001535319167 val-loss: 0.16074304282665253\n",
      "  batch 14300 loss: 0.17206882087382983 val-loss: 0.14609287679195404\n",
      "  batch 14400 loss: 0.17532881523753488 val-loss: 0.1453491598367691\n",
      "  batch 14500 loss: 0.168077304037319 val-loss: 0.16100090742111206\n",
      "  batch 14600 loss: 0.18168850958247648 val-loss: 0.1562528908252716\n",
      "  batch 14700 loss: 0.17216616383065347 val-loss: 0.14639917016029358\n",
      "  batch 14800 loss: 0.16671219194015133 val-loss: 0.1675754189491272\n",
      "  batch 14900 loss: 0.17343062030332143 val-loss: 0.15252135694026947\n",
      "  batch 15000 loss: 0.165547023947821 val-loss: 0.1740313023328781\n",
      "  batch 15100 loss: 0.16983245531202956 val-loss: 0.16038396954536438\n",
      "  batch 15200 loss: 0.16850944020377354 val-loss: 0.15337955951690674\n",
      "  batch 15300 loss: 0.16741370349923104 val-loss: 0.17691843211650848\n",
      "  batch 15400 loss: 0.1674603501266261 val-loss: 0.16362692415714264\n",
      "  batch 15500 loss: 0.1632313711138872 val-loss: 0.18445952236652374\n",
      "  batch 15600 loss: 0.1726667640799264 val-loss: 0.16033631563186646\n",
      "  batch 15700 loss: 0.165205490691307 val-loss: 0.17609278857707977\n",
      "  batch 15800 loss: 0.15793137626105727 val-loss: 0.15213190019130707\n",
      "  batch 15900 loss: 0.17120119941772824 val-loss: 0.20147919654846191\n",
      "  batch 16000 loss: 0.16433992844859893 val-loss: 0.1385709047317505\n",
      "  batch 16100 loss: 0.1640015665852904 val-loss: 0.20072655379772186\n",
      "  batch 16200 loss: 0.1610024338806154 val-loss: 0.13692650198936462\n",
      "  batch 16300 loss: 0.16690781498234408 val-loss: 0.15336006879806519\n",
      "  batch 16400 loss: 0.1606299556841619 val-loss: 0.15914686024188995\n",
      "  batch 16500 loss: 0.16397089747880214 val-loss: 0.28202998638153076\n",
      "  batch 16600 loss: 0.1582213018625277 val-loss: 0.1401536762714386\n",
      "  batch 16700 loss: 0.16024350340051396 val-loss: 0.14719048142433167\n",
      "  batch 16800 loss: 0.16545307977642104 val-loss: 0.1652134656906128\n",
      "  batch 16900 loss: 0.17004525950521132 val-loss: 0.1426307111978531\n",
      "  batch 17000 loss: 0.1696086583478395 val-loss: 0.1397060751914978\n",
      "  batch 17100 loss: 0.1586848809243644 val-loss: 0.21138447523117065\n",
      "  batch 17200 loss: 0.16324970623272717 val-loss: 0.17380276322364807\n",
      "  batch 17300 loss: 0.17114435260909855 val-loss: 0.157317116856575\n",
      "  batch 17400 loss: 0.17135171351773684 val-loss: 0.1794813722372055\n",
      "  batch 17500 loss: 0.17077569634868547 val-loss: 0.17429065704345703\n",
      "  batch 17600 loss: 0.162290166938883 val-loss: 0.13638968765735626\n",
      "  batch 17700 loss: 0.15231133284776108 val-loss: 0.1520291268825531\n",
      "  batch 17800 loss: 0.15495242937203235 val-loss: 0.16163001954555511\n",
      "  batch 17900 loss: 0.16562218154254166 val-loss: 0.22487328946590424\n",
      "  batch 18000 loss: 0.16731086777006104 val-loss: 0.14187055826187134\n",
      "  batch 18100 loss: 0.16032590956293222 val-loss: 0.1369130164384842\n",
      "  batch 18200 loss: 0.15611514310822838 val-loss: 0.14508019387722015\n",
      "  batch 18300 loss: 0.1601674825476364 val-loss: 0.1930844783782959\n",
      "  batch 18400 loss: 0.15662596412127633 val-loss: 0.14478951692581177\n",
      "  batch 18500 loss: 0.15715392357529606 val-loss: 0.17064236104488373\n",
      "  batch 18600 loss: 0.16012638484604383 val-loss: 0.18303850293159485\n",
      "  batch 18700 loss: 0.15236230963299108 val-loss: 0.21041709184646606\n",
      "  batch 18800 loss: 0.1492189063774702 val-loss: 0.13888053596019745\n",
      "  batch 18900 loss: 0.1610112425724798 val-loss: 0.13678815960884094\n",
      "  batch 19000 loss: 0.15349923555169218 val-loss: 0.20373839139938354\n",
      "  batch 19100 loss: 0.15164858202471782 val-loss: 0.13383445143699646\n",
      "  batch 19200 loss: 0.16169616280989504 val-loss: 0.13160595297813416\n",
      "  batch 19300 loss: 0.14781214957153518 val-loss: 0.1715729683637619\n",
      "  batch 19400 loss: 0.15630881469634464 val-loss: 0.14362913370132446\n",
      "  batch 19500 loss: 0.1504415516620097 val-loss: 0.1740555465221405\n",
      "  batch 19600 loss: 0.14833671721726358 val-loss: 0.12981021404266357\n",
      "  batch 19700 loss: 0.1481274242659277 val-loss: 0.17987725138664246\n",
      "  batch 19800 loss: 0.15771116738684202 val-loss: 0.21208089590072632\n",
      "  batch 19900 loss: 0.16329178095711114 val-loss: 0.2187298983335495\n"
     ]
    },
    {
     "ename": "KeyboardInterrupt",
     "evalue": "",
     "output_type": "error",
     "traceback": [
      "\u001b[1;31m---------------------------------------------------------------------------\u001b[0m",
      "\u001b[1;31mKeyboardInterrupt\u001b[0m                         Traceback (most recent call last)",
      "\u001b[1;32m~\\AppData\\Local\\Temp/ipykernel_13448/1258381817.py\u001b[0m in \u001b[0;36m<module>\u001b[1;34m\u001b[0m\n\u001b[0;32m     15\u001b[0m         \u001b[0mloss\u001b[0m\u001b[1;33m.\u001b[0m\u001b[0mbackward\u001b[0m\u001b[1;33m(\u001b[0m\u001b[1;33m)\u001b[0m \u001b[1;31m#calculates the loss of the loss function\u001b[0m\u001b[1;33m\u001b[0m\u001b[1;33m\u001b[0m\u001b[0m\n\u001b[0;32m     16\u001b[0m \u001b[1;33m\u001b[0m\u001b[0m\n\u001b[1;32m---> 17\u001b[1;33m         \u001b[0moptimizer\u001b[0m\u001b[1;33m.\u001b[0m\u001b[0mstep\u001b[0m\u001b[1;33m(\u001b[0m\u001b[1;33m)\u001b[0m \u001b[1;31m#improve from loss, i.e backprop\u001b[0m\u001b[1;33m\u001b[0m\u001b[1;33m\u001b[0m\u001b[0m\n\u001b[0m\u001b[0;32m     18\u001b[0m \u001b[1;33m\u001b[0m\u001b[0m\n\u001b[0;32m     19\u001b[0m         \u001b[0mrunning_loss\u001b[0m \u001b[1;33m+=\u001b[0m \u001b[0mloss\u001b[0m\u001b[1;33m.\u001b[0m\u001b[0mitem\u001b[0m\u001b[1;33m(\u001b[0m\u001b[1;33m)\u001b[0m\u001b[1;33m\u001b[0m\u001b[1;33m\u001b[0m\u001b[0m\n",
      "\u001b[1;32m~\\mambaforge\\lib\\site-packages\\torch\\optim\\optimizer.py\u001b[0m in \u001b[0;36mwrapper\u001b[1;34m(*args, **kwargs)\u001b[0m\n\u001b[0;32m     86\u001b[0m                 \u001b[0mprofile_name\u001b[0m \u001b[1;33m=\u001b[0m \u001b[1;34m\"Optimizer.step#{}.step\"\u001b[0m\u001b[1;33m.\u001b[0m\u001b[0mformat\u001b[0m\u001b[1;33m(\u001b[0m\u001b[0mobj\u001b[0m\u001b[1;33m.\u001b[0m\u001b[0m__class__\u001b[0m\u001b[1;33m.\u001b[0m\u001b[0m__name__\u001b[0m\u001b[1;33m)\u001b[0m\u001b[1;33m\u001b[0m\u001b[1;33m\u001b[0m\u001b[0m\n\u001b[0;32m     87\u001b[0m                 \u001b[1;32mwith\u001b[0m \u001b[0mtorch\u001b[0m\u001b[1;33m.\u001b[0m\u001b[0mautograd\u001b[0m\u001b[1;33m.\u001b[0m\u001b[0mprofiler\u001b[0m\u001b[1;33m.\u001b[0m\u001b[0mrecord_function\u001b[0m\u001b[1;33m(\u001b[0m\u001b[0mprofile_name\u001b[0m\u001b[1;33m)\u001b[0m\u001b[1;33m:\u001b[0m\u001b[1;33m\u001b[0m\u001b[1;33m\u001b[0m\u001b[0m\n\u001b[1;32m---> 88\u001b[1;33m                     \u001b[1;32mreturn\u001b[0m \u001b[0mfunc\u001b[0m\u001b[1;33m(\u001b[0m\u001b[1;33m*\u001b[0m\u001b[0margs\u001b[0m\u001b[1;33m,\u001b[0m \u001b[1;33m**\u001b[0m\u001b[0mkwargs\u001b[0m\u001b[1;33m)\u001b[0m\u001b[1;33m\u001b[0m\u001b[1;33m\u001b[0m\u001b[0m\n\u001b[0m\u001b[0;32m     89\u001b[0m             \u001b[1;32mreturn\u001b[0m \u001b[0mwrapper\u001b[0m\u001b[1;33m\u001b[0m\u001b[1;33m\u001b[0m\u001b[0m\n\u001b[0;32m     90\u001b[0m \u001b[1;33m\u001b[0m\u001b[0m\n",
      "\u001b[1;32m~\\mambaforge\\lib\\site-packages\\torch\\autograd\\grad_mode.py\u001b[0m in \u001b[0;36mdecorate_context\u001b[1;34m(*args, **kwargs)\u001b[0m\n\u001b[0;32m     26\u001b[0m         \u001b[1;32mdef\u001b[0m \u001b[0mdecorate_context\u001b[0m\u001b[1;33m(\u001b[0m\u001b[1;33m*\u001b[0m\u001b[0margs\u001b[0m\u001b[1;33m,\u001b[0m \u001b[1;33m**\u001b[0m\u001b[0mkwargs\u001b[0m\u001b[1;33m)\u001b[0m\u001b[1;33m:\u001b[0m\u001b[1;33m\u001b[0m\u001b[1;33m\u001b[0m\u001b[0m\n\u001b[0;32m     27\u001b[0m             \u001b[1;32mwith\u001b[0m \u001b[0mself\u001b[0m\u001b[1;33m.\u001b[0m\u001b[0m__class__\u001b[0m\u001b[1;33m(\u001b[0m\u001b[1;33m)\u001b[0m\u001b[1;33m:\u001b[0m\u001b[1;33m\u001b[0m\u001b[1;33m\u001b[0m\u001b[0m\n\u001b[1;32m---> 28\u001b[1;33m                 \u001b[1;32mreturn\u001b[0m \u001b[0mfunc\u001b[0m\u001b[1;33m(\u001b[0m\u001b[1;33m*\u001b[0m\u001b[0margs\u001b[0m\u001b[1;33m,\u001b[0m \u001b[1;33m**\u001b[0m\u001b[0mkwargs\u001b[0m\u001b[1;33m)\u001b[0m\u001b[1;33m\u001b[0m\u001b[1;33m\u001b[0m\u001b[0m\n\u001b[0m\u001b[0;32m     29\u001b[0m         \u001b[1;32mreturn\u001b[0m \u001b[0mcast\u001b[0m\u001b[1;33m(\u001b[0m\u001b[0mF\u001b[0m\u001b[1;33m,\u001b[0m \u001b[0mdecorate_context\u001b[0m\u001b[1;33m)\u001b[0m\u001b[1;33m\u001b[0m\u001b[1;33m\u001b[0m\u001b[0m\n\u001b[0;32m     30\u001b[0m \u001b[1;33m\u001b[0m\u001b[0m\n",
      "\u001b[1;32m~\\mambaforge\\lib\\site-packages\\torch\\optim\\adam.py\u001b[0m in \u001b[0;36mstep\u001b[1;34m(self, closure)\u001b[0m\n\u001b[0;32m    105\u001b[0m                     \u001b[0mstate_steps\u001b[0m\u001b[1;33m.\u001b[0m\u001b[0mappend\u001b[0m\u001b[1;33m(\u001b[0m\u001b[0mstate\u001b[0m\u001b[1;33m[\u001b[0m\u001b[1;34m'step'\u001b[0m\u001b[1;33m]\u001b[0m\u001b[1;33m)\u001b[0m\u001b[1;33m\u001b[0m\u001b[1;33m\u001b[0m\u001b[0m\n\u001b[0;32m    106\u001b[0m \u001b[1;33m\u001b[0m\u001b[0m\n\u001b[1;32m--> 107\u001b[1;33m             F.adam(params_with_grad,\n\u001b[0m\u001b[0;32m    108\u001b[0m                    \u001b[0mgrads\u001b[0m\u001b[1;33m,\u001b[0m\u001b[1;33m\u001b[0m\u001b[1;33m\u001b[0m\u001b[0m\n\u001b[0;32m    109\u001b[0m                    \u001b[0mexp_avgs\u001b[0m\u001b[1;33m,\u001b[0m\u001b[1;33m\u001b[0m\u001b[1;33m\u001b[0m\u001b[0m\n",
      "\u001b[1;32m~\\mambaforge\\lib\\site-packages\\torch\\optim\\_functional.py\u001b[0m in \u001b[0;36madam\u001b[1;34m(params, grads, exp_avgs, exp_avg_sqs, max_exp_avg_sqs, state_steps, amsgrad, beta1, beta2, lr, weight_decay, eps)\u001b[0m\n\u001b[0;32m     84\u001b[0m \u001b[1;33m\u001b[0m\u001b[0m\n\u001b[0;32m     85\u001b[0m         \u001b[1;31m# Decay the first and second moment running average coefficient\u001b[0m\u001b[1;33m\u001b[0m\u001b[1;33m\u001b[0m\u001b[0m\n\u001b[1;32m---> 86\u001b[1;33m         \u001b[0mexp_avg\u001b[0m\u001b[1;33m.\u001b[0m\u001b[0mmul_\u001b[0m\u001b[1;33m(\u001b[0m\u001b[0mbeta1\u001b[0m\u001b[1;33m)\u001b[0m\u001b[1;33m.\u001b[0m\u001b[0madd_\u001b[0m\u001b[1;33m(\u001b[0m\u001b[0mgrad\u001b[0m\u001b[1;33m,\u001b[0m \u001b[0malpha\u001b[0m\u001b[1;33m=\u001b[0m\u001b[1;36m1\u001b[0m \u001b[1;33m-\u001b[0m \u001b[0mbeta1\u001b[0m\u001b[1;33m)\u001b[0m\u001b[1;33m\u001b[0m\u001b[1;33m\u001b[0m\u001b[0m\n\u001b[0m\u001b[0;32m     87\u001b[0m         \u001b[0mexp_avg_sq\u001b[0m\u001b[1;33m.\u001b[0m\u001b[0mmul_\u001b[0m\u001b[1;33m(\u001b[0m\u001b[0mbeta2\u001b[0m\u001b[1;33m)\u001b[0m\u001b[1;33m.\u001b[0m\u001b[0maddcmul_\u001b[0m\u001b[1;33m(\u001b[0m\u001b[0mgrad\u001b[0m\u001b[1;33m,\u001b[0m \u001b[0mgrad\u001b[0m\u001b[1;33m,\u001b[0m \u001b[0mvalue\u001b[0m\u001b[1;33m=\u001b[0m\u001b[1;36m1\u001b[0m \u001b[1;33m-\u001b[0m \u001b[0mbeta2\u001b[0m\u001b[1;33m)\u001b[0m\u001b[1;33m\u001b[0m\u001b[1;33m\u001b[0m\u001b[0m\n\u001b[0;32m     88\u001b[0m         \u001b[1;32mif\u001b[0m \u001b[0mamsgrad\u001b[0m\u001b[1;33m:\u001b[0m\u001b[1;33m\u001b[0m\u001b[1;33m\u001b[0m\u001b[0m\n",
      "\u001b[1;31mKeyboardInterrupt\u001b[0m: "
     ]
    }
   ],
   "source": [
    "for epoch in range(num_epochs + 1):\n",
    "    running_loss = 0.\n",
    "    last_loss = 0.\n",
    "    \n",
    "    for i, data in enumerate(training_loader):\n",
    "        inputs, labels = data\n",
    "        inputs = inputs.float()\n",
    "        labels = labels.float()\n",
    "        outputs = lr.forward(inputs.reshape(32, 100)) #forward pass\n",
    "        optimizer.zero_grad() #caluclate the gradient, manually setting to 0\n",
    "\n",
    "        # obtain the loss function\n",
    "        loss = criterion(outputs, labels)\n",
    "\n",
    "        loss.backward() #calculates the loss of the loss function\n",
    "\n",
    "        optimizer.step() #improve from loss, i.e backprop\n",
    "        \n",
    "        running_loss += loss.item()\n",
    "    \n",
    "    running_vloss = 0.\n",
    "    for i, vdata in enumerate(validation_loader):\n",
    "        vinputs, vlabels = vdata\n",
    "        vinputs = vinputs.float()\n",
    "        vlabels = vlabels.float()\n",
    "        voutputs = lr.forward(vinputs.reshape(32, 100))\n",
    "        vloss = criterion(voutputs, vlabels)\n",
    "        running_vloss += vloss \n",
    "    \n",
    "    last_loss = running_loss / len(training_loader) # loss per batch\n",
    "    last_vloss = running_vloss / len(validation_loader)\n",
    "    \n",
    "    if last_loss < best_t_loss:\n",
    "        best_t_loss = last_loss\n",
    "        model_path = 'models2/palo_alto_model_best_t'\n",
    "        torch.save(lr.state_dict(), model_path)\n",
    "    if last_vloss < best_v_loss:\n",
    "        best_v_loss = last_vloss\n",
    "        model_path = 'models2/palo_alto_model_best_v'\n",
    "        torch.save(lr.state_dict(), model_path)\n",
    "    if (last_loss + last_vloss) / 2 < best_avg_loss:\n",
    "        best_avg_loss = (last_loss + last_vloss) / 2\n",
    "        model_path = 'models2/palo_alto_model_best_avg'\n",
    "        torch.save(lr.state_dict(), model_path)\n",
    "        \n",
    "    torch.save(lr.state_dict(), model_path)\n",
    "    if epoch % 100 == 0:\n",
    "        print('  batch {} loss: {} val-loss: {}'.format(epoch, last_loss, running_vloss / len(validation_loader)))"
   ]
  },
  {
   "cell_type": "code",
   "execution_count": 196,
   "id": "5d120f80-bbbf-4601-b17e-1a97674481ed",
   "metadata": {},
   "outputs": [
    {
     "data": {
      "text/plain": [
       "66.81033034615746"
      ]
     },
     "execution_count": 196,
     "metadata": {},
     "output_type": "execute_result"
    }
   ],
   "source": [
    "saved_model = linearRegression(100, 2)\n",
    "saved_model.load_state_dict(torch.load(\"models2/palo_alto_model_best_avg\"))\n",
    "#palo_alto_pred = return_predictions(saved_model, test_city_datasets[5])\n",
    "check_train_mse(saved_model, train_city_datasets[5])"
   ]
  },
  {
   "cell_type": "code",
   "execution_count": 561,
   "id": "effbb270-2a1d-418a-ab13-ce0db6b2d4dd",
   "metadata": {
    "tags": []
   },
   "outputs": [],
   "source": [
    "df2 = pd.read_csv('avg2.csv', index_col=\"ID\")\n",
    "dearborn_pred = numpy.array(df2.loc[[str(i) + \"_dearborn\" for i in np.arange(len(test_city_datasets[3]))]].values.tolist()).reshape(len(test_city_datasets[3]), 60, 2)"
   ]
  },
  {
   "cell_type": "code",
   "execution_count": null,
   "id": "f8dfda4c-066f-4c2e-ac47-ab0b91b11ab0",
   "metadata": {
    "tags": []
   },
   "outputs": [
    {
     "data": {
      "text/plain": [
       "(6361, 60, 2)"
      ]
     },
     "execution_count": 555,
     "metadata": {},
     "output_type": "execute_result"
    }
   ],
   "source": [
    "dearborn_pred"
   ]
  },
  {
   "cell_type": "code",
   "execution_count": 554,
   "id": "d56c68d1-b8a9-4ac2-9992-3a552946052c",
   "metadata": {
    "tags": []
   },
   "outputs": [
    {
     "data": {
      "text/plain": [
       "(32533, 60, 2)"
      ]
     },
     "execution_count": 554,
     "metadata": {},
     "output_type": "execute_result"
    }
   ],
   "source": [
    "np.shape(pred_combined)"
   ]
  },
  {
   "cell_type": "code",
   "execution_count": 480,
   "id": "c76d1fa2-8c58-4270-96ce-117fc88e4f23",
   "metadata": {
    "collapsed": true,
    "jupyter": {
     "outputs_hidden": true,
     "source_hidden": true
    },
    "tags": []
   },
   "outputs": [
    {
     "name": "stdout",
     "output_type": "stream",
     "text": [
      "0.48723154172374455\n"
     ]
    }
   ],
   "source": [
    "\n",
    "running_loss = 0.\n",
    "last_loss = 0.\n",
    "\n",
    "for i, data in enumerate(training_loader):\n",
    "    inputs, labels = data\n",
    "    inputs = inputs.float()\n",
    "    labels = labels.float()\n",
    "    #outputs = lstm1.forward(inputs) #forward pass\n",
    "    #optimizer.zero_grad() #caluclate the gradient, manually setting to 0\n",
    "    # obtain the loss function\n",
    "    loss = criterion(inputs[:,49:].reshape(32, 2), labels)\n",
    "\n",
    "    #loss.backward() #calculates the loss of the loss function\n",
    "\n",
    "    #optimizer.step() #improve from loss, i.e backprop\n",
    "\n",
    "    running_loss += loss.item()\n",
    "\n",
    "#running_vloss = 0.\n",
    "#for i, vdata in enumerate(validation_loader):\n",
    "#    vinputs, vlabels = vdata\n",
    "#    vinputs = vinputs.float()\n",
    "#    vlabels = vlabels.float()\n",
    "#    voutputs = lstm1.forward(vinputs)\n",
    "#    vloss = criterion(voutputs, vlabels)\n",
    "#     running_vloss += vloss  \n",
    "last_loss = running_loss / len(training_loader) # loss per batch\n",
    "print(last_loss)"
   ]
  },
  {
   "cell_type": "code",
   "execution_count": 570,
   "id": "a46f36e4-fd26-4419-adc2-511a5811e37c",
   "metadata": {},
   "outputs": [
    {
     "ename": "ValueError",
     "evalue": "cannot insert ID, already exists",
     "output_type": "error",
     "traceback": [
      "\u001b[1;31m---------------------------------------------------------------------------\u001b[0m",
      "\u001b[1;31mValueError\u001b[0m                                Traceback (most recent call last)",
      "\u001b[1;32m~\\AppData\\Local\\Temp/ipykernel_13448/3789304342.py\u001b[0m in \u001b[0;36m<module>\u001b[1;34m\u001b[0m\n\u001b[0;32m      8\u001b[0m        \u001b[1;33m[\u001b[0m\u001b[0mstr\u001b[0m\u001b[1;33m(\u001b[0m\u001b[0mi\u001b[0m\u001b[1;33m)\u001b[0m \u001b[1;33m+\u001b[0m \u001b[1;34m\"_washington-dc\"\u001b[0m \u001b[1;32mfor\u001b[0m \u001b[0mi\u001b[0m \u001b[1;32min\u001b[0m \u001b[0mnp\u001b[0m\u001b[1;33m.\u001b[0m\u001b[0marange\u001b[0m\u001b[1;33m(\u001b[0m\u001b[0mlen\u001b[0m\u001b[1;33m(\u001b[0m\u001b[0mtest_city_datasets\u001b[0m\u001b[1;33m[\u001b[0m\u001b[1;36m4\u001b[0m\u001b[1;33m]\u001b[0m\u001b[1;33m)\u001b[0m\u001b[1;33m)\u001b[0m\u001b[1;33m]\u001b[0m \u001b[1;33m+\u001b[0m\u001b[1;33m\u001b[0m\u001b[1;33m\u001b[0m\u001b[0m\n\u001b[0;32m      9\u001b[0m        [str(i) + \"_palo-alto\" for i in np.arange(len(test_city_datasets[5]))])\n\u001b[1;32m---> 10\u001b[1;33m \u001b[0mdf3\u001b[0m\u001b[1;33m.\u001b[0m\u001b[0minsert\u001b[0m\u001b[1;33m(\u001b[0m\u001b[0mloc\u001b[0m\u001b[1;33m=\u001b[0m\u001b[1;36m0\u001b[0m\u001b[1;33m,\u001b[0m \u001b[0mcolumn\u001b[0m\u001b[1;33m=\u001b[0m\u001b[1;34m'ID'\u001b[0m\u001b[1;33m,\u001b[0m \u001b[0mvalue\u001b[0m\u001b[1;33m=\u001b[0m\u001b[0midd\u001b[0m\u001b[1;33m)\u001b[0m\u001b[1;33m\u001b[0m\u001b[1;33m\u001b[0m\u001b[0m\n\u001b[0m\u001b[0;32m     11\u001b[0m \u001b[0mdf3\u001b[0m\u001b[1;33m\u001b[0m\u001b[1;33m\u001b[0m\u001b[0m\n",
      "\u001b[1;32m~\\mambaforge\\lib\\site-packages\\pandas\\core\\frame.py\u001b[0m in \u001b[0;36minsert\u001b[1;34m(self, loc, column, value, allow_duplicates)\u001b[0m\n\u001b[0;32m   4432\u001b[0m         \u001b[1;32mif\u001b[0m \u001b[1;32mnot\u001b[0m \u001b[0mallow_duplicates\u001b[0m \u001b[1;32mand\u001b[0m \u001b[0mcolumn\u001b[0m \u001b[1;32min\u001b[0m \u001b[0mself\u001b[0m\u001b[1;33m.\u001b[0m\u001b[0mcolumns\u001b[0m\u001b[1;33m:\u001b[0m\u001b[1;33m\u001b[0m\u001b[1;33m\u001b[0m\u001b[0m\n\u001b[0;32m   4433\u001b[0m             \u001b[1;31m# Should this be a different kind of error??\u001b[0m\u001b[1;33m\u001b[0m\u001b[1;33m\u001b[0m\u001b[0m\n\u001b[1;32m-> 4434\u001b[1;33m             \u001b[1;32mraise\u001b[0m \u001b[0mValueError\u001b[0m\u001b[1;33m(\u001b[0m\u001b[1;34mf\"cannot insert {column}, already exists\"\u001b[0m\u001b[1;33m)\u001b[0m\u001b[1;33m\u001b[0m\u001b[1;33m\u001b[0m\u001b[0m\n\u001b[0m\u001b[0;32m   4435\u001b[0m         \u001b[1;32mif\u001b[0m \u001b[1;32mnot\u001b[0m \u001b[0misinstance\u001b[0m\u001b[1;33m(\u001b[0m\u001b[0mloc\u001b[0m\u001b[1;33m,\u001b[0m \u001b[0mint\u001b[0m\u001b[1;33m)\u001b[0m\u001b[1;33m:\u001b[0m\u001b[1;33m\u001b[0m\u001b[1;33m\u001b[0m\u001b[0m\n\u001b[0;32m   4436\u001b[0m             \u001b[1;32mraise\u001b[0m \u001b[0mTypeError\u001b[0m\u001b[1;33m(\u001b[0m\u001b[1;34m\"loc must be int\"\u001b[0m\u001b[1;33m)\u001b[0m\u001b[1;33m\u001b[0m\u001b[1;33m\u001b[0m\u001b[0m\n",
      "\u001b[1;31mValueError\u001b[0m: cannot insert ID, already exists"
     ]
    }
   ],
   "source": [
    "pred_combined = np.concatenate((austin_pred, miami_pred, pittsburgh_pred, dearborn_pred, dc_pred, palo_alto_pred))\n",
    "df3 = pd.DataFrame(pred_combined.reshape(29843, 120))\n",
    "df3 = df.rename(columns=dict(zip(np.arange(120), [\"v\" + str(i) for i in np.arange(120)])))\n",
    "idd = ([str(i) + \"_austin\" for i in np.arange(len(test_city_datasets[0]))] +\n",
    "       [str(i) + \"_miami\" for i in np.arange(len(test_city_datasets[1]))] +\n",
    "       [str(i) + \"_pittsburgh\" for i in np.arange(len(test_city_datasets[2]))] +\n",
    "       [str(i) + \"_dearborn\" for i in np.arange(len(test_city_datasets[3]))] +\n",
    "       [str(i) + \"_washington-dc\" for i in np.arange(len(test_city_datasets[4]))] +\n",
    "       [str(i) + \"_palo-alto\" for i in np.arange(len(test_city_datasets[5]))])\n",
    "df3.insert(loc=0, column='ID', value=idd)\n",
    "df3"
   ]
  },
  {
   "cell_type": "code",
   "execution_count": 571,
   "id": "18d64d4e-b6f7-45c8-9635-daf4c3bf1320",
   "metadata": {},
   "outputs": [],
   "source": [
    "df3.to_csv(\"avg7.csv\", index=False)"
   ]
  },
  {
   "cell_type": "code",
   "execution_count": 249,
   "id": "851094e2-1fd7-4aec-b3d1-22aac5368f46",
   "metadata": {},
   "outputs": [],
   "source": [
    "from sklearn.model_selection import train_test_split\n",
    "def make_valid_set(train_inp, train_out, train_subset = 0.8):\n",
    "    if len(train_inp) != len(train_out):\n",
    "        raise ValueError(\"Input and output lengths should be the same!\")\n",
    "        \n",
    "    X_train, X_test, y_train, y_test = train_test_split(train_inp, train_out, test_size=(1-train_subset), random_state=42)\n",
    "    \n",
    "    return (X_train, y_train), (X_test, y_test)"
   ]
  },
  {
   "cell_type": "code",
   "execution_count": 260,
   "id": "39c44632-f625-450f-a1f6-e5e235e733a9",
   "metadata": {},
   "outputs": [],
   "source": [
    "from torch.autograd import Variable \n",
    "final_train_austin, final_valid_austin = make_valid_set(train_inp_austin, train_out_austin)\n",
    "final_X_train_austin, final_y_train_austin = final_train_austin\n",
    "final_X_valid_austin, final_y_valid_austin = final_valid_austin\n",
    "final_X_train_austin = Variable(torch.Tensor(final_X_train_austin))\n",
    "final_y_train_austin = Variable(torch.Tensor(final_y_train_austin))\n",
    "final_X_valid_austin = Variable(torch.Tensor(final_X_valid_austin))\n",
    "final_y_valid_austin = Variable(torch.Tensor(final_y_valid_austin))\n",
    "\n",
    "train_data = []\n",
    "for i in range(len(final_X_train_austin)):\n",
    "    train_data.append([final_X_train_austin[i], final_y_train_austin[i]])\n",
    "    \n",
    "val_data = []\n",
    "for i in range(len(final_X_valid_austin)):\n",
    "    val_data.append([final_X_valid_austin[i], final_y_valid_austin[i]])"
   ]
  },
  {
   "cell_type": "code",
   "execution_count": 261,
   "id": "0a9a8a8c-82fc-4e5b-ab44-9211daeb37c3",
   "metadata": {},
   "outputs": [],
   "source": [
    "num_epochs = 25 #1000 epochs\n",
    "learning_rate = 0.001 #0.001 lr\n",
    "\n",
    "input_size = 2 #number of features\n",
    "hidden_size = 128 #number of features in hidden state\n",
    "num_layers = 1 #number of stacked lstm layers\n",
    "\n",
    "num_classes = 120 #number of output classes \n",
    "batch_size = 64"
   ]
  },
  {
   "cell_type": "code",
   "execution_count": 262,
   "id": "ab0bef62-3700-4075-a454-7e7d80bc0558",
   "metadata": {},
   "outputs": [],
   "source": [
    "lstm1 = LSTM1(num_classes, input_size, hidden_size, num_layers, final_X_train_austin.shape[1])"
   ]
  },
  {
   "cell_type": "code",
   "execution_count": 263,
   "id": "589a358b-3b03-4795-8ba1-f9b293d4d480",
   "metadata": {},
   "outputs": [],
   "source": [
    "criterion = torch.nn.MSELoss()    # mean-squared error for regression\n",
    "optimizer = torch.optim.Adam(lstm1.parameters(), lr=learning_rate)"
   ]
  },
  {
   "cell_type": "code",
   "execution_count": 264,
   "id": "e4417f2e-b72d-409f-80be-e758ac92f902",
   "metadata": {
    "tags": []
   },
   "outputs": [
    {
     "ename": "KeyboardInterrupt",
     "evalue": "",
     "output_type": "error",
     "traceback": [
      "\u001b[1;31m---------------------------------------------------------------------------\u001b[0m",
      "\u001b[1;31mKeyboardInterrupt\u001b[0m                         Traceback (most recent call last)",
      "\u001b[1;32m~\\AppData\\Local\\Temp/ipykernel_13448/4096080440.py\u001b[0m in \u001b[0;36m<module>\u001b[1;34m\u001b[0m\n\u001b[0;32m     11\u001b[0m         \u001b[0minputs\u001b[0m \u001b[1;33m=\u001b[0m \u001b[0minputs\u001b[0m\u001b[1;33m.\u001b[0m\u001b[0mfloat\u001b[0m\u001b[1;33m(\u001b[0m\u001b[1;33m)\u001b[0m\u001b[1;33m\u001b[0m\u001b[1;33m\u001b[0m\u001b[0m\n\u001b[0;32m     12\u001b[0m         \u001b[0mlabels\u001b[0m \u001b[1;33m=\u001b[0m \u001b[0mlabels\u001b[0m\u001b[1;33m.\u001b[0m\u001b[0mfloat\u001b[0m\u001b[1;33m(\u001b[0m\u001b[1;33m)\u001b[0m\u001b[1;33m\u001b[0m\u001b[1;33m\u001b[0m\u001b[0m\n\u001b[1;32m---> 13\u001b[1;33m         \u001b[0moutputs\u001b[0m \u001b[1;33m=\u001b[0m \u001b[0mlstm1\u001b[0m\u001b[1;33m.\u001b[0m\u001b[0mforward\u001b[0m\u001b[1;33m(\u001b[0m\u001b[0minputs\u001b[0m\u001b[1;33m)\u001b[0m \u001b[1;31m#forward pass\u001b[0m\u001b[1;33m\u001b[0m\u001b[1;33m\u001b[0m\u001b[0m\n\u001b[0m\u001b[0;32m     14\u001b[0m         \u001b[0mlabels\u001b[0m \u001b[1;33m=\u001b[0m \u001b[0mtorch\u001b[0m\u001b[1;33m.\u001b[0m\u001b[0mreshape\u001b[0m\u001b[1;33m(\u001b[0m\u001b[0mlabels\u001b[0m\u001b[1;33m,\u001b[0m \u001b[1;33m(\u001b[0m\u001b[0mbatch_size\u001b[0m\u001b[1;33m,\u001b[0m \u001b[1;36m120\u001b[0m\u001b[1;33m)\u001b[0m\u001b[1;33m)\u001b[0m\u001b[1;33m\u001b[0m\u001b[1;33m\u001b[0m\u001b[0m\n\u001b[0;32m     15\u001b[0m         \u001b[0moptimizer\u001b[0m\u001b[1;33m.\u001b[0m\u001b[0mzero_grad\u001b[0m\u001b[1;33m(\u001b[0m\u001b[1;33m)\u001b[0m \u001b[1;31m#caluclate the gradient, manually setting to 0\u001b[0m\u001b[1;33m\u001b[0m\u001b[1;33m\u001b[0m\u001b[0m\n",
      "\u001b[1;32m~\\AppData\\Local\\Temp/ipykernel_13448/1663833758.py\u001b[0m in \u001b[0;36mforward\u001b[1;34m(self, x)\u001b[0m\n\u001b[0;32m     18\u001b[0m         \u001b[0mc_0\u001b[0m \u001b[1;33m=\u001b[0m \u001b[0mVariable\u001b[0m\u001b[1;33m(\u001b[0m\u001b[0mtorch\u001b[0m\u001b[1;33m.\u001b[0m\u001b[0mzeros\u001b[0m\u001b[1;33m(\u001b[0m\u001b[0mself\u001b[0m\u001b[1;33m.\u001b[0m\u001b[0mnum_layers\u001b[0m\u001b[1;33m,\u001b[0m \u001b[0mx\u001b[0m\u001b[1;33m.\u001b[0m\u001b[0msize\u001b[0m\u001b[1;33m(\u001b[0m\u001b[1;36m0\u001b[0m\u001b[1;33m)\u001b[0m\u001b[1;33m,\u001b[0m \u001b[0mself\u001b[0m\u001b[1;33m.\u001b[0m\u001b[0mhidden_size\u001b[0m\u001b[1;33m)\u001b[0m\u001b[1;33m)\u001b[0m \u001b[1;31m#internal state\u001b[0m\u001b[1;33m\u001b[0m\u001b[1;33m\u001b[0m\u001b[0m\n\u001b[0;32m     19\u001b[0m         \u001b[1;31m# Propagate input through LSTM\u001b[0m\u001b[1;33m\u001b[0m\u001b[1;33m\u001b[0m\u001b[0m\n\u001b[1;32m---> 20\u001b[1;33m         \u001b[0moutput\u001b[0m\u001b[1;33m,\u001b[0m \u001b[1;33m(\u001b[0m\u001b[0mhn\u001b[0m\u001b[1;33m,\u001b[0m \u001b[0mcn\u001b[0m\u001b[1;33m)\u001b[0m \u001b[1;33m=\u001b[0m \u001b[0mself\u001b[0m\u001b[1;33m.\u001b[0m\u001b[0mlstm\u001b[0m\u001b[1;33m(\u001b[0m\u001b[0mx\u001b[0m\u001b[1;33m,\u001b[0m \u001b[1;33m(\u001b[0m\u001b[0mh_0\u001b[0m\u001b[1;33m,\u001b[0m \u001b[0mc_0\u001b[0m\u001b[1;33m)\u001b[0m\u001b[1;33m)\u001b[0m \u001b[1;31m#lstm with input, hidden, and internal state\u001b[0m\u001b[1;33m\u001b[0m\u001b[1;33m\u001b[0m\u001b[0m\n\u001b[0m\u001b[0;32m     21\u001b[0m         \u001b[1;31m#output, hn = self.lstm(x, h_0.detach())\u001b[0m\u001b[1;33m\u001b[0m\u001b[1;33m\u001b[0m\u001b[0m\n\u001b[0;32m     22\u001b[0m         \u001b[0mhn\u001b[0m \u001b[1;33m=\u001b[0m \u001b[0mhn\u001b[0m\u001b[1;33m.\u001b[0m\u001b[0mview\u001b[0m\u001b[1;33m(\u001b[0m\u001b[1;33m-\u001b[0m\u001b[1;36m1\u001b[0m\u001b[1;33m,\u001b[0m \u001b[0mself\u001b[0m\u001b[1;33m.\u001b[0m\u001b[0mhidden_size\u001b[0m\u001b[1;33m)\u001b[0m \u001b[1;31m#reshaping the data for Dense layer next\u001b[0m\u001b[1;33m\u001b[0m\u001b[1;33m\u001b[0m\u001b[0m\n",
      "\u001b[1;32m~\\mambaforge\\lib\\site-packages\\torch\\nn\\modules\\module.py\u001b[0m in \u001b[0;36m_call_impl\u001b[1;34m(self, *input, **kwargs)\u001b[0m\n\u001b[0;32m   1049\u001b[0m         if not (self._backward_hooks or self._forward_hooks or self._forward_pre_hooks or _global_backward_hooks\n\u001b[0;32m   1050\u001b[0m                 or _global_forward_hooks or _global_forward_pre_hooks):\n\u001b[1;32m-> 1051\u001b[1;33m             \u001b[1;32mreturn\u001b[0m \u001b[0mforward_call\u001b[0m\u001b[1;33m(\u001b[0m\u001b[1;33m*\u001b[0m\u001b[0minput\u001b[0m\u001b[1;33m,\u001b[0m \u001b[1;33m**\u001b[0m\u001b[0mkwargs\u001b[0m\u001b[1;33m)\u001b[0m\u001b[1;33m\u001b[0m\u001b[1;33m\u001b[0m\u001b[0m\n\u001b[0m\u001b[0;32m   1052\u001b[0m         \u001b[1;31m# Do not call functions when jit is used\u001b[0m\u001b[1;33m\u001b[0m\u001b[1;33m\u001b[0m\u001b[0m\n\u001b[0;32m   1053\u001b[0m         \u001b[0mfull_backward_hooks\u001b[0m\u001b[1;33m,\u001b[0m \u001b[0mnon_full_backward_hooks\u001b[0m \u001b[1;33m=\u001b[0m \u001b[1;33m[\u001b[0m\u001b[1;33m]\u001b[0m\u001b[1;33m,\u001b[0m \u001b[1;33m[\u001b[0m\u001b[1;33m]\u001b[0m\u001b[1;33m\u001b[0m\u001b[1;33m\u001b[0m\u001b[0m\n",
      "\u001b[1;32m~\\mambaforge\\lib\\site-packages\\torch\\nn\\modules\\rnn.py\u001b[0m in \u001b[0;36mforward\u001b[1;34m(self, input, hx)\u001b[0m\n\u001b[0;32m    677\u001b[0m         \u001b[0mself\u001b[0m\u001b[1;33m.\u001b[0m\u001b[0mcheck_forward_args\u001b[0m\u001b[1;33m(\u001b[0m\u001b[0minput\u001b[0m\u001b[1;33m,\u001b[0m \u001b[0mhx\u001b[0m\u001b[1;33m,\u001b[0m \u001b[0mbatch_sizes\u001b[0m\u001b[1;33m)\u001b[0m\u001b[1;33m\u001b[0m\u001b[1;33m\u001b[0m\u001b[0m\n\u001b[0;32m    678\u001b[0m         \u001b[1;32mif\u001b[0m \u001b[0mbatch_sizes\u001b[0m \u001b[1;32mis\u001b[0m \u001b[1;32mNone\u001b[0m\u001b[1;33m:\u001b[0m\u001b[1;33m\u001b[0m\u001b[1;33m\u001b[0m\u001b[0m\n\u001b[1;32m--> 679\u001b[1;33m             result = _VF.lstm(input, hx, self._flat_weights, self.bias, self.num_layers,\n\u001b[0m\u001b[0;32m    680\u001b[0m                               self.dropout, self.training, self.bidirectional, self.batch_first)\n\u001b[0;32m    681\u001b[0m         \u001b[1;32melse\u001b[0m\u001b[1;33m:\u001b[0m\u001b[1;33m\u001b[0m\u001b[1;33m\u001b[0m\u001b[0m\n",
      "\u001b[1;31mKeyboardInterrupt\u001b[0m: "
     ]
    }
   ],
   "source": [
    "\n",
    "\n",
    "training_loader = torch.utils.data.DataLoader(train_data, batch_size=batch_size, shuffle=True, drop_last=True)\n",
    "validation_loader = torch.utils.data.DataLoader(val_data, batch_size=batch_size, shuffle=False, drop_last=True)\n",
    "\n",
    "\n",
    "for epoch in range(num_epochs):\n",
    "    running_loss = 0.\n",
    "    last_loss = 0.\n",
    "    \n",
    "    for i, data in enumerate(training_loader):\n",
    "        inputs, labels = data\n",
    "        inputs = inputs.float()\n",
    "        labels = labels.float()\n",
    "        outputs = lstm1.forward(inputs) #forward pass\n",
    "        labels = torch.reshape(labels, (batch_size, 120))\n",
    "        optimizer.zero_grad() #caluclate the gradient, manually setting to 0\n",
    "\n",
    "        # obtain the loss function\n",
    "        loss = criterion(outputs, labels)\n",
    "\n",
    "        loss.backward() #calculates the loss of the loss function\n",
    "\n",
    "        optimizer.step() #improve from loss, i.e backprop\n",
    "        \n",
    "        running_loss += loss.item()\n",
    "    \n",
    "    running_vloss = 0.\n",
    "    for i, vdata in enumerate(validation_loader):\n",
    "        vinputs, vlabels = vdata\n",
    "        vinputs = vinputs.float()\n",
    "        vlabels = vlabels.float()\n",
    "        voutputs = lstm1.forward(vinputs)\n",
    "        vlabels = torch.reshape(vlabels, (batch_size, 120))\n",
    "        vloss = criterion(voutputs, vlabels)\n",
    "        running_vloss += vloss  \n",
    "    last_loss = running_loss / len(training_loader) # loss per batch\n",
    "    last_vloss = running_vloss / len(validation_loader)\n",
    "    \n",
    "    model_path = 'models/austin_model_{}'.format(epoch)\n",
    "    torch.save(lstm1.state_dict(), model_path)\n",
    "        \n",
    "    print('  batch {} loss: {} val-loss: {}'.format(epoch, last_loss, last_vloss))"
   ]
  },
  {
   "cell_type": "code",
   "execution_count": 287,
   "id": "93c29fe5-bf26-4a6a-8a18-d8c137a74f42",
   "metadata": {},
   "outputs": [],
   "source": [
    "saved_model =  LSTM1(num_classes, input_size, hidden_size, num_layers, final_X_train_austin.shape[1])\n",
    "saved_model.load_state_dict(torch.load(\"models/austin_model_22\"))\n",
    "austin_pred = saved_model(Variable(torch.Tensor(test_city_datasets[0])))"
   ]
  },
  {
   "cell_type": "code",
   "execution_count": 290,
   "id": "6074809a-0edd-4f8c-8a26-f59c10ab85dc",
   "metadata": {},
   "outputs": [
    {
     "name": "stdout",
     "output_type": "stream",
     "text": [
      "  batch 0 loss: 9474897.943148687 val-loss: 6857995.5\n",
      "  batch 1 loss: 4480666.054664723 val-loss: 2448826.25\n",
      "  batch 2 loss: 1415608.4742164724 val-loss: 862530.75\n",
      "  batch 3 loss: 614085.7105047376 val-loss: 449836.1875\n",
      "  batch 4 loss: 338476.74599125364 val-loss: 256899.3125\n",
      "  batch 5 loss: 218824.63431577987 val-loss: 175128.046875\n",
      "  batch 6 loss: 133786.6623428389 val-loss: 106764.578125\n",
      "  batch 7 loss: 93563.87455584912 val-loss: 78818.203125\n",
      "  batch 8 loss: 65176.00657684949 val-loss: 60564.1171875\n",
      "  batch 9 loss: 54583.42058810131 val-loss: 50377.9765625\n",
      "  batch 10 loss: 45447.32589001002 val-loss: 47506.0234375\n",
      "  batch 11 loss: 42187.27964137664 val-loss: 40089.0546875\n",
      "  batch 12 loss: 36611.39542524599 val-loss: 41668.99609375\n",
      "  batch 13 loss: 35082.924303594205 val-loss: 27343.009765625\n",
      "  batch 14 loss: 39950.72769850127 val-loss: 35657.58984375\n",
      "  batch 15 loss: 42714.988728248 val-loss: 37006.2109375\n",
      "  batch 16 loss: 48476.45683479865 val-loss: 47387.03515625\n",
      "  batch 17 loss: 36652.435737632106 val-loss: 34304.81640625\n",
      "  batch 18 loss: 31726.02461905521 val-loss: 35747.9140625\n",
      "  batch 19 loss: 34344.7431640625 val-loss: 33488.3046875\n",
      "  batch 20 loss: 32038.354418162355 val-loss: 33050.375\n",
      "  batch 21 loss: 28232.25204423287 val-loss: 23044.501953125\n",
      "  batch 22 loss: 32677.502565256014 val-loss: 28285.271484375\n",
      "  batch 23 loss: 28805.321049904338 val-loss: 26808.2265625\n",
      "  batch 24 loss: 33774.308784507106 val-loss: 35592.9453125\n"
     ]
    }
   ],
   "source": [
    "from torch.autograd import Variable \n",
    "final_train_miami, final_valid_miami = make_valid_set(train_inp_miami, train_out_miami)\n",
    "final_X_train_miami, final_y_train_miami = final_train_miami\n",
    "final_X_valid_miami, final_y_valid_miami = final_valid_miami\n",
    "final_X_train_miami = Variable(torch.Tensor(final_X_train_miami))\n",
    "final_y_train_miami = Variable(torch.Tensor(final_y_train_miami))\n",
    "final_X_valid_miami = Variable(torch.Tensor(final_X_valid_miami))\n",
    "final_y_valid_miami = Variable(torch.Tensor(final_y_valid_miami))\n",
    "\n",
    "train_data = []\n",
    "for i in range(len(final_X_train_miami)):\n",
    "    train_data.append([final_X_train_miami[i], final_y_train_miami[i]])\n",
    "    \n",
    "val_data = []\n",
    "for i in range(len(final_X_valid_miami)):\n",
    "    val_data.append([final_X_valid_miami[i], final_y_valid_miami[i]])\n",
    "    \n",
    "num_epochs = 25 #1000 epochs\n",
    "learning_rate = 0.001 #0.001 lr\n",
    "\n",
    "input_size = 2 #number of features\n",
    "hidden_size = 128 #number of features in hidden state\n",
    "num_layers = 1 #number of stacked lstm layers\n",
    "\n",
    "num_classes = 120 #number of output classes \n",
    "batch_size = 128\n",
    "\n",
    "lstm1 = LSTM1(num_classes, input_size, hidden_size, num_layers, final_X_train_miami.shape[1])\n",
    "criterion = torch.nn.MSELoss()    # mean-squared error for regression\n",
    "optimizer = torch.optim.Adam(lstm1.parameters(), lr=learning_rate)\n",
    "\n",
    "training_loader = torch.utils.data.DataLoader(train_data, batch_size=batch_size, shuffle=True, drop_last=True)\n",
    "validation_loader = torch.utils.data.DataLoader(val_data, batch_size=batch_size, shuffle=False, drop_last=True)\n",
    "\n",
    "\n",
    "for epoch in range(num_epochs):\n",
    "    running_loss = 0.\n",
    "    last_loss = 0.\n",
    "    \n",
    "    for i, data in enumerate(training_loader):\n",
    "        inputs, labels = data\n",
    "        inputs = inputs.float()\n",
    "        labels = labels.float()\n",
    "        outputs = lstm1.forward(inputs) #forward pass\n",
    "        labels = torch.reshape(labels, (batch_size, 120))\n",
    "        optimizer.zero_grad() #caluclate the gradient, manually setting to 0\n",
    "\n",
    "        # obtain the loss function\n",
    "        loss = criterion(outputs, labels)\n",
    "\n",
    "        loss.backward() #calculates the loss of the loss function\n",
    "\n",
    "        optimizer.step() #improve from loss, i.e backprop\n",
    "        \n",
    "        running_loss += loss.item()\n",
    "    \n",
    "    running_vloss = 0.\n",
    "    for i, vdata in enumerate(validation_loader):\n",
    "        vinputs, vlabels = vdata\n",
    "        vinputs = vinputs.float()\n",
    "        vlabels = vlabels.float()\n",
    "        voutputs = lstm1.forward(vinputs)\n",
    "        vlabels = torch.reshape(vlabels, (batch_size, 120))\n",
    "        vloss = criterion(voutputs, vlabels)\n",
    "        running_vloss += vloss  \n",
    "    last_loss = running_loss / len(training_loader) # loss per batch\n",
    "    last_vloss = running_vloss / len(validation_loader)\n",
    "    \n",
    "    model_path = 'models/miami_model_{}'.format(epoch)\n",
    "    torch.save(lstm1.state_dict(), model_path)\n",
    "        \n",
    "    print('  batch {} loss: {} val-loss: {}'.format(epoch, last_loss, last_vloss))"
   ]
  },
  {
   "cell_type": "code",
   "execution_count": 292,
   "id": "ae97708c-f28c-4b3f-913b-171aa4267c3f",
   "metadata": {},
   "outputs": [],
   "source": [
    "saved_model =  LSTM1(num_classes, input_size, hidden_size, num_layers, final_X_train_miami.shape[1])\n",
    "saved_model.load_state_dict(torch.load(\"models/miami_model_21\"))\n",
    "miami_pred = saved_model(Variable(torch.Tensor(test_city_datasets[1])))"
   ]
  },
  {
   "cell_type": "code",
   "execution_count": 295,
   "id": "79f78e40-0830-44f5-a24f-c7b15a10bb19",
   "metadata": {},
   "outputs": [
    {
     "name": "stdout",
     "output_type": "stream",
     "text": [
      "  batch 0 loss: 5869006.201286765 val-loss: 2791013.0\n",
      "  batch 1 loss: 1522963.6076516544 val-loss: 747893.125\n",
      "  batch 2 loss: 543510.3307961856 val-loss: 394639.15625\n",
      "  batch 3 loss: 358080.59748391545 val-loss: 284245.53125\n",
      "  batch 4 loss: 234921.81696633733 val-loss: 164379.828125\n",
      "  batch 5 loss: 129700.06961239086 val-loss: 89234.71875\n",
      "  batch 6 loss: 79278.55746280446 val-loss: 57235.28125\n",
      "  batch 7 loss: 49230.85797478171 val-loss: 39249.6875\n",
      "  batch 8 loss: 41843.03899607939 val-loss: 37391.359375\n",
      "  batch 9 loss: 33502.63472702924 val-loss: 28574.75390625\n",
      "  batch 10 loss: 24930.489816104666 val-loss: 24455.974609375\n",
      "  batch 11 loss: 18261.648135016945 val-loss: 20624.421875\n",
      "  batch 12 loss: 17707.556951186238 val-loss: 14537.17578125\n",
      "  batch 13 loss: 21732.831004423253 val-loss: 19750.537109375\n",
      "  batch 14 loss: 16224.17256792854 val-loss: 15696.091796875\n",
      "  batch 15 loss: 16900.461850334617 val-loss: 16949.517578125\n",
      "  batch 16 loss: 15696.533732694737 val-loss: 15809.1064453125\n",
      "  batch 17 loss: 13423.58698317584 val-loss: 20959.15625\n",
      "  batch 18 loss: 17067.992106718175 val-loss: 12728.5966796875\n",
      "  batch 19 loss: 18792.50784481273 val-loss: 13935.1044921875\n",
      "  batch 20 loss: 15141.98892660702 val-loss: 26671.9921875\n",
      "  batch 21 loss: 15663.488066729376 val-loss: 12247.9970703125\n",
      "  batch 22 loss: 13322.258262185489 val-loss: 10551.162109375\n",
      "  batch 23 loss: 13813.218420589672 val-loss: 16187.08984375\n",
      "  batch 24 loss: 22270.785027896658 val-loss: 22885.177734375\n"
     ]
    }
   ],
   "source": [
    "from torch.autograd import Variable \n",
    "final_train_pittsburgh, final_valid_pittsburgh = make_valid_set(train_inp_pittsburgh, train_out_pittsburgh)\n",
    "final_X_train_pittsburgh, final_y_train_pittsburgh = final_train_pittsburgh\n",
    "final_X_valid_pittsburgh, final_y_valid_pittsburgh = final_valid_pittsburgh\n",
    "final_X_train_pittsburgh = Variable(torch.Tensor(final_X_train_pittsburgh))\n",
    "final_y_train_pittsburgh = Variable(torch.Tensor(final_y_train_pittsburgh))\n",
    "final_X_valid_pittsburgh = Variable(torch.Tensor(final_X_valid_pittsburgh))\n",
    "final_y_valid_pittsburgh = Variable(torch.Tensor(final_y_valid_pittsburgh))\n",
    "\n",
    "train_data = []\n",
    "for i in range(len(final_X_train_pittsburgh)):\n",
    "    train_data.append([final_X_train_pittsburgh[i], final_y_train_pittsburgh[i]])\n",
    "    \n",
    "val_data = []\n",
    "for i in range(len(final_X_valid_pittsburgh)):\n",
    "    val_data.append([final_X_valid_pittsburgh[i], final_y_valid_pittsburgh[i]])\n",
    "    \n",
    "num_epochs = 25 #1000 epochs\n",
    "learning_rate = 0.001 #0.001 lr\n",
    "\n",
    "input_size = 2 #number of features\n",
    "hidden_size = 128 #number of features in hidden state\n",
    "num_layers = 1 #number of stacked lstm layers\n",
    "\n",
    "num_classes = 120 #number of output classes \n",
    "batch_size = 64\n",
    "\n",
    "lstm1 = LSTM1(num_classes, input_size, hidden_size, num_layers, final_X_train_pittsburgh.shape[1])\n",
    "criterion = torch.nn.MSELoss()    # mean-squared error for regression\n",
    "optimizer = torch.optim.Adam(lstm1.parameters(), lr=learning_rate)\n",
    "\n",
    "training_loader = torch.utils.data.DataLoader(train_data, batch_size=batch_size, shuffle=True, drop_last=True)\n",
    "validation_loader = torch.utils.data.DataLoader(val_data, batch_size=batch_size, shuffle=False, drop_last=True)\n",
    "\n",
    "\n",
    "for epoch in range(num_epochs):\n",
    "    running_loss = 0.\n",
    "    last_loss = 0.\n",
    "    \n",
    "    for i, data in enumerate(training_loader):\n",
    "        inputs, labels = data\n",
    "        inputs = inputs.float()\n",
    "        labels = labels.float()\n",
    "        outputs = lstm1.forward(inputs) #forward pass\n",
    "        labels = torch.reshape(labels, (batch_size, 120))\n",
    "        optimizer.zero_grad() #caluclate the gradient, manually setting to 0\n",
    "\n",
    "        # obtain the loss function\n",
    "        loss = criterion(outputs, labels)\n",
    "\n",
    "        loss.backward() #calculates the loss of the loss function\n",
    "\n",
    "        optimizer.step() #improve from loss, i.e backprop\n",
    "        \n",
    "        running_loss += loss.item()\n",
    "    \n",
    "    running_vloss = 0.\n",
    "    for i, vdata in enumerate(validation_loader):\n",
    "        vinputs, vlabels = vdata\n",
    "        vinputs = vinputs.float()\n",
    "        vlabels = vlabels.float()\n",
    "        voutputs = lstm1.forward(vinputs)\n",
    "        vlabels = torch.reshape(vlabels, (batch_size, 120))\n",
    "        vloss = criterion(voutputs, vlabels)\n",
    "        running_vloss += vloss  \n",
    "    last_loss = running_loss / len(training_loader) # loss per batch\n",
    "    last_vloss = running_vloss / len(validation_loader)\n",
    "    \n",
    "    model_path = 'models/pittsburgh_model_{}'.format(epoch)\n",
    "    torch.save(lstm1.state_dict(), model_path)\n",
    "        \n",
    "    print('  batch {} loss: {} val-loss: {}'.format(epoch, last_loss, last_vloss))"
   ]
  },
  {
   "cell_type": "code",
   "execution_count": 297,
   "id": "5af4da29-1c64-4dd4-bf9b-f9db91563a78",
   "metadata": {},
   "outputs": [],
   "source": [
    "saved_model =  LSTM1(num_classes, input_size, hidden_size, num_layers, final_X_train_miami.shape[1])\n",
    "saved_model.load_state_dict(torch.load(\"models/pittsburgh_model_22\"))\n",
    "pittsburgh_pred = saved_model(Variable(torch.Tensor(test_city_datasets[2])))"
   ]
  },
  {
   "cell_type": "code",
   "execution_count": 308,
   "id": "42ebf657-c301-4bad-b857-0cc533d44fd6",
   "metadata": {},
   "outputs": [
    {
     "name": "stdout",
     "output_type": "stream",
     "text": [
      "  batch 0 loss: 40347774.421052635 val-loss: 39335388.0\n",
      "  batch 1 loss: 39162692.05263158 val-loss: 37087888.0\n",
      "  batch 2 loss: 35794064.684210524 val-loss: 32815842.0\n",
      "  batch 3 loss: 30764915.39473684 val-loss: 27328690.0\n",
      "  batch 4 loss: 25104370.47368421 val-loss: 21774124.0\n",
      "  batch 5 loss: 19445242.289473683 val-loss: 16536086.0\n",
      "  batch 6 loss: 14725025.881578946 val-loss: 12343312.0\n",
      "  batch 7 loss: 10868233.710526315 val-loss: 9106012.0\n",
      "  batch 8 loss: 8082105.822368421 val-loss: 6768371.5\n",
      "  batch 9 loss: 5902458.125 val-loss: 4906096.0\n",
      "  batch 10 loss: 4262928.986842105 val-loss: 3458916.0\n",
      "  batch 11 loss: 3004349.049342105 val-loss: 2550219.25\n",
      "  batch 12 loss: 2326806.106907895 val-loss: 2048931.125\n",
      "  batch 13 loss: 1835623.4128289474 val-loss: 1644708.875\n",
      "  batch 14 loss: 1544890.0476973683 val-loss: 1466004.875\n",
      "  batch 15 loss: 1416522.074013158 val-loss: 1429337.125\n",
      "  batch 16 loss: 1356946.2286184211 val-loss: 1299481.5\n",
      "  batch 17 loss: 1325451.0411184211 val-loss: 1298326.625\n",
      "  batch 18 loss: 1222679.2952302631 val-loss: 1162030.75\n",
      "  batch 19 loss: 1139805.9366776317 val-loss: 1113637.0\n",
      "  batch 20 loss: 1085120.4120065789 val-loss: 1062200.75\n",
      "  batch 21 loss: 1070682.597861842 val-loss: 1069199.75\n",
      "  batch 22 loss: 1037851.1587171053 val-loss: 989536.8125\n",
      "  batch 23 loss: 978819.0435855263 val-loss: 961840.0\n",
      "  batch 24 loss: 947681.7203947369 val-loss: 924839.375\n"
     ]
    }
   ],
   "source": [
    "from torch.autograd import Variable \n",
    "final_train_dearborn, final_valid_dearborn = make_valid_set(train_inp_dearborn, train_out_dearborn)\n",
    "final_X_train_dearborn, final_y_train_dearborn = final_train_dearborn\n",
    "final_X_valid_dearborn, final_y_valid_dearborn = final_valid_dearborn\n",
    "final_X_train_dearborn = Variable(torch.Tensor(final_X_train_dearborn))\n",
    "final_y_train_dearborn = Variable(torch.Tensor(final_y_train_dearborn))\n",
    "final_X_valid_dearborn = Variable(torch.Tensor(final_X_valid_dearborn))\n",
    "final_y_valid_dearborn = Variable(torch.Tensor(final_y_valid_dearborn))\n",
    "\n",
    "train_data = []\n",
    "for i in range(len(final_X_train_dearborn)):\n",
    "    train_data.append([final_X_train_dearborn[i], final_y_train_dearborn[i]])\n",
    "    \n",
    "val_data = []\n",
    "for i in range(len(final_X_valid_dearborn)):\n",
    "    val_data.append([final_X_valid_dearborn[i], final_y_valid_dearborn[i]])\n",
    "    \n",
    "num_epochs = 25 #1000 epochs\n",
    "learning_rate = 0.001 #0.001 lr\n",
    "\n",
    "input_size = 2 #number of features\n",
    "hidden_size = 128 #number of features in hidden state\n",
    "num_layers = 1 #number of stacked lstm layers\n",
    "\n",
    "num_classes = 120 #number of output classes \n",
    "batch_size = 256\n",
    "\n",
    "lstm1 = LSTM1(num_classes, input_size, hidden_size, num_layers, final_X_train_dearborn.shape[1])\n",
    "criterion = torch.nn.MSELoss()    # mean-squared error for regression\n",
    "optimizer = torch.optim.Adam(lstm1.parameters(), lr=learning_rate)\n",
    "\n",
    "training_loader = torch.utils.data.DataLoader(train_data, batch_size=batch_size, shuffle=True, drop_last=True)\n",
    "validation_loader = torch.utils.data.DataLoader(val_data, batch_size=batch_size, shuffle=False, drop_last=True)\n",
    "\n",
    "\n",
    "for epoch in range(num_epochs):\n",
    "    running_loss = 0.\n",
    "    last_loss = 0.\n",
    "    \n",
    "    for i, data in enumerate(training_loader):\n",
    "        inputs, labels = data\n",
    "        inputs = inputs.float()\n",
    "        labels = labels.float()\n",
    "        outputs = lstm1.forward(inputs) #forward pass\n",
    "        labels = torch.reshape(labels, (batch_size, 120))\n",
    "        optimizer.zero_grad() #caluclate the gradient, manually setting to 0\n",
    "\n",
    "        # obtain the loss function\n",
    "        loss = criterion(outputs, labels)\n",
    "\n",
    "        loss.backward() #calculates the loss of the loss function\n",
    "\n",
    "        optimizer.step() #improve from loss, i.e backprop\n",
    "        \n",
    "        running_loss += loss.item()\n",
    "    \n",
    "    running_vloss = 0.\n",
    "    for i, vdata in enumerate(validation_loader):\n",
    "        vinputs, vlabels = vdata\n",
    "        vinputs = vinputs.float()\n",
    "        vlabels = vlabels.float()\n",
    "        voutputs = lstm1.forward(vinputs)\n",
    "        vlabels = torch.reshape(vlabels, (batch_size, 120))\n",
    "        vloss = criterion(voutputs, vlabels)\n",
    "        running_vloss += vloss  \n",
    "    last_loss = running_loss / len(training_loader) # loss per batch\n",
    "    last_vloss = running_vloss / len(validation_loader)\n",
    "    \n",
    "    model_path = 'models/dearborn_model_{}'.format(epoch)\n",
    "    torch.save(lstm1.state_dict(), model_path)\n",
    "        \n",
    "    print('  batch {} loss: {} val-loss: {}'.format(epoch, last_loss, last_vloss))"
   ]
  },
  {
   "cell_type": "code",
   "execution_count": 309,
   "id": "61dc600f-9d7f-44d8-b775-6e55f07ce456",
   "metadata": {},
   "outputs": [
    {
     "name": "stdout",
     "output_type": "stream",
     "text": [
      "  batch 25 loss: 917697.365131579 val-loss: 897237.5625\n",
      "  batch 26 loss: 903253.5279605263 val-loss: 887291.0625\n",
      "  batch 27 loss: 882663.9646381579 val-loss: 866075.3125\n",
      "  batch 28 loss: 862024.2105263158 val-loss: 852694.9375\n",
      "  batch 29 loss: 858405.9564144737 val-loss: 861358.5\n",
      "  batch 30 loss: 842203.8577302631 val-loss: 813968.0625\n",
      "  batch 31 loss: 823626.4070723684 val-loss: 820986.0\n",
      "  batch 32 loss: 813221.2820723684 val-loss: 820969.9375\n",
      "  batch 33 loss: 811684.7368421053 val-loss: 790145.75\n",
      "  batch 34 loss: 789706.3569078947 val-loss: 796856.1875\n",
      "  batch 35 loss: 797944.9087171053 val-loss: 783820.1875\n",
      "  batch 36 loss: 784740.1101973684 val-loss: 765379.8125\n",
      "  batch 37 loss: 756370.6455592106 val-loss: 766206.125\n",
      "  batch 38 loss: 742098.416118421 val-loss: 738017.1875\n",
      "  batch 39 loss: 756815.6019736842 val-loss: 756921.6875\n",
      "  batch 40 loss: 740794.8083881579 val-loss: 732774.8125\n",
      "  batch 41 loss: 736085.4037828947 val-loss: 712186.5625\n",
      "  batch 42 loss: 708293.4638157894 val-loss: 700176.8125\n",
      "  batch 43 loss: 707005.7845394737 val-loss: 686145.4375\n",
      "  batch 44 loss: 692691.3153782894 val-loss: 687502.625\n"
     ]
    }
   ],
   "source": [
    "for epoch in range(25,45):\n",
    "    running_loss = 0.\n",
    "    last_loss = 0.\n",
    "    \n",
    "    for i, data in enumerate(training_loader):\n",
    "        inputs, labels = data\n",
    "        inputs = inputs.float()\n",
    "        labels = labels.float()\n",
    "        outputs = lstm1.forward(inputs) #forward pass\n",
    "        labels = torch.reshape(labels, (batch_size, 120))\n",
    "        optimizer.zero_grad() #caluclate the gradient, manually setting to 0\n",
    "\n",
    "        # obtain the loss function\n",
    "        loss = criterion(outputs, labels)\n",
    "\n",
    "        loss.backward() #calculates the loss of the loss function\n",
    "\n",
    "        optimizer.step() #improve from loss, i.e backprop\n",
    "        \n",
    "        running_loss += loss.item()\n",
    "    \n",
    "    running_vloss = 0.\n",
    "    for i, vdata in enumerate(validation_loader):\n",
    "        vinputs, vlabels = vdata\n",
    "        vinputs = vinputs.float()\n",
    "        vlabels = vlabels.float()\n",
    "        voutputs = lstm1.forward(vinputs)\n",
    "        vlabels = torch.reshape(vlabels, (batch_size, 120))\n",
    "        vloss = criterion(voutputs, vlabels)\n",
    "        running_vloss += vloss  \n",
    "    last_loss = running_loss / len(training_loader) # loss per batch\n",
    "    last_vloss = running_vloss / len(validation_loader)\n",
    "    \n",
    "    model_path = 'models/dearborn_model_{}'.format(epoch)\n",
    "    torch.save(lstm1.state_dict(), model_path)\n",
    "        \n",
    "    print('  batch {} loss: {} val-loss: {}'.format(epoch, last_loss, last_vloss))"
   ]
  },
  {
   "cell_type": "code",
   "execution_count": 310,
   "id": "478af02c-9b41-43d0-897d-6d8a288b3fc4",
   "metadata": {},
   "outputs": [
    {
     "name": "stdout",
     "output_type": "stream",
     "text": [
      "  batch 45 loss: 682764.6685855263 val-loss: 665839.1875\n",
      "  batch 46 loss: 662403.9728618421 val-loss: 643629.875\n",
      "  batch 47 loss: 649351.8462171053 val-loss: 631649.5625\n",
      "  batch 48 loss: 632460.3832236842 val-loss: 614734.0625\n",
      "  batch 49 loss: 617528.3700657894 val-loss: 600081.0\n",
      "  batch 50 loss: 521621.9634046053 val-loss: 498446.09375\n",
      "  batch 51 loss: 429789.9136513158 val-loss: 430118.8125\n",
      "  batch 52 loss: 409397.7195723684 val-loss: 414931.9375\n",
      "  batch 53 loss: 402801.9962993421 val-loss: 379558.9375\n",
      "  batch 54 loss: 385329.9342105263 val-loss: 389804.53125\n",
      "  batch 55 loss: 368367.95929276315 val-loss: 347276.46875\n",
      "  batch 56 loss: 343347.3009868421 val-loss: 335191.96875\n",
      "  batch 57 loss: 328177.0127467105 val-loss: 320701.8125\n",
      "  batch 58 loss: 317778.1091694079 val-loss: 304959.59375\n",
      "  batch 59 loss: 299412.51726973685 val-loss: 299142.15625\n",
      "  batch 60 loss: 251614.37212171053 val-loss: 217393.09375\n",
      "  batch 61 loss: 213305.80016447368 val-loss: 199674.484375\n",
      "  batch 62 loss: 189764.84313322368 val-loss: 179168.25\n",
      "  batch 63 loss: 175504.86050575657 val-loss: 172159.984375\n",
      "  batch 64 loss: 166875.150390625 val-loss: 161872.703125\n",
      "  batch 65 loss: 162356.5492393092 val-loss: 167499.015625\n",
      "  batch 66 loss: 154862.44418174343 val-loss: 147346.796875\n",
      "  batch 67 loss: 160326.3359375 val-loss: 147317.078125\n",
      "  batch 68 loss: 141634.40892269736 val-loss: 145244.625\n",
      "  batch 69 loss: 132224.6369243421 val-loss: 128875.7265625\n",
      "  batch 70 loss: 129474.31064967105 val-loss: 124405.8515625\n",
      "  batch 71 loss: 120967.85197368421 val-loss: 120706.7265625\n",
      "  batch 72 loss: 119598.32144325657 val-loss: 120496.2734375\n",
      "  batch 73 loss: 113334.03916529605 val-loss: 113303.0625\n",
      "  batch 74 loss: 110112.02333470395 val-loss: 110835.1484375\n",
      "  batch 75 loss: 107579.70065789473 val-loss: 104418.078125\n",
      "  batch 76 loss: 106017.75298108552 val-loss: 103035.703125\n",
      "  batch 77 loss: 101224.77117598684 val-loss: 108026.6953125\n",
      "  batch 78 loss: 96797.29440789473 val-loss: 97345.0078125\n",
      "  batch 79 loss: 97921.55802837171 val-loss: 92718.2265625\n"
     ]
    }
   ],
   "source": []
  },
  {
   "cell_type": "code",
   "execution_count": 311,
   "id": "84882c64-f644-4442-9666-3b715f723bd9",
   "metadata": {},
   "outputs": [
    {
     "name": "stdout",
     "output_type": "stream",
     "text": [
      "  batch 80 loss: 96188.67727179277 val-loss: 101269.3515625\n",
      "  batch 81 loss: 92239.59945518093 val-loss: 90600.8671875\n",
      "  batch 82 loss: 89658.7765727796 val-loss: 92474.0625\n",
      "  batch 83 loss: 85001.70482113487 val-loss: 86289.75\n",
      "  batch 84 loss: 94335.80931332237 val-loss: 100042.703125\n",
      "  batch 85 loss: 88725.70369037829 val-loss: 83649.6015625\n",
      "  batch 86 loss: 82008.98802425987 val-loss: 85583.84375\n",
      "  batch 87 loss: 78342.91509046052 val-loss: 76307.8828125\n",
      "  batch 88 loss: 75141.10634251645 val-loss: 75228.8203125\n",
      "  batch 89 loss: 73068.91072162829 val-loss: 77206.171875\n",
      "  batch 90 loss: 73384.60264185855 val-loss: 87569.9140625\n",
      "  batch 91 loss: 73336.9919819079 val-loss: 73786.53125\n",
      "  batch 92 loss: 69121.44197162829 val-loss: 68750.671875\n",
      "  batch 93 loss: 64764.05201480263 val-loss: 64657.51171875\n",
      "  batch 94 loss: 67712.17259457237 val-loss: 66520.5234375\n",
      "  batch 95 loss: 67362.14134457237 val-loss: 71554.6796875\n",
      "  batch 96 loss: 64771.00884046053 val-loss: 62342.82421875\n",
      "  batch 97 loss: 61988.75349506579 val-loss: 65665.2265625\n",
      "  batch 98 loss: 65554.41200657895 val-loss: 62659.40625\n",
      "  batch 99 loss: 62939.80967310855 val-loss: 61441.30078125\n"
     ]
    }
   ],
   "source": []
  },
  {
   "cell_type": "code",
   "execution_count": 312,
   "id": "67e1d0b6-12b3-4e47-9225-24d408e6e981",
   "metadata": {},
   "outputs": [
    {
     "name": "stdout",
     "output_type": "stream",
     "text": [
      "  batch 100 loss: 57862.63306949013 val-loss: 56002.77734375\n",
      "  batch 101 loss: 55973.82450143914 val-loss: 55881.67578125\n",
      "  batch 102 loss: 52326.38661595395 val-loss: 52710.05859375\n",
      "  batch 103 loss: 50882.87073396381 val-loss: 51120.30078125\n",
      "  batch 104 loss: 49563.21892989309 val-loss: 49849.8984375\n",
      "  batch 105 loss: 51890.14987664474 val-loss: 55546.47265625\n",
      "  batch 106 loss: 48345.5042917352 val-loss: 47477.6875\n",
      "  batch 107 loss: 45752.54361122533 val-loss: 44285.55078125\n",
      "  batch 108 loss: 50603.96898129112 val-loss: 47093.0\n",
      "  batch 109 loss: 44440.56692023026 val-loss: 41565.53125\n",
      "  batch 110 loss: 43319.28307462994 val-loss: 44167.3046875\n",
      "  batch 111 loss: 41772.90861430921 val-loss: 44289.2109375\n",
      "  batch 112 loss: 40426.04379111842 val-loss: 39352.65234375\n",
      "  batch 113 loss: 39247.3890573602 val-loss: 44757.47265625\n",
      "  batch 114 loss: 38508.67177220395 val-loss: 36299.609375\n",
      "  batch 115 loss: 41578.74146792763 val-loss: 46109.3125\n",
      "  batch 116 loss: 42875.66781455592 val-loss: 40895.078125\n",
      "  batch 117 loss: 37149.95715974506 val-loss: 45595.21875\n",
      "  batch 118 loss: 38141.82154605263 val-loss: 35970.875\n",
      "  batch 119 loss: 34537.73843544408 val-loss: 33400.640625\n"
     ]
    }
   ],
   "source": []
  },
  {
   "cell_type": "code",
   "execution_count": 313,
   "id": "5d28859f-7efe-4ec5-b6c9-c9542c706fa2",
   "metadata": {},
   "outputs": [
    {
     "name": "stdout",
     "output_type": "stream",
     "text": [
      "  batch 120 loss: 34159.62371504934 val-loss: 32221.244140625\n",
      "  batch 121 loss: 35391.30545847039 val-loss: 40562.57421875\n",
      "  batch 122 loss: 33052.99910053454 val-loss: 32872.53515625\n",
      "  batch 123 loss: 31161.62529553865 val-loss: 31240.55859375\n",
      "  batch 124 loss: 34051.40687962582 val-loss: 32665.912109375\n",
      "  batch 125 loss: 32194.391588712995 val-loss: 33223.9765625\n",
      "  batch 126 loss: 28675.34495785362 val-loss: 30935.1875\n",
      "  batch 127 loss: 29597.17416221217 val-loss: 32266.43359375\n",
      "  batch 128 loss: 57781.42593544408 val-loss: 71870.75\n",
      "  batch 129 loss: 66831.02564761513 val-loss: 52330.38671875\n",
      "  batch 130 loss: 60133.95387027138 val-loss: 52870.29296875\n",
      "  batch 131 loss: 45176.01652446546 val-loss: 43466.0390625\n",
      "  batch 132 loss: 40507.9193307977 val-loss: 37839.26953125\n",
      "  batch 133 loss: 39622.2808645148 val-loss: 40627.38671875\n",
      "  batch 134 loss: 46914.40018503289 val-loss: 41667.26171875\n"
     ]
    },
    {
     "ename": "KeyboardInterrupt",
     "evalue": "",
     "output_type": "error",
     "traceback": [
      "\u001b[1;31m---------------------------------------------------------------------------\u001b[0m",
      "\u001b[1;31mKeyboardInterrupt\u001b[0m                         Traceback (most recent call last)",
      "\u001b[1;32m~\\AppData\\Local\\Temp/ipykernel_13980/2386430453.py\u001b[0m in \u001b[0;36m<module>\u001b[1;34m\u001b[0m\n\u001b[0;32m      7\u001b[0m         \u001b[0minputs\u001b[0m \u001b[1;33m=\u001b[0m \u001b[0minputs\u001b[0m\u001b[1;33m.\u001b[0m\u001b[0mfloat\u001b[0m\u001b[1;33m(\u001b[0m\u001b[1;33m)\u001b[0m\u001b[1;33m\u001b[0m\u001b[1;33m\u001b[0m\u001b[0m\n\u001b[0;32m      8\u001b[0m         \u001b[0mlabels\u001b[0m \u001b[1;33m=\u001b[0m \u001b[0mlabels\u001b[0m\u001b[1;33m.\u001b[0m\u001b[0mfloat\u001b[0m\u001b[1;33m(\u001b[0m\u001b[1;33m)\u001b[0m\u001b[1;33m\u001b[0m\u001b[1;33m\u001b[0m\u001b[0m\n\u001b[1;32m----> 9\u001b[1;33m         \u001b[0moutputs\u001b[0m \u001b[1;33m=\u001b[0m \u001b[0mlstm1\u001b[0m\u001b[1;33m.\u001b[0m\u001b[0mforward\u001b[0m\u001b[1;33m(\u001b[0m\u001b[0minputs\u001b[0m\u001b[1;33m)\u001b[0m \u001b[1;31m#forward pass\u001b[0m\u001b[1;33m\u001b[0m\u001b[1;33m\u001b[0m\u001b[0m\n\u001b[0m\u001b[0;32m     10\u001b[0m         \u001b[0mlabels\u001b[0m \u001b[1;33m=\u001b[0m \u001b[0mtorch\u001b[0m\u001b[1;33m.\u001b[0m\u001b[0mreshape\u001b[0m\u001b[1;33m(\u001b[0m\u001b[0mlabels\u001b[0m\u001b[1;33m,\u001b[0m \u001b[1;33m(\u001b[0m\u001b[0mbatch_size\u001b[0m\u001b[1;33m,\u001b[0m \u001b[1;36m120\u001b[0m\u001b[1;33m)\u001b[0m\u001b[1;33m)\u001b[0m\u001b[1;33m\u001b[0m\u001b[1;33m\u001b[0m\u001b[0m\n\u001b[0;32m     11\u001b[0m         \u001b[0moptimizer\u001b[0m\u001b[1;33m.\u001b[0m\u001b[0mzero_grad\u001b[0m\u001b[1;33m(\u001b[0m\u001b[1;33m)\u001b[0m \u001b[1;31m#caluclate the gradient, manually setting to 0\u001b[0m\u001b[1;33m\u001b[0m\u001b[1;33m\u001b[0m\u001b[0m\n",
      "\u001b[1;32m~\\AppData\\Local\\Temp/ipykernel_13980/3436130384.py\u001b[0m in \u001b[0;36mforward\u001b[1;34m(self, x)\u001b[0m\n\u001b[0;32m     18\u001b[0m         \u001b[0mc_0\u001b[0m \u001b[1;33m=\u001b[0m \u001b[0mVariable\u001b[0m\u001b[1;33m(\u001b[0m\u001b[0mtorch\u001b[0m\u001b[1;33m.\u001b[0m\u001b[0mzeros\u001b[0m\u001b[1;33m(\u001b[0m\u001b[0mself\u001b[0m\u001b[1;33m.\u001b[0m\u001b[0mnum_layers\u001b[0m\u001b[1;33m,\u001b[0m \u001b[0mx\u001b[0m\u001b[1;33m.\u001b[0m\u001b[0msize\u001b[0m\u001b[1;33m(\u001b[0m\u001b[1;36m0\u001b[0m\u001b[1;33m)\u001b[0m\u001b[1;33m,\u001b[0m \u001b[0mself\u001b[0m\u001b[1;33m.\u001b[0m\u001b[0mhidden_size\u001b[0m\u001b[1;33m)\u001b[0m\u001b[1;33m)\u001b[0m \u001b[1;31m#internal state\u001b[0m\u001b[1;33m\u001b[0m\u001b[1;33m\u001b[0m\u001b[0m\n\u001b[0;32m     19\u001b[0m         \u001b[1;31m# Propagate input through LSTM\u001b[0m\u001b[1;33m\u001b[0m\u001b[1;33m\u001b[0m\u001b[0m\n\u001b[1;32m---> 20\u001b[1;33m         \u001b[0moutput\u001b[0m\u001b[1;33m,\u001b[0m \u001b[1;33m(\u001b[0m\u001b[0mhn\u001b[0m\u001b[1;33m,\u001b[0m \u001b[0mcn\u001b[0m\u001b[1;33m)\u001b[0m \u001b[1;33m=\u001b[0m \u001b[0mself\u001b[0m\u001b[1;33m.\u001b[0m\u001b[0mlstm\u001b[0m\u001b[1;33m(\u001b[0m\u001b[0mx\u001b[0m\u001b[1;33m,\u001b[0m \u001b[1;33m(\u001b[0m\u001b[0mh_0\u001b[0m\u001b[1;33m,\u001b[0m \u001b[0mc_0\u001b[0m\u001b[1;33m)\u001b[0m\u001b[1;33m)\u001b[0m \u001b[1;31m#lstm with input, hidden, and internal state\u001b[0m\u001b[1;33m\u001b[0m\u001b[1;33m\u001b[0m\u001b[0m\n\u001b[0m\u001b[0;32m     21\u001b[0m         \u001b[1;31m#output, hn = self.lstm(x, h_0.detach())\u001b[0m\u001b[1;33m\u001b[0m\u001b[1;33m\u001b[0m\u001b[0m\n\u001b[0;32m     22\u001b[0m         \u001b[0mhn\u001b[0m \u001b[1;33m=\u001b[0m \u001b[0mhn\u001b[0m\u001b[1;33m.\u001b[0m\u001b[0mview\u001b[0m\u001b[1;33m(\u001b[0m\u001b[1;33m-\u001b[0m\u001b[1;36m1\u001b[0m\u001b[1;33m,\u001b[0m \u001b[0mself\u001b[0m\u001b[1;33m.\u001b[0m\u001b[0mhidden_size\u001b[0m\u001b[1;33m)\u001b[0m \u001b[1;31m#reshaping the data for Dense layer next\u001b[0m\u001b[1;33m\u001b[0m\u001b[1;33m\u001b[0m\u001b[0m\n",
      "\u001b[1;32m~\\mambaforge\\lib\\site-packages\\torch\\nn\\modules\\module.py\u001b[0m in \u001b[0;36m_call_impl\u001b[1;34m(self, *input, **kwargs)\u001b[0m\n\u001b[0;32m   1049\u001b[0m         if not (self._backward_hooks or self._forward_hooks or self._forward_pre_hooks or _global_backward_hooks\n\u001b[0;32m   1050\u001b[0m                 or _global_forward_hooks or _global_forward_pre_hooks):\n\u001b[1;32m-> 1051\u001b[1;33m             \u001b[1;32mreturn\u001b[0m \u001b[0mforward_call\u001b[0m\u001b[1;33m(\u001b[0m\u001b[1;33m*\u001b[0m\u001b[0minput\u001b[0m\u001b[1;33m,\u001b[0m \u001b[1;33m**\u001b[0m\u001b[0mkwargs\u001b[0m\u001b[1;33m)\u001b[0m\u001b[1;33m\u001b[0m\u001b[1;33m\u001b[0m\u001b[0m\n\u001b[0m\u001b[0;32m   1052\u001b[0m         \u001b[1;31m# Do not call functions when jit is used\u001b[0m\u001b[1;33m\u001b[0m\u001b[1;33m\u001b[0m\u001b[0m\n\u001b[0;32m   1053\u001b[0m         \u001b[0mfull_backward_hooks\u001b[0m\u001b[1;33m,\u001b[0m \u001b[0mnon_full_backward_hooks\u001b[0m \u001b[1;33m=\u001b[0m \u001b[1;33m[\u001b[0m\u001b[1;33m]\u001b[0m\u001b[1;33m,\u001b[0m \u001b[1;33m[\u001b[0m\u001b[1;33m]\u001b[0m\u001b[1;33m\u001b[0m\u001b[1;33m\u001b[0m\u001b[0m\n",
      "\u001b[1;32m~\\mambaforge\\lib\\site-packages\\torch\\nn\\modules\\rnn.py\u001b[0m in \u001b[0;36mforward\u001b[1;34m(self, input, hx)\u001b[0m\n\u001b[0;32m    677\u001b[0m         \u001b[0mself\u001b[0m\u001b[1;33m.\u001b[0m\u001b[0mcheck_forward_args\u001b[0m\u001b[1;33m(\u001b[0m\u001b[0minput\u001b[0m\u001b[1;33m,\u001b[0m \u001b[0mhx\u001b[0m\u001b[1;33m,\u001b[0m \u001b[0mbatch_sizes\u001b[0m\u001b[1;33m)\u001b[0m\u001b[1;33m\u001b[0m\u001b[1;33m\u001b[0m\u001b[0m\n\u001b[0;32m    678\u001b[0m         \u001b[1;32mif\u001b[0m \u001b[0mbatch_sizes\u001b[0m \u001b[1;32mis\u001b[0m \u001b[1;32mNone\u001b[0m\u001b[1;33m:\u001b[0m\u001b[1;33m\u001b[0m\u001b[1;33m\u001b[0m\u001b[0m\n\u001b[1;32m--> 679\u001b[1;33m             result = _VF.lstm(input, hx, self._flat_weights, self.bias, self.num_layers,\n\u001b[0m\u001b[0;32m    680\u001b[0m                               self.dropout, self.training, self.bidirectional, self.batch_first)\n\u001b[0;32m    681\u001b[0m         \u001b[1;32melse\u001b[0m\u001b[1;33m:\u001b[0m\u001b[1;33m\u001b[0m\u001b[1;33m\u001b[0m\u001b[0m\n",
      "\u001b[1;31mKeyboardInterrupt\u001b[0m: "
     ]
    }
   ],
   "source": [
    "for epoch in range(120,150):\n",
    "    running_loss = 0.\n",
    "    last_loss = 0.\n",
    "    \n",
    "    for i, data in enumerate(training_loader):\n",
    "        inputs, labels = data\n",
    "        inputs = inputs.float()\n",
    "        labels = labels.float()\n",
    "        outputs = lstm1.forward(inputs) #forward pass\n",
    "        labels = torch.reshape(labels, (batch_size, 120))\n",
    "        optimizer.zero_grad() #caluclate the gradient, manually setting to 0\n",
    "\n",
    "        # obtain the loss function\n",
    "        loss = criterion(outputs, labels)\n",
    "\n",
    "        loss.backward() #calculates the loss of the loss function\n",
    "\n",
    "        optimizer.step() #improve from loss, i.e backprop\n",
    "        \n",
    "        running_loss += loss.item()\n",
    "    \n",
    "    running_vloss = 0.\n",
    "    for i, vdata in enumerate(validation_loader):\n",
    "        vinputs, vlabels = vdata\n",
    "        vinputs = vinputs.float()\n",
    "        vlabels = vlabels.float()\n",
    "        voutputs = lstm1.forward(vinputs)\n",
    "        vlabels = torch.reshape(vlabels, (batch_size, 120))\n",
    "        vloss = criterion(voutputs, vlabels)\n",
    "        running_vloss += vloss  \n",
    "    last_loss = running_loss / len(training_loader) # loss per batch\n",
    "    last_vloss = running_vloss / len(validation_loader)\n",
    "    \n",
    "    model_path = 'models/dearborn_model_{}'.format(epoch)\n",
    "    torch.save(lstm1.state_dict(), model_path)\n",
    "        \n",
    "    print('  batch {} loss: {} val-loss: {}'.format(epoch, last_loss, last_vloss))"
   ]
  },
  {
   "cell_type": "code",
   "execution_count": 314,
   "id": "eee1a5a9-476b-44e2-969e-5f0035bc713a",
   "metadata": {
    "tags": []
   },
   "outputs": [],
   "source": [
    "saved_model =  LSTM1(num_classes, input_size, hidden_size, num_layers, final_X_train_dearborn.shape[1])\n",
    "saved_model.load_state_dict(torch.load(\"models/dearborn_model_126\"))\n",
    "dearborn_pred = saved_model(Variable(torch.Tensor(test_city_datasets[3])))"
   ]
  },
  {
   "cell_type": "code",
   "execution_count": 299,
   "id": "3631c44d-3e1d-48a7-a612-aba382f9a099",
   "metadata": {},
   "outputs": [
    {
     "name": "stdout",
     "output_type": "stream",
     "text": [
      "  batch 0 loss: 9385461.742990654 val-loss: 5610566.0\n",
      "  batch 1 loss: 3207127.6584890964 val-loss: 1819893.75\n",
      "  batch 2 loss: 1557911.9852024922 val-loss: 1283835.0\n",
      "  batch 3 loss: 1078999.664330218 val-loss: 922020.125\n",
      "  batch 4 loss: 747341.2122274144 val-loss: 612214.375\n",
      "  batch 5 loss: 493569.289135514 val-loss: 408834.8125\n",
      "  batch 6 loss: 338422.6526479751 val-loss: 299029.40625\n",
      "  batch 7 loss: 256607.70497468847 val-loss: 230622.703125\n",
      "  batch 8 loss: 225930.4445093458 val-loss: 197899.109375\n",
      "  batch 9 loss: 180712.63062207945 val-loss: 184094.53125\n",
      "  batch 10 loss: 155681.7933459891 val-loss: 141590.5625\n",
      "  batch 11 loss: 118971.14840099298 val-loss: 128880.0\n",
      "  batch 12 loss: 95406.00657126168 val-loss: 87752.0234375\n",
      "  batch 13 loss: 90892.62417250779 val-loss: 87449.9609375\n",
      "  batch 14 loss: 72366.00244596963 val-loss: 64895.48046875\n",
      "  batch 15 loss: 55550.78625146028 val-loss: 60349.9453125\n",
      "  batch 16 loss: 51878.24902647975 val-loss: 50345.65234375\n",
      "  batch 17 loss: 42203.86242029303 val-loss: 39509.88671875\n",
      "  batch 18 loss: 36659.957667080416 val-loss: 37604.8828125\n",
      "  batch 19 loss: 34862.11929577979 val-loss: 42377.99609375\n",
      "  batch 20 loss: 53662.74030738902 val-loss: 37957.12890625\n",
      "  batch 21 loss: 39722.81482732185 val-loss: 43885.7109375\n",
      "  batch 22 loss: 32441.946401625777 val-loss: 27245.625\n",
      "  batch 23 loss: 24681.319074303934 val-loss: 28191.29296875\n",
      "  batch 24 loss: 24546.984548408294 val-loss: 25081.30859375\n"
     ]
    }
   ],
   "source": [
    "from torch.autograd import Variable \n",
    "final_train_dc, final_valid_dc = make_valid_set(train_inp_dc, train_out_dc)\n",
    "final_X_train_dc, final_y_train_dc = final_train_dc\n",
    "final_X_valid_dc, final_y_valid_dc = final_valid_dc\n",
    "final_X_train_dc = Variable(torch.Tensor(final_X_train_dc))\n",
    "final_y_train_dc = Variable(torch.Tensor(final_y_train_dc))\n",
    "final_X_valid_dc = Variable(torch.Tensor(final_X_valid_dc))\n",
    "final_y_valid_dc = Variable(torch.Tensor(final_y_valid_dc))\n",
    "\n",
    "train_data = []\n",
    "for i in range(len(final_X_train_dc)):\n",
    "    train_data.append([final_X_train_dc[i], final_y_train_dc[i]])\n",
    "    \n",
    "val_data = []\n",
    "for i in range(len(final_X_valid_dc)):\n",
    "    val_data.append([final_X_valid_dc[i], final_y_valid_dc[i]])\n",
    "    \n",
    "num_epochs = 25 #1000 epochs\n",
    "learning_rate = 0.001 #0.001 lr\n",
    "\n",
    "input_size = 2 #number of features\n",
    "hidden_size = 128 #number of features in hidden state\n",
    "num_layers = 1 #number of stacked lstm layers\n",
    "\n",
    "num_classes = 120 #number of output classes \n",
    "batch_size = 64\n",
    "\n",
    "lstm1 = LSTM1(num_classes, input_size, hidden_size, num_layers, final_X_train_dearborn.shape[1])\n",
    "criterion = torch.nn.MSELoss()    # mean-squared error for regression\n",
    "optimizer = torch.optim.Adam(lstm1.parameters(), lr=learning_rate)\n",
    "\n",
    "training_loader = torch.utils.data.DataLoader(train_data, batch_size=batch_size, shuffle=True, drop_last=True)\n",
    "validation_loader = torch.utils.data.DataLoader(val_data, batch_size=batch_size, shuffle=False, drop_last=True)\n",
    "\n",
    "\n",
    "for epoch in range(num_epochs):\n",
    "    running_loss = 0.\n",
    "    last_loss = 0.\n",
    "    \n",
    "    for i, data in enumerate(training_loader):\n",
    "        inputs, labels = data\n",
    "        inputs = inputs.float()\n",
    "        labels = labels.float()\n",
    "        outputs = lstm1.forward(inputs) #forward pass\n",
    "        labels = torch.reshape(labels, (batch_size, 120))\n",
    "        optimizer.zero_grad() #caluclate the gradient, manually setting to 0\n",
    "\n",
    "        # obtain the loss function\n",
    "        loss = criterion(outputs, labels)\n",
    "\n",
    "        loss.backward() #calculates the loss of the loss function\n",
    "\n",
    "        optimizer.step() #improve from loss, i.e backprop\n",
    "        \n",
    "        running_loss += loss.item()\n",
    "    \n",
    "    running_vloss = 0.\n",
    "    for i, vdata in enumerate(validation_loader):\n",
    "        vinputs, vlabels = vdata\n",
    "        vinputs = vinputs.float()\n",
    "        vlabels = vlabels.float()\n",
    "        voutputs = lstm1.forward(vinputs)\n",
    "        vlabels = torch.reshape(vlabels, (batch_size, 120))\n",
    "        vloss = criterion(voutputs, vlabels)\n",
    "        running_vloss += vloss  \n",
    "    last_loss = running_loss / len(training_loader) # loss per batch\n",
    "    last_vloss = running_vloss / len(validation_loader)\n",
    "    \n",
    "    model_path = 'models/dc_model_{}'.format(epoch)\n",
    "    torch.save(lstm1.state_dict(), model_path)\n",
    "        \n",
    "    print('  batch {} loss: {} val-loss: {}'.format(epoch, last_loss, last_vloss))"
   ]
  },
  {
   "cell_type": "code",
   "execution_count": 300,
   "id": "8a489752-ceeb-4046-922e-69f0e7a791c4",
   "metadata": {},
   "outputs": [
    {
     "name": "stdout",
     "output_type": "stream",
     "text": [
      "  batch 25 loss: 20870.112566321066 val-loss: 20559.96484375\n",
      "  batch 26 loss: 19240.552623332846 val-loss: 19937.3203125\n",
      "  batch 27 loss: 18895.283625997858 val-loss: 19408.453125\n",
      "  batch 28 loss: 17838.191768277844 val-loss: 18670.5234375\n",
      "  batch 29 loss: 17205.579354069316 val-loss: 18013.62109375\n",
      "  batch 30 loss: 24902.983631169685 val-loss: 20677.572265625\n",
      "  batch 31 loss: 18718.877201068437 val-loss: 18639.39453125\n",
      "  batch 32 loss: 17490.7750970478 val-loss: 22167.0703125\n",
      "  batch 33 loss: 17033.083204037674 val-loss: 15259.2314453125\n",
      "  batch 34 loss: 14312.85533336984 val-loss: 15120.251953125\n"
     ]
    }
   ],
   "source": []
  },
  {
   "cell_type": "code",
   "execution_count": 301,
   "id": "a9403578-e05d-4706-bc2f-bbadfac1be19",
   "metadata": {},
   "outputs": [
    {
     "name": "stdout",
     "output_type": "stream",
     "text": [
      "  batch 35 loss: 14823.043408355237 val-loss: 15066.3251953125\n",
      "  batch 36 loss: 12641.021847923968 val-loss: 11887.158203125\n",
      "  batch 37 loss: 11705.64586071359 val-loss: 15463.181640625\n",
      "  batch 38 loss: 14671.065326250973 val-loss: 16645.431640625\n",
      "  batch 39 loss: 12465.980671059677 val-loss: 11665.5634765625\n",
      "  batch 40 loss: 13225.928434092679 val-loss: 22456.814453125\n",
      "  batch 41 loss: 12706.826651029498 val-loss: 10407.0947265625\n",
      "  batch 42 loss: 10052.181590427863 val-loss: 10523.486328125\n",
      "  batch 43 loss: 10197.307609581872 val-loss: 11657.873046875\n",
      "  batch 44 loss: 9625.548239449474 val-loss: 10714.205078125\n"
     ]
    }
   ],
   "source": []
  },
  {
   "cell_type": "code",
   "execution_count": 302,
   "id": "1172527e-416e-4feb-b932-705e479f0406",
   "metadata": {},
   "outputs": [
    {
     "name": "stdout",
     "output_type": "stream",
     "text": [
      "  batch 45 loss: 12262.152672313085 val-loss: 14125.080078125\n",
      "  batch 46 loss: 18971.32902550623 val-loss: 14246.4609375\n",
      "  batch 47 loss: 12720.046070324668 val-loss: 13153.412109375\n",
      "  batch 48 loss: 12266.36843178057 val-loss: 12773.5439453125\n",
      "  batch 49 loss: 10345.924377251265 val-loss: 10931.8154296875\n",
      "  batch 50 loss: 10395.657048590829 val-loss: 10906.240234375\n",
      "  batch 51 loss: 15797.31979075399 val-loss: 13717.3251953125\n"
     ]
    },
    {
     "ename": "KeyboardInterrupt",
     "evalue": "",
     "output_type": "error",
     "traceback": [
      "\u001b[1;31m---------------------------------------------------------------------------\u001b[0m",
      "\u001b[1;31mKeyboardInterrupt\u001b[0m                         Traceback (most recent call last)",
      "\u001b[1;32m~\\AppData\\Local\\Temp/ipykernel_13980/92339644.py\u001b[0m in \u001b[0;36m<module>\u001b[1;34m\u001b[0m\n\u001b[0;32m      7\u001b[0m         \u001b[0minputs\u001b[0m \u001b[1;33m=\u001b[0m \u001b[0minputs\u001b[0m\u001b[1;33m.\u001b[0m\u001b[0mfloat\u001b[0m\u001b[1;33m(\u001b[0m\u001b[1;33m)\u001b[0m\u001b[1;33m\u001b[0m\u001b[1;33m\u001b[0m\u001b[0m\n\u001b[0;32m      8\u001b[0m         \u001b[0mlabels\u001b[0m \u001b[1;33m=\u001b[0m \u001b[0mlabels\u001b[0m\u001b[1;33m.\u001b[0m\u001b[0mfloat\u001b[0m\u001b[1;33m(\u001b[0m\u001b[1;33m)\u001b[0m\u001b[1;33m\u001b[0m\u001b[1;33m\u001b[0m\u001b[0m\n\u001b[1;32m----> 9\u001b[1;33m         \u001b[0moutputs\u001b[0m \u001b[1;33m=\u001b[0m \u001b[0mlstm1\u001b[0m\u001b[1;33m.\u001b[0m\u001b[0mforward\u001b[0m\u001b[1;33m(\u001b[0m\u001b[0minputs\u001b[0m\u001b[1;33m)\u001b[0m \u001b[1;31m#forward pass\u001b[0m\u001b[1;33m\u001b[0m\u001b[1;33m\u001b[0m\u001b[0m\n\u001b[0m\u001b[0;32m     10\u001b[0m         \u001b[0mlabels\u001b[0m \u001b[1;33m=\u001b[0m \u001b[0mtorch\u001b[0m\u001b[1;33m.\u001b[0m\u001b[0mreshape\u001b[0m\u001b[1;33m(\u001b[0m\u001b[0mlabels\u001b[0m\u001b[1;33m,\u001b[0m \u001b[1;33m(\u001b[0m\u001b[0mbatch_size\u001b[0m\u001b[1;33m,\u001b[0m \u001b[1;36m120\u001b[0m\u001b[1;33m)\u001b[0m\u001b[1;33m)\u001b[0m\u001b[1;33m\u001b[0m\u001b[1;33m\u001b[0m\u001b[0m\n\u001b[0;32m     11\u001b[0m         \u001b[0moptimizer\u001b[0m\u001b[1;33m.\u001b[0m\u001b[0mzero_grad\u001b[0m\u001b[1;33m(\u001b[0m\u001b[1;33m)\u001b[0m \u001b[1;31m#caluclate the gradient, manually setting to 0\u001b[0m\u001b[1;33m\u001b[0m\u001b[1;33m\u001b[0m\u001b[0m\n",
      "\u001b[1;32m~\\AppData\\Local\\Temp/ipykernel_13980/3436130384.py\u001b[0m in \u001b[0;36mforward\u001b[1;34m(self, x)\u001b[0m\n\u001b[0;32m     18\u001b[0m         \u001b[0mc_0\u001b[0m \u001b[1;33m=\u001b[0m \u001b[0mVariable\u001b[0m\u001b[1;33m(\u001b[0m\u001b[0mtorch\u001b[0m\u001b[1;33m.\u001b[0m\u001b[0mzeros\u001b[0m\u001b[1;33m(\u001b[0m\u001b[0mself\u001b[0m\u001b[1;33m.\u001b[0m\u001b[0mnum_layers\u001b[0m\u001b[1;33m,\u001b[0m \u001b[0mx\u001b[0m\u001b[1;33m.\u001b[0m\u001b[0msize\u001b[0m\u001b[1;33m(\u001b[0m\u001b[1;36m0\u001b[0m\u001b[1;33m)\u001b[0m\u001b[1;33m,\u001b[0m \u001b[0mself\u001b[0m\u001b[1;33m.\u001b[0m\u001b[0mhidden_size\u001b[0m\u001b[1;33m)\u001b[0m\u001b[1;33m)\u001b[0m \u001b[1;31m#internal state\u001b[0m\u001b[1;33m\u001b[0m\u001b[1;33m\u001b[0m\u001b[0m\n\u001b[0;32m     19\u001b[0m         \u001b[1;31m# Propagate input through LSTM\u001b[0m\u001b[1;33m\u001b[0m\u001b[1;33m\u001b[0m\u001b[0m\n\u001b[1;32m---> 20\u001b[1;33m         \u001b[0moutput\u001b[0m\u001b[1;33m,\u001b[0m \u001b[1;33m(\u001b[0m\u001b[0mhn\u001b[0m\u001b[1;33m,\u001b[0m \u001b[0mcn\u001b[0m\u001b[1;33m)\u001b[0m \u001b[1;33m=\u001b[0m \u001b[0mself\u001b[0m\u001b[1;33m.\u001b[0m\u001b[0mlstm\u001b[0m\u001b[1;33m(\u001b[0m\u001b[0mx\u001b[0m\u001b[1;33m,\u001b[0m \u001b[1;33m(\u001b[0m\u001b[0mh_0\u001b[0m\u001b[1;33m,\u001b[0m \u001b[0mc_0\u001b[0m\u001b[1;33m)\u001b[0m\u001b[1;33m)\u001b[0m \u001b[1;31m#lstm with input, hidden, and internal state\u001b[0m\u001b[1;33m\u001b[0m\u001b[1;33m\u001b[0m\u001b[0m\n\u001b[0m\u001b[0;32m     21\u001b[0m         \u001b[1;31m#output, hn = self.lstm(x, h_0.detach())\u001b[0m\u001b[1;33m\u001b[0m\u001b[1;33m\u001b[0m\u001b[0m\n\u001b[0;32m     22\u001b[0m         \u001b[0mhn\u001b[0m \u001b[1;33m=\u001b[0m \u001b[0mhn\u001b[0m\u001b[1;33m.\u001b[0m\u001b[0mview\u001b[0m\u001b[1;33m(\u001b[0m\u001b[1;33m-\u001b[0m\u001b[1;36m1\u001b[0m\u001b[1;33m,\u001b[0m \u001b[0mself\u001b[0m\u001b[1;33m.\u001b[0m\u001b[0mhidden_size\u001b[0m\u001b[1;33m)\u001b[0m \u001b[1;31m#reshaping the data for Dense layer next\u001b[0m\u001b[1;33m\u001b[0m\u001b[1;33m\u001b[0m\u001b[0m\n",
      "\u001b[1;32m~\\mambaforge\\lib\\site-packages\\torch\\nn\\modules\\module.py\u001b[0m in \u001b[0;36m_call_impl\u001b[1;34m(self, *input, **kwargs)\u001b[0m\n\u001b[0;32m   1049\u001b[0m         if not (self._backward_hooks or self._forward_hooks or self._forward_pre_hooks or _global_backward_hooks\n\u001b[0;32m   1050\u001b[0m                 or _global_forward_hooks or _global_forward_pre_hooks):\n\u001b[1;32m-> 1051\u001b[1;33m             \u001b[1;32mreturn\u001b[0m \u001b[0mforward_call\u001b[0m\u001b[1;33m(\u001b[0m\u001b[1;33m*\u001b[0m\u001b[0minput\u001b[0m\u001b[1;33m,\u001b[0m \u001b[1;33m**\u001b[0m\u001b[0mkwargs\u001b[0m\u001b[1;33m)\u001b[0m\u001b[1;33m\u001b[0m\u001b[1;33m\u001b[0m\u001b[0m\n\u001b[0m\u001b[0;32m   1052\u001b[0m         \u001b[1;31m# Do not call functions when jit is used\u001b[0m\u001b[1;33m\u001b[0m\u001b[1;33m\u001b[0m\u001b[0m\n\u001b[0;32m   1053\u001b[0m         \u001b[0mfull_backward_hooks\u001b[0m\u001b[1;33m,\u001b[0m \u001b[0mnon_full_backward_hooks\u001b[0m \u001b[1;33m=\u001b[0m \u001b[1;33m[\u001b[0m\u001b[1;33m]\u001b[0m\u001b[1;33m,\u001b[0m \u001b[1;33m[\u001b[0m\u001b[1;33m]\u001b[0m\u001b[1;33m\u001b[0m\u001b[1;33m\u001b[0m\u001b[0m\n",
      "\u001b[1;32m~\\mambaforge\\lib\\site-packages\\torch\\nn\\modules\\rnn.py\u001b[0m in \u001b[0;36mforward\u001b[1;34m(self, input, hx)\u001b[0m\n\u001b[0;32m    677\u001b[0m         \u001b[0mself\u001b[0m\u001b[1;33m.\u001b[0m\u001b[0mcheck_forward_args\u001b[0m\u001b[1;33m(\u001b[0m\u001b[0minput\u001b[0m\u001b[1;33m,\u001b[0m \u001b[0mhx\u001b[0m\u001b[1;33m,\u001b[0m \u001b[0mbatch_sizes\u001b[0m\u001b[1;33m)\u001b[0m\u001b[1;33m\u001b[0m\u001b[1;33m\u001b[0m\u001b[0m\n\u001b[0;32m    678\u001b[0m         \u001b[1;32mif\u001b[0m \u001b[0mbatch_sizes\u001b[0m \u001b[1;32mis\u001b[0m \u001b[1;32mNone\u001b[0m\u001b[1;33m:\u001b[0m\u001b[1;33m\u001b[0m\u001b[1;33m\u001b[0m\u001b[0m\n\u001b[1;32m--> 679\u001b[1;33m             result = _VF.lstm(input, hx, self._flat_weights, self.bias, self.num_layers,\n\u001b[0m\u001b[0;32m    680\u001b[0m                               self.dropout, self.training, self.bidirectional, self.batch_first)\n\u001b[0;32m    681\u001b[0m         \u001b[1;32melse\u001b[0m\u001b[1;33m:\u001b[0m\u001b[1;33m\u001b[0m\u001b[1;33m\u001b[0m\u001b[0m\n",
      "\u001b[1;31mKeyboardInterrupt\u001b[0m: "
     ]
    }
   ],
   "source": []
  },
  {
   "cell_type": "code",
   "execution_count": 303,
   "id": "195ab400-650d-4509-9d3c-fd83e6035b43",
   "metadata": {},
   "outputs": [],
   "source": [
    "saved_model =  LSTM1(num_classes, input_size, hidden_size, num_layers, final_X_train_dearborn.shape[1])\n",
    "saved_model.load_state_dict(torch.load(\"models/dc_model_44\"))\n",
    "dc_pred = saved_model(Variable(torch.Tensor(test_city_datasets[4])))"
   ]
  },
  {
   "cell_type": "code",
   "execution_count": 304,
   "id": "3d8bf1dd-599a-4a37-9d19-abe8120a573d",
   "metadata": {},
   "outputs": [
    {
     "name": "stdout",
     "output_type": "stream",
     "text": [
      "  batch 0 loss: 1727939.8200250836 val-loss: 896052.75\n",
      "  batch 1 loss: 641530.0569607023 val-loss: 491730.3125\n",
      "  batch 2 loss: 357422.4048651756 val-loss: 295659.75\n",
      "  batch 3 loss: 236151.91991534282 val-loss: 216103.796875\n",
      "  batch 4 loss: 181000.55429556855 val-loss: 182730.953125\n",
      "  batch 5 loss: 148942.11881401547 val-loss: 150697.25\n",
      "  batch 6 loss: 123621.28375182902 val-loss: 127784.484375\n",
      "  batch 7 loss: 104462.21296574519 val-loss: 111230.765625\n",
      "  batch 8 loss: 90881.81007329118 val-loss: 101382.7578125\n",
      "  batch 9 loss: 79470.12119173286 val-loss: 91764.484375\n",
      "  batch 10 loss: 72138.47676826401 val-loss: 82007.8515625\n",
      "  batch 11 loss: 64049.80126299906 val-loss: 68253.7265625\n",
      "  batch 12 loss: 51975.38996851484 val-loss: 53901.73828125\n",
      "  batch 13 loss: 37017.63875679348 val-loss: 37576.51171875\n",
      "  batch 14 loss: 24387.09770115881 val-loss: 24067.212890625\n",
      "  batch 15 loss: 17739.719907014267 val-loss: 14248.96484375\n",
      "  batch 16 loss: 12607.326096754809 val-loss: 13202.2197265625\n",
      "  batch 17 loss: 12078.909147026547 val-loss: 11285.8056640625\n",
      "  batch 18 loss: 9216.253573924801 val-loss: 8021.87744140625\n",
      "  batch 19 loss: 8826.852913846938 val-loss: 8166.255859375\n",
      "  batch 20 loss: 8447.069635601745 val-loss: 10035.517578125\n",
      "  batch 21 loss: 9694.9412143669 val-loss: 9614.5166015625\n",
      "  batch 22 loss: 10213.065135738922 val-loss: 9144.1298828125\n",
      "  batch 23 loss: 10771.2339740868 val-loss: 8034.51171875\n",
      "  batch 24 loss: 10883.243947925377 val-loss: 11918.005859375\n"
     ]
    }
   ],
   "source": [
    "from torch.autograd import Variable \n",
    "final_train_palo_alto, final_valid_palo_alto = make_valid_set(train_inp_palo_alto, train_out_palo_alto)\n",
    "final_X_train_palo_alto, final_y_train_palo_alto = final_train_palo_alto\n",
    "final_X_valid_palo_alto, final_y_valid_palo_alto = final_valid_palo_alto\n",
    "final_X_train_palo_alto = Variable(torch.Tensor(final_X_train_palo_alto))\n",
    "final_y_train_palo_alto = Variable(torch.Tensor(final_y_train_palo_alto))\n",
    "final_X_valid_palo_alto = Variable(torch.Tensor(final_X_valid_palo_alto))\n",
    "final_y_valid_palo_alto = Variable(torch.Tensor(final_y_valid_palo_alto))\n",
    "\n",
    "train_data = []\n",
    "for i in range(len(final_X_train_palo_alto)):\n",
    "    train_data.append([final_X_train_palo_alto[i], final_y_train_palo_alto[i]])\n",
    "    \n",
    "val_data = []\n",
    "for i in range(len(final_X_valid_palo_alto)):\n",
    "    val_data.append([final_X_valid_palo_alto[i], final_y_valid_palo_alto[i]])\n",
    "    \n",
    "num_epochs = 25 #1000 epochs\n",
    "learning_rate = 0.001 #0.001 lr\n",
    "\n",
    "input_size = 2 #number of features\n",
    "hidden_size = 128 #number of features in hidden state\n",
    "num_layers = 1 #number of stacked lstm layers\n",
    "\n",
    "num_classes = 120 #number of output classes \n",
    "batch_size = 32\n",
    "\n",
    "lstm1 = LSTM1(num_classes, input_size, hidden_size, num_layers, final_X_train_dearborn.shape[1])\n",
    "criterion = torch.nn.MSELoss()    # mean-squared error for regression\n",
    "optimizer = torch.optim.Adam(lstm1.parameters(), lr=learning_rate)\n",
    "\n",
    "training_loader = torch.utils.data.DataLoader(train_data, batch_size=batch_size, shuffle=True, drop_last=True)\n",
    "validation_loader = torch.utils.data.DataLoader(val_data, batch_size=batch_size, shuffle=False, drop_last=True)\n",
    "\n",
    "\n",
    "for epoch in range(num_epochs):\n",
    "    running_loss = 0.\n",
    "    last_loss = 0.\n",
    "    \n",
    "    for i, data in enumerate(training_loader):\n",
    "        inputs, labels = data\n",
    "        inputs = inputs.float()\n",
    "        labels = labels.float()\n",
    "        outputs = lstm1.forward(inputs) #forward pass\n",
    "        labels = torch.reshape(labels, (batch_size, 120))\n",
    "        optimizer.zero_grad() #caluclate the gradient, manually setting to 0\n",
    "\n",
    "        # obtain the loss function\n",
    "        loss = criterion(outputs, labels)\n",
    "\n",
    "        loss.backward() #calculates the loss of the loss function\n",
    "\n",
    "        optimizer.step() #improve from loss, i.e backprop\n",
    "        \n",
    "        running_loss += loss.item()\n",
    "    \n",
    "    running_vloss = 0.\n",
    "    for i, vdata in enumerate(validation_loader):\n",
    "        vinputs, vlabels = vdata\n",
    "        vinputs = vinputs.float()\n",
    "        vlabels = vlabels.float()\n",
    "        voutputs = lstm1.forward(vinputs)\n",
    "        vlabels = torch.reshape(vlabels, (batch_size, 120))\n",
    "        vloss = criterion(voutputs, vlabels)\n",
    "        running_vloss += vloss  \n",
    "    last_loss = running_loss / len(training_loader) # loss per batch\n",
    "    last_vloss = running_vloss / len(validation_loader)\n",
    "    \n",
    "    model_path = 'models/palo_alto_model_{}'.format(epoch)\n",
    "    torch.save(lstm1.state_dict(), model_path)\n",
    "        \n",
    "    print('  batch {} loss: {} val-loss: {}'.format(epoch, last_loss, last_vloss))"
   ]
  },
  {
   "cell_type": "code",
   "execution_count": 305,
   "id": "7ce6699c-004a-4152-a512-e4fde04ba75b",
   "metadata": {},
   "outputs": [
    {
     "name": "stdout",
     "output_type": "stream",
     "text": [
      "  batch 25 loss: 9438.398528950669 val-loss: 8908.4326171875\n",
      "  batch 26 loss: 9541.507524267088 val-loss: 10313.078125\n",
      "  batch 27 loss: 10729.393908242319 val-loss: 8920.591796875\n",
      "  batch 28 loss: 9277.954579228941 val-loss: 8852.4306640625\n",
      "  batch 29 loss: 9895.764998726223 val-loss: 10005.365234375\n",
      "  batch 30 loss: 8461.06129317778 val-loss: 5681.20556640625\n",
      "  batch 31 loss: 11585.077379513743 val-loss: 10214.224609375\n",
      "  batch 32 loss: 8234.161047894022 val-loss: 9101.7099609375\n",
      "  batch 33 loss: 8674.013209722512 val-loss: 8218.70703125\n",
      "  batch 34 loss: 10579.121794327446 val-loss: 11890.3154296875\n"
     ]
    }
   ],
   "source": []
  },
  {
   "cell_type": "code",
   "execution_count": 306,
   "id": "3cd9840a-f3a0-4496-9822-343bf160043e",
   "metadata": {},
   "outputs": [],
   "source": [
    "saved_model =  LSTM1(num_classes, input_size, hidden_size, num_layers, final_X_train_dearborn.shape[1])\n",
    "saved_model.load_state_dict(torch.load(\"models/palo_alto_model_30\"))\n",
    "palo_alto_pred = saved_model(Variable(torch.Tensor(test_city_datasets[5])))"
   ]
  },
  {
   "cell_type": "code",
   "execution_count": 319,
   "id": "b0b545b4-e74e-4ed5-855e-31a068e40a35",
   "metadata": {},
   "outputs": [],
   "source": [
    "pred_combined = torch.cat((austin_pred, miami_pred, pittsburgh_pred, dearborn_pred, dc_pred, palo_alto_pred))\n",
    "df = pd.DataFrame(pred_combined.to(\"cpu\").detach().numpy())\n",
    "df = df.rename(columns=dict(zip(np.arange(120), [\"v\" + str(i) for i in np.arange(120)])))\n",
    "idd = ([str(i) + \"_austin\" for i in np.arange(len(test_city_datasets[0]))] +\n",
    "       [str(i) + \"_miami\" for i in np.arange(len(test_city_datasets[1]))] +\n",
    "       [str(i) + \"_pittsburgh\" for i in np.arange(len(test_city_datasets[2]))] +\n",
    "       [str(i) + \"_dearborn\" for i in np.arange(len(test_city_datasets[3]))] +\n",
    "       [str(i) + \"_washington-dc\" for i in np.arange(len(test_city_datasets[4]))] +\n",
    "       [str(i) + \"_palo-alto\" for i in np.arange(len(test_city_datasets[5]))])\n",
    "df.insert(loc=0, column='ID', value=idd)"
   ]
  },
  {
   "cell_type": "code",
   "execution_count": 323,
   "id": "d069f64d-9e9b-43fd-ad4c-320dfe0b1454",
   "metadata": {},
   "outputs": [],
   "source": [
    "df.to_csv('gottem.csv', index=False)"
   ]
  },
  {
   "cell_type": "code",
   "execution_count": 382,
   "id": "971d5a3e-edae-4dca-9b57-e4f2e6127316",
   "metadata": {},
   "outputs": [],
   "source": [
    "# final_X_train_austin.shape"
   ]
  },
  {
   "cell_type": "code",
   "execution_count": 321,
   "id": "bd6a32f5-eccc-4df8-90f7-e4ff7525ea87",
   "metadata": {},
   "outputs": [
    {
     "data": {
      "text/plain": [
       "array([[[  566.7580094 ,  1909.85977658],\n",
       "        [  567.07167153,  1909.61076666],\n",
       "        [  567.47438548,  1909.29126789],\n",
       "        ...,\n",
       "        [  590.27947653,  1891.66775146],\n",
       "        [  590.46251558,  1891.52973094],\n",
       "        [  590.63748584,  1891.39721989]],\n",
       "\n",
       "       [[ 1445.02506686,  1711.63108638],\n",
       "        [ 1444.75691963,  1711.42949566],\n",
       "        [ 1444.42618401,  1711.18272781],\n",
       "        ...,\n",
       "        [ 1435.34267571,  1704.62335941],\n",
       "        [ 1435.24110026,  1704.54832753],\n",
       "        [ 1435.12487112,  1704.46185978]],\n",
       "\n",
       "       [[ -985.24847224,  2044.65649992],\n",
       "        [ -985.45727083,  2044.7050517 ],\n",
       "        [ -985.67159575,  2044.7517193 ],\n",
       "        ...,\n",
       "        [-1002.85679764,  2050.23593591],\n",
       "        [-1003.46628244,  2050.70323354],\n",
       "        [-1004.0932826 ,  2051.19551226]],\n",
       "\n",
       "       ...,\n",
       "\n",
       "       [[-1441.28982065,  2164.64672942],\n",
       "        [-1441.28064224,  2164.63988764],\n",
       "        [-1441.27001439,  2164.63193918],\n",
       "        ...,\n",
       "        [-1437.55668555,  2161.91808901],\n",
       "        [-1437.28067905,  2161.66489204],\n",
       "        [-1437.02342569,  2161.43347172]],\n",
       "\n",
       "       [[ 1045.65287713,  1373.93698968],\n",
       "        [ 1045.91281012,  1374.14708439],\n",
       "        [ 1046.22461943,  1374.40384252],\n",
       "        ...,\n",
       "        [ 1070.25152929,  1396.49354121],\n",
       "        [ 1070.83509717,  1397.02202726],\n",
       "        [ 1071.41851376,  1397.54965388]],\n",
       "\n",
       "       [[ -103.12667191,   461.63752376],\n",
       "        [ -102.44731074,   461.20456237],\n",
       "        [ -101.6084029 ,   460.67072113],\n",
       "        ...,\n",
       "        [  -40.0006031 ,   422.71690488],\n",
       "        [  -38.62748549,   421.88466235],\n",
       "        [  -37.2509706 ,   421.05260875]]])"
      ]
     },
     "execution_count": 321,
     "metadata": {},
     "output_type": "execute_result"
    }
   ],
   "source": [
    "test_city_datasets[5]"
   ]
  },
  {
   "cell_type": "code",
   "execution_count": null,
   "id": "5117dcfa-e294-45eb-b452-6c5a20498b08",
   "metadata": {},
   "outputs": [],
   "source": []
  }
 ],
 "metadata": {
  "kernelspec": {
   "display_name": "Python 3 (ipykernel)",
   "language": "python",
   "name": "python3"
  },
  "language_info": {
   "codemirror_mode": {
    "name": "ipython",
    "version": 3
   },
   "file_extension": ".py",
   "mimetype": "text/x-python",
   "name": "python",
   "nbconvert_exporter": "python",
   "pygments_lexer": "ipython3",
   "version": "3.7.4"
  }
 },
 "nbformat": 4,
 "nbformat_minor": 5
}
